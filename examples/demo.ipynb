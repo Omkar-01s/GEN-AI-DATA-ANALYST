{
 "cells": [
  {
   "cell_type": "code",
   "execution_count": 1,
   "id": "ec662d1e",
   "metadata": {},
   "outputs": [],
   "source": [
    "import sys\n",
    "import os\n",
    "\n",
    "# Add parent directory (../) to Python's search path\n",
    "sys.path.append(os.path.abspath(\"..\"))"
   ]
  },
  {
   "cell_type": "code",
   "execution_count": 2,
   "metadata": {},
   "outputs": [],
   "source": [
    "import numpy as np\n",
    "import pandas as pd\n"
   ]
  },
  {
   "cell_type": "markdown",
   "id": "a1c0930d",
   "metadata": {},
   "source": [
    "DATA IMPORT"
   ]
  },
  {
   "cell_type": "code",
   "execution_count": 3,
   "id": "67c618fc",
   "metadata": {},
   "outputs": [],
   "source": [
    "raw_data = pd.read_excel('/workspaces/GEN-AI-DATA-ANALYST/data/e_commerce.xlsx')"
   ]
  },
  {
   "cell_type": "code",
   "execution_count": 4,
   "id": "c4e98308",
   "metadata": {},
   "outputs": [
    {
     "data": {
      "text/html": [
       "<div>\n",
       "<style scoped>\n",
       "    .dataframe tbody tr th:only-of-type {\n",
       "        vertical-align: middle;\n",
       "    }\n",
       "\n",
       "    .dataframe tbody tr th {\n",
       "        vertical-align: top;\n",
       "    }\n",
       "\n",
       "    .dataframe thead th {\n",
       "        text-align: right;\n",
       "    }\n",
       "</style>\n",
       "<table border=\"1\" class=\"dataframe\">\n",
       "  <thead>\n",
       "    <tr style=\"text-align: right;\">\n",
       "      <th></th>\n",
       "      <th>index</th>\n",
       "      <th>Order ID</th>\n",
       "      <th>Cust ID</th>\n",
       "      <th>Gender</th>\n",
       "      <th>Age</th>\n",
       "      <th>Date</th>\n",
       "      <th>Status</th>\n",
       "      <th>Channel</th>\n",
       "      <th>SKU</th>\n",
       "      <th>Category</th>\n",
       "      <th>Size</th>\n",
       "      <th>Qty</th>\n",
       "      <th>currency</th>\n",
       "      <th>Amount</th>\n",
       "      <th>ship-city</th>\n",
       "      <th>ship-postal-code</th>\n",
       "      <th>ship-country</th>\n",
       "      <th>B2B</th>\n",
       "    </tr>\n",
       "  </thead>\n",
       "  <tbody>\n",
       "    <tr>\n",
       "      <th>0</th>\n",
       "      <td>1</td>\n",
       "      <td>171-1029312-3038738</td>\n",
       "      <td>1029312</td>\n",
       "      <td>Women</td>\n",
       "      <td>44</td>\n",
       "      <td>2022-12-04</td>\n",
       "      <td>Delivered</td>\n",
       "      <td>Myntra</td>\n",
       "      <td>JNE1233-BLUE-KR-031-XXL</td>\n",
       "      <td>kurta</td>\n",
       "      <td>XXL</td>\n",
       "      <td>1</td>\n",
       "      <td>INR</td>\n",
       "      <td>376</td>\n",
       "      <td>MOHALI</td>\n",
       "      <td>140301</td>\n",
       "      <td>IN</td>\n",
       "      <td>False</td>\n",
       "    </tr>\n",
       "    <tr>\n",
       "      <th>1</th>\n",
       "      <td>2</td>\n",
       "      <td>405-2183842-2225946</td>\n",
       "      <td>2183842</td>\n",
       "      <td>Women</td>\n",
       "      <td>29</td>\n",
       "      <td>2022-12-04</td>\n",
       "      <td>Delivered</td>\n",
       "      <td>Ajio</td>\n",
       "      <td>SET414-KR-NP-L</td>\n",
       "      <td>Set</td>\n",
       "      <td>L</td>\n",
       "      <td>1</td>\n",
       "      <td>INR</td>\n",
       "      <td>1449</td>\n",
       "      <td>GURUGRAM</td>\n",
       "      <td>122002</td>\n",
       "      <td>IN</td>\n",
       "      <td>False</td>\n",
       "    </tr>\n",
       "  </tbody>\n",
       "</table>\n",
       "</div>"
      ],
      "text/plain": [
       "   index             Order ID  Cust ID Gender  Age       Date     Status  \\\n",
       "0      1  171-1029312-3038738  1029312  Women   44 2022-12-04  Delivered   \n",
       "1      2  405-2183842-2225946  2183842  Women   29 2022-12-04  Delivered   \n",
       "\n",
       "  Channel                       SKU Category Size Qty currency  Amount  \\\n",
       "0   Myntra  JNE1233-BLUE-KR-031-XXL    kurta  XXL   1      INR     376   \n",
       "1     Ajio           SET414-KR-NP-L      Set    L   1      INR    1449   \n",
       "\n",
       "  ship-city  ship-postal-code ship-country    B2B  \n",
       "0    MOHALI            140301           IN  False  \n",
       "1  GURUGRAM            122002           IN  False  "
      ]
     },
     "execution_count": 4,
     "metadata": {},
     "output_type": "execute_result"
    }
   ],
   "source": [
    "raw_data.head(2)"
   ]
  },
  {
   "cell_type": "code",
   "execution_count": 5,
   "id": "b51dff59",
   "metadata": {},
   "outputs": [],
   "source": [
    "def scalable_data_profiler(df, sample_size=10000, top_n=5):\n",
    "    print(\"📊 BASIC INFO\")\n",
    "    print(f\"- Shape: {df.shape}\")\n",
    "    print(f\"- Columns: {list(df.columns[:10])}...\")  # show only first 10\n",
    "    print(f\"- Memory Usage: ~{df.memory_usage(deep=False).sum() / 1024**2:.2f} MB\\n\")\n",
    "\n",
    "    print(\"🔍 MISSING VALUES (%):\")\n",
    "    missing = df.isnull().mean() * 100\n",
    "    print(missing[missing > 0].sort_values(ascending=False).head(10), \"\\n\")\n",
    "\n",
    "    print(\"🧮 UNIQUE VALUES (Top 10 Columns):\")\n",
    "    unique_counts = df.nunique().sort_values(ascending=False).head(10)\n",
    "    print(unique_counts, \"\\n\")\n",
    "\n",
    "    print(\"📈 NUMERICAL STATS (Sampled if > sample_size):\")\n",
    "    df_sample = df.sample(sample_size) if len(df) > sample_size else df\n",
    "    print(df_sample.describe(include=[np.number]).T, \"\\n\")\n",
    "\n",
    "    print(\"🗂️ CATEGORICAL PREVIEW:\")\n",
    "    cat_cols = df.select_dtypes(include=['object', 'category']).columns\n",
    "    for col in cat_cols[:10]:  # process only first 10 for speed\n",
    "        print(f\"\\n🔹 Column: {col}\")\n",
    "        print(f\" - Unique: {df[col].nunique()}\")\n",
    "        print(f\" - Top {top_n}:\\n{df[col].astype(str).value_counts(dropna=False).head(top_n)}\")\n",
    "\n",
    "    print(\"\\n📊 CORRELATION MATRIX (Top Pairs Only):\")\n",
    "    num_cols = df.select_dtypes(include=np.number)\n",
    "    if num_cols.shape[1] >= 2:\n",
    "        corr = num_cols.corr().abs().unstack().sort_values(ascending=False)\n",
    "        corr = corr[corr < 1.0].drop_duplicates().head(10)\n",
    "        print(corr)\n",
    "    else:\n",
    "        print(\" - Not enough numerical columns for correlation.\")"
   ]
  },
  {
   "cell_type": "code",
   "execution_count": 6,
   "id": "884942aa",
   "metadata": {},
   "outputs": [
    {
     "name": "stdout",
     "output_type": "stream",
     "text": [
      "📊 BASIC INFO\n",
      "- Shape: (31047, 18)\n",
      "- Columns: ['index', 'Order ID', 'Cust ID', 'Gender', 'Age', 'Date', 'Status', 'Channel ', 'SKU', 'Category']...\n",
      "- Memory Usage: ~4.06 MB\n",
      "\n",
      "🔍 MISSING VALUES (%):\n",
      "Series([], dtype: float64) \n",
      "\n",
      "🧮 UNIQUE VALUES (Top 10 Columns):\n",
      "index               31047\n",
      "Order ID            28471\n",
      "Cust ID             28437\n",
      "SKU                  5287\n",
      "ship-postal-code     4958\n",
      "ship-city            2603\n",
      "Amount                769\n",
      "Age                    61\n",
      "Date                   36\n",
      "Size                   11\n",
      "dtype: int64 \n",
      "\n",
      "📈 NUMERICAL STATS (Sampled if > sample_size):\n",
      "                    count          mean           std       min         25%  \\\n",
      "index             10000.0  1.536467e+04  8.969595e+03       1.0     7542.75   \n",
      "Cust ID           10000.0  4.900196e+06  2.892661e+06    1579.0  2400223.25   \n",
      "Age               10000.0  3.946170e+01  1.503570e+01      18.0       28.00   \n",
      "Amount            10000.0  6.826656e+02  2.725935e+02     229.0      481.00   \n",
      "ship-postal-code  10000.0  4.612610e+05  1.963220e+05  110001.0   324005.00   \n",
      "\n",
      "                        50%         75%        max  \n",
      "index               15236.5    23159.25    31036.0  \n",
      "Cust ID           4892847.5  7396982.50  9999233.0  \n",
      "Age                    37.0       47.00       78.0  \n",
      "Amount                646.0      799.00     2894.0  \n",
      "ship-postal-code   500033.0   600034.00   855116.0   \n",
      "\n",
      "🗂️ CATEGORICAL PREVIEW:\n",
      "\n",
      "🔹 Column: Order ID\n",
      " - Unique: 28471\n",
      " - Top 5:\n",
      "Order ID\n",
      "403-4984515-8861958    12\n",
      "403-0173977-3041148    11\n",
      "404-3701762-8241125     9\n",
      "402-2997706-3326710     8\n",
      "403-9984530-4477124     7\n",
      "Name: count, dtype: int64\n",
      "\n",
      "🔹 Column: Gender\n",
      " - Unique: 4\n",
      " - Top 5:\n",
      "Gender\n",
      "Women    21479\n",
      "Men       9452\n",
      "W           74\n",
      "M           42\n",
      "Name: count, dtype: int64\n",
      "\n",
      "🔹 Column: Status\n",
      " - Unique: 4\n",
      " - Top 5:\n",
      "Status\n",
      "Delivered    28641\n",
      "Returned      1045\n",
      "Cancelled      844\n",
      "Refunded       517\n",
      "Name: count, dtype: int64\n",
      "\n",
      "🔹 Column: Channel \n",
      " - Unique: 7\n",
      " - Top 5:\n",
      "Channel \n",
      "Amazon      11016\n",
      "Myntra       7254\n",
      "Flipkart     6703\n",
      "Ajio         1931\n",
      "Nalli        1484\n",
      "Name: count, dtype: int64\n",
      "\n",
      "🔹 Column: SKU\n",
      " - Unique: 5287\n",
      " - Top 5:\n",
      "SKU\n",
      "JNE3797-KR-L      273\n",
      "JNE3797-KR-M      232\n",
      "JNE3797-KR-S      169\n",
      "JNE3797-KR-XXL    150\n",
      "JNE3797-KR-XL     149\n",
      "Name: count, dtype: int64\n",
      "\n",
      "🔹 Column: Category\n",
      " - Unique: 8\n",
      " - Top 5:\n",
      "Category\n",
      "Set              12391\n",
      "kurta            10446\n",
      "Western Dress     4066\n",
      "Top               2193\n",
      "Saree             1380\n",
      "Name: count, dtype: int64\n",
      "\n",
      "🔹 Column: Size\n",
      " - Unique: 11\n",
      " - Top 5:\n",
      "Size\n",
      "M      5485\n",
      "L      5144\n",
      "XL     4437\n",
      "S      4176\n",
      "XXL    4065\n",
      "Name: count, dtype: int64\n",
      "\n",
      "🔹 Column: Qty\n",
      " - Unique: 7\n",
      " - Top 5:\n",
      "Qty\n",
      "1      30878\n",
      "2        114\n",
      "3         19\n",
      "Two       16\n",
      "One       13\n",
      "Name: count, dtype: int64\n",
      "\n",
      "🔹 Column: currency\n",
      " - Unique: 1\n",
      " - Top 5:\n",
      "currency\n",
      "INR    31047\n",
      "Name: count, dtype: int64\n",
      "\n",
      "🔹 Column: ship-city\n",
      " - Unique: 2603\n",
      " - Top 5:\n",
      "ship-city\n",
      "BENGALURU    2540\n",
      "HYDERABAD    1785\n",
      "NEW DELHI    1560\n",
      "CHENNAI      1272\n",
      "MUMBAI       1224\n",
      "Name: count, dtype: int64\n",
      "\n",
      "📊 CORRELATION MATRIX (Top Pairs Only):\n",
      "ship-postal-code  Amount              0.053002\n",
      "Amount            index               0.018988\n",
      "ship-postal-code  index               0.007707\n",
      "                  Cust ID             0.005703\n",
      "index             Cust ID             0.004680\n",
      "Amount            Age                 0.003522\n",
      "index             Age                 0.002517\n",
      "Age               ship-postal-code    0.001582\n",
      "                  Cust ID             0.001286\n",
      "Cust ID           Amount              0.000691\n",
      "dtype: float64\n"
     ]
    }
   ],
   "source": [
    "scalable_data_profiler(raw_data)"
   ]
  },
  {
   "cell_type": "markdown",
   "id": "3979aab7",
   "metadata": {},
   "source": [
    "2.0 DATA PREPROCESSING"
   ]
  },
  {
   "cell_type": "code",
   "execution_count": 7,
   "id": "1a87e49e",
   "metadata": {},
   "outputs": [],
   "source": [
    "from genai_dataanalyst.assistant import AnalystAssistant\n",
    "assistant = AnalystAssistant()"
   ]
  },
  {
   "cell_type": "markdown",
   "id": "f8917e48",
   "metadata": {},
   "source": [
    "2.1 Solves Categorical Problem"
   ]
  },
  {
   "cell_type": "markdown",
   "id": "f1d052a2",
   "metadata": {},
   "source": [
    "If You standardized the Gender column to ensure it contains only 'Men' or 'Women' by replacing abbreviations: 'W' was changed to 'Women' and 'M' to 'Men'. This makes gender data clean and consistent for analysis."
   ]
  },
  {
   "cell_type": "code",
   "execution_count": 8,
   "id": "8a68f914",
   "metadata": {},
   "outputs": [
    {
     "name": "stdout",
     "output_type": "stream",
     "text": [
      "[INFO] [CLEAN] Prompt: Standardize the 'Gender' column so that it only contains 'Men' or 'Women'. Replace 'W' with 'Women' and 'M' with 'Men'.\n",
      "[DEBUG] [CLEAN] Generated Code:\n",
      " df['Gender'] = df['Gender'].replace({'W': 'Women', 'M': 'Men'})\n"
     ]
    }
   ],
   "source": [
    "new_data = assistant.clean(raw_data, prompt=\"Standardize the 'Gender' column so that it only contains 'Men' or 'Women'. Replace 'W' with 'Women' and 'M' with 'Men'.\")"
   ]
  },
  {
   "cell_type": "code",
   "execution_count": 9,
   "id": "cd8fc8b1",
   "metadata": {},
   "outputs": [
    {
     "data": {
      "text/plain": [
       "array(['Women', 'Men'], dtype=object)"
      ]
     },
     "execution_count": 9,
     "metadata": {},
     "output_type": "execute_result"
    }
   ],
   "source": [
    "new_data['Gender'].unique() # New data"
   ]
  },
  {
   "cell_type": "code",
   "execution_count": 10,
   "id": "58f89387",
   "metadata": {},
   "outputs": [
    {
     "data": {
      "text/plain": [
       "array(['Women', 'Men', 'W', 'M'], dtype=object)"
      ]
     },
     "execution_count": 10,
     "metadata": {},
     "output_type": "execute_result"
    }
   ],
   "source": [
    "raw_data['Gender'].unique()  # Old data"
   ]
  },
  {
   "cell_type": "markdown",
   "id": "2b9753cc",
   "metadata": {},
   "source": [
    "If You cleaned the Qty column by converting text values like 'One' and 'Two' into their numeric forms 1 and 2, so the entire column now contains only numbers. This makes quantity data consistent and ready for calculations"
   ]
  },
  {
   "cell_type": "code",
   "execution_count": 11,
   "id": "60690d22",
   "metadata": {},
   "outputs": [
    {
     "name": "stdout",
     "output_type": "stream",
     "text": [
      "[INFO] [CLEAN] Prompt: Standadize all textual quantity values in the Qty column (e.g., 'One', 'Two') to their numeric equivalents (e.g., 1, 2). Ensure the column is entirely numeric after conversion so datatype should be int \n",
      "[DEBUG] [CLEAN] Generated Code:\n",
      " qty_dict = {'One': 1, 'Two': 2, 'Three': 3, 'Four': 4, 'Five': 5, 'Six': 6, 'Seven': 7, 'Eight': 8, 'Nine': 9, 'Ten': 10}\n",
      "df['Qty'] = df['Qty'].map(qty_dict).fillna(df['Qty']).astype(int)\n"
     ]
    },
    {
     "name": "stderr",
     "output_type": "stream",
     "text": [
      "<string>:2: FutureWarning: Downcasting object dtype arrays on .fillna, .ffill, .bfill is deprecated and will change in a future version. Call result.infer_objects(copy=False) instead. To opt-in to the future behavior, set `pd.set_option('future.no_silent_downcasting', True)`\n"
     ]
    }
   ],
   "source": [
    "new_data = assistant.clean(new_data, prompt=\"Standadize all textual quantity values in the Qty column (e.g., 'One', 'Two') to their numeric equivalents (e.g., 1, 2). Ensure the column is entirely numeric after conversion so datatype should be int \")"
   ]
  },
  {
   "cell_type": "code",
   "execution_count": 12,
   "id": "d073d16f",
   "metadata": {},
   "outputs": [
    {
     "data": {
      "text/plain": [
       "array([1, 2, 4, 3, 5])"
      ]
     },
     "execution_count": 12,
     "metadata": {},
     "output_type": "execute_result"
    }
   ],
   "source": [
    "new_data['Qty'].unique() # New data\n"
   ]
  },
  {
   "cell_type": "code",
   "execution_count": 13,
   "id": "03143102",
   "metadata": {},
   "outputs": [
    {
     "data": {
      "text/plain": [
       "array([1, 'One', 2, 4, 3, 'Two', 5], dtype=object)"
      ]
     },
     "execution_count": 13,
     "metadata": {},
     "output_type": "execute_result"
    }
   ],
   "source": [
    "raw_data['Qty'].unique()  # Old data"
   ]
  },
  {
   "cell_type": "code",
   "execution_count": 14,
   "id": "4e65a487",
   "metadata": {},
   "outputs": [
    {
     "data": {
      "text/plain": [
       "index                        int64\n",
       "Order ID                    object\n",
       "Cust ID                      int64\n",
       "Gender                      object\n",
       "Age                          int64\n",
       "Date                datetime64[ns]\n",
       "Status                      object\n",
       "Channel                     object\n",
       "SKU                         object\n",
       "Category                    object\n",
       "Size                        object\n",
       "Qty                          int64\n",
       "currency                    object\n",
       "Amount                       int64\n",
       "ship-city                   object\n",
       "ship-postal-code             int64\n",
       "ship-country                object\n",
       "B2B                           bool\n",
       "dtype: object"
      ]
     },
     "execution_count": 14,
     "metadata": {},
     "output_type": "execute_result"
    }
   ],
   "source": [
    "new_data.dtypes"
   ]
  },
  {
   "cell_type": "markdown",
   "id": "5508620d",
   "metadata": {},
   "source": [
    "3.0 DATA TRANSFORMATION"
   ]
  },
  {
   "cell_type": "markdown",
   "id": "6e13ab5b",
   "metadata": {},
   "source": [
    "\n",
    "3.1 Playing With Columns."
   ]
  },
  {
   "cell_type": "markdown",
   "id": "a2ebe72b",
   "metadata": {},
   "source": [
    "I can extract the month and year from the Date column to create two new columns: Order_Month and Order_Year. This makes it easier to analyze sales trends over time, like comparing orders across different months or years."
   ]
  },
  {
   "cell_type": "code",
   "execution_count": 15,
   "id": "c32a2cdd",
   "metadata": {},
   "outputs": [
    {
     "name": "stdout",
     "output_type": "stream",
     "text": [
      "[INFO] [CLEAN] Prompt: From the Date column, extract the month and year into two new columns: Order_Month (as full month name) and Order_Year (as 4-digit year).Finally place both the newly created columns after Date column\n",
      "[DEBUG] [CLEAN] Generated Code:\n",
      " df[['Order_Month', 'Order_Year']] = df['Date'].dt.to_period(\"M\").dt.strftime(\"%B %Y\").str.split(\" \", expand=True)\n",
      "df = df[['index', 'Order ID', 'Cust ID', 'Gender', 'Age', 'Date', 'Order_Month', 'Order_Year', 'Status', 'Channel ', 'SKU', 'Category', 'Size', 'Qty', 'currency', 'Amount', 'ship-city', 'ship-postal-code', 'ship-country', 'B2B']]\n"
     ]
    }
   ],
   "source": [
    "transformed_data = assistant.clean(new_data, prompt=\"From the Date column, extract the month and year into two new columns: Order_Month (as full month name) and Order_Year (as 4-digit year).Finally place both the newly created columns after Date column\")"
   ]
  },
  {
   "cell_type": "code",
   "execution_count": 16,
   "id": "3019d4fb",
   "metadata": {},
   "outputs": [
    {
     "data": {
      "text/html": [
       "<div>\n",
       "<style scoped>\n",
       "    .dataframe tbody tr th:only-of-type {\n",
       "        vertical-align: middle;\n",
       "    }\n",
       "\n",
       "    .dataframe tbody tr th {\n",
       "        vertical-align: top;\n",
       "    }\n",
       "\n",
       "    .dataframe thead th {\n",
       "        text-align: right;\n",
       "    }\n",
       "</style>\n",
       "<table border=\"1\" class=\"dataframe\">\n",
       "  <thead>\n",
       "    <tr style=\"text-align: right;\">\n",
       "      <th></th>\n",
       "      <th>index</th>\n",
       "      <th>Order ID</th>\n",
       "      <th>Cust ID</th>\n",
       "      <th>Gender</th>\n",
       "      <th>Age</th>\n",
       "      <th>Date</th>\n",
       "      <th>Order_Month</th>\n",
       "      <th>Order_Year</th>\n",
       "      <th>Status</th>\n",
       "      <th>Channel</th>\n",
       "      <th>SKU</th>\n",
       "      <th>Category</th>\n",
       "      <th>Size</th>\n",
       "      <th>Qty</th>\n",
       "      <th>currency</th>\n",
       "      <th>Amount</th>\n",
       "      <th>ship-city</th>\n",
       "      <th>ship-postal-code</th>\n",
       "      <th>ship-country</th>\n",
       "      <th>B2B</th>\n",
       "    </tr>\n",
       "  </thead>\n",
       "  <tbody>\n",
       "    <tr>\n",
       "      <th>0</th>\n",
       "      <td>1</td>\n",
       "      <td>171-1029312-3038738</td>\n",
       "      <td>1029312</td>\n",
       "      <td>Women</td>\n",
       "      <td>44</td>\n",
       "      <td>2022-12-04</td>\n",
       "      <td>December</td>\n",
       "      <td>2022</td>\n",
       "      <td>Delivered</td>\n",
       "      <td>Myntra</td>\n",
       "      <td>JNE1233-BLUE-KR-031-XXL</td>\n",
       "      <td>kurta</td>\n",
       "      <td>XXL</td>\n",
       "      <td>1</td>\n",
       "      <td>INR</td>\n",
       "      <td>376</td>\n",
       "      <td>MOHALI</td>\n",
       "      <td>140301</td>\n",
       "      <td>IN</td>\n",
       "      <td>False</td>\n",
       "    </tr>\n",
       "    <tr>\n",
       "      <th>1</th>\n",
       "      <td>2</td>\n",
       "      <td>405-2183842-2225946</td>\n",
       "      <td>2183842</td>\n",
       "      <td>Women</td>\n",
       "      <td>29</td>\n",
       "      <td>2022-12-04</td>\n",
       "      <td>December</td>\n",
       "      <td>2022</td>\n",
       "      <td>Delivered</td>\n",
       "      <td>Ajio</td>\n",
       "      <td>SET414-KR-NP-L</td>\n",
       "      <td>Set</td>\n",
       "      <td>L</td>\n",
       "      <td>1</td>\n",
       "      <td>INR</td>\n",
       "      <td>1449</td>\n",
       "      <td>GURUGRAM</td>\n",
       "      <td>122002</td>\n",
       "      <td>IN</td>\n",
       "      <td>False</td>\n",
       "    </tr>\n",
       "    <tr>\n",
       "      <th>2</th>\n",
       "      <td>3</td>\n",
       "      <td>171-1641533-8921966</td>\n",
       "      <td>1641533</td>\n",
       "      <td>Women</td>\n",
       "      <td>67</td>\n",
       "      <td>2022-12-04</td>\n",
       "      <td>December</td>\n",
       "      <td>2022</td>\n",
       "      <td>Delivered</td>\n",
       "      <td>Myntra</td>\n",
       "      <td>SET261-KR-PP-S</td>\n",
       "      <td>Set</td>\n",
       "      <td>S</td>\n",
       "      <td>1</td>\n",
       "      <td>INR</td>\n",
       "      <td>453</td>\n",
       "      <td>KOLKATA</td>\n",
       "      <td>700029</td>\n",
       "      <td>IN</td>\n",
       "      <td>False</td>\n",
       "    </tr>\n",
       "  </tbody>\n",
       "</table>\n",
       "</div>"
      ],
      "text/plain": [
       "   index             Order ID  Cust ID Gender  Age       Date Order_Month  \\\n",
       "0      1  171-1029312-3038738  1029312  Women   44 2022-12-04    December   \n",
       "1      2  405-2183842-2225946  2183842  Women   29 2022-12-04    December   \n",
       "2      3  171-1641533-8921966  1641533  Women   67 2022-12-04    December   \n",
       "\n",
       "  Order_Year     Status Channel                       SKU Category Size  Qty  \\\n",
       "0       2022  Delivered   Myntra  JNE1233-BLUE-KR-031-XXL    kurta  XXL    1   \n",
       "1       2022  Delivered     Ajio           SET414-KR-NP-L      Set    L    1   \n",
       "2       2022  Delivered   Myntra           SET261-KR-PP-S      Set    S    1   \n",
       "\n",
       "  currency  Amount ship-city  ship-postal-code ship-country    B2B  \n",
       "0      INR     376    MOHALI            140301           IN  False  \n",
       "1      INR    1449  GURUGRAM            122002           IN  False  \n",
       "2      INR     453   KOLKATA            700029           IN  False  "
      ]
     },
     "execution_count": 16,
     "metadata": {},
     "output_type": "execute_result"
    }
   ],
   "source": [
    "transformed_data.head(3)"
   ]
  },
  {
   "cell_type": "markdown",
   "id": "58fd9520",
   "metadata": {},
   "source": [
    "\n",
    "Suppose i want to create a new column called Age_Group that classifies each person based on their age: anyone under 20 is labeled a Teenager, those between 20 and 49 are labeled Adult, and those 50 or older are labeled Senior. This helps group customers into age based categories for better analysis."
   ]
  },
  {
   "cell_type": "code",
   "execution_count": 17,
   "id": "4f56ab6c",
   "metadata": {},
   "outputs": [
    {
     "name": "stdout",
     "output_type": "stream",
     "text": [
      "[INFO] [CLEAN] Prompt: Create a new column of 'Age' column named 'Age_Group'and then place it besides 'Age' column. Based on the Age column: If Age < 20 → Teenager , If Age ≥ 20 and < 50 → Adult , If Age ≥ 50 → Senior\n",
      "[DEBUG] [CLEAN] Generated Code:\n",
      " df['Age_Group'] = pd.cut(df['Age'], bins=[0, 20, 50, np.inf], labels=['Teenager', 'Adult', 'Senior'])\n",
      "df = df[['index', 'Order ID', 'Cust ID', 'Gender', 'Age', 'Age_Group', 'Date', 'Order_Month', 'Order_Year', 'Status', 'Channel ', 'SKU', 'Category', 'Size', 'Qty', 'currency', 'Amount', 'ship-city', 'ship-postal-code', 'ship-country', 'B2B']]\n"
     ]
    }
   ],
   "source": [
    "transformed_data = assistant.clean(transformed_data, prompt=\"Create a new column of 'Age' column named 'Age_Group'and then place it besides 'Age' column. Based on the Age column: If Age < 20 → Teenager , If Age ≥ 20 and < 50 → Adult , If Age ≥ 50 → Senior\")"
   ]
  },
  {
   "cell_type": "code",
   "execution_count": 18,
   "id": "bf1a3089",
   "metadata": {},
   "outputs": [
    {
     "data": {
      "text/html": [
       "<div>\n",
       "<style scoped>\n",
       "    .dataframe tbody tr th:only-of-type {\n",
       "        vertical-align: middle;\n",
       "    }\n",
       "\n",
       "    .dataframe tbody tr th {\n",
       "        vertical-align: top;\n",
       "    }\n",
       "\n",
       "    .dataframe thead th {\n",
       "        text-align: right;\n",
       "    }\n",
       "</style>\n",
       "<table border=\"1\" class=\"dataframe\">\n",
       "  <thead>\n",
       "    <tr style=\"text-align: right;\">\n",
       "      <th></th>\n",
       "      <th>index</th>\n",
       "      <th>Order ID</th>\n",
       "      <th>Cust ID</th>\n",
       "      <th>Gender</th>\n",
       "      <th>Age</th>\n",
       "      <th>Age_Group</th>\n",
       "      <th>Date</th>\n",
       "      <th>Order_Month</th>\n",
       "      <th>Order_Year</th>\n",
       "      <th>Status</th>\n",
       "      <th>...</th>\n",
       "      <th>SKU</th>\n",
       "      <th>Category</th>\n",
       "      <th>Size</th>\n",
       "      <th>Qty</th>\n",
       "      <th>currency</th>\n",
       "      <th>Amount</th>\n",
       "      <th>ship-city</th>\n",
       "      <th>ship-postal-code</th>\n",
       "      <th>ship-country</th>\n",
       "      <th>B2B</th>\n",
       "    </tr>\n",
       "  </thead>\n",
       "  <tbody>\n",
       "    <tr>\n",
       "      <th>0</th>\n",
       "      <td>1</td>\n",
       "      <td>171-1029312-3038738</td>\n",
       "      <td>1029312</td>\n",
       "      <td>Women</td>\n",
       "      <td>44</td>\n",
       "      <td>Adult</td>\n",
       "      <td>2022-12-04</td>\n",
       "      <td>December</td>\n",
       "      <td>2022</td>\n",
       "      <td>Delivered</td>\n",
       "      <td>...</td>\n",
       "      <td>JNE1233-BLUE-KR-031-XXL</td>\n",
       "      <td>kurta</td>\n",
       "      <td>XXL</td>\n",
       "      <td>1</td>\n",
       "      <td>INR</td>\n",
       "      <td>376</td>\n",
       "      <td>MOHALI</td>\n",
       "      <td>140301</td>\n",
       "      <td>IN</td>\n",
       "      <td>False</td>\n",
       "    </tr>\n",
       "    <tr>\n",
       "      <th>1</th>\n",
       "      <td>2</td>\n",
       "      <td>405-2183842-2225946</td>\n",
       "      <td>2183842</td>\n",
       "      <td>Women</td>\n",
       "      <td>29</td>\n",
       "      <td>Adult</td>\n",
       "      <td>2022-12-04</td>\n",
       "      <td>December</td>\n",
       "      <td>2022</td>\n",
       "      <td>Delivered</td>\n",
       "      <td>...</td>\n",
       "      <td>SET414-KR-NP-L</td>\n",
       "      <td>Set</td>\n",
       "      <td>L</td>\n",
       "      <td>1</td>\n",
       "      <td>INR</td>\n",
       "      <td>1449</td>\n",
       "      <td>GURUGRAM</td>\n",
       "      <td>122002</td>\n",
       "      <td>IN</td>\n",
       "      <td>False</td>\n",
       "    </tr>\n",
       "    <tr>\n",
       "      <th>2</th>\n",
       "      <td>3</td>\n",
       "      <td>171-1641533-8921966</td>\n",
       "      <td>1641533</td>\n",
       "      <td>Women</td>\n",
       "      <td>67</td>\n",
       "      <td>Senior</td>\n",
       "      <td>2022-12-04</td>\n",
       "      <td>December</td>\n",
       "      <td>2022</td>\n",
       "      <td>Delivered</td>\n",
       "      <td>...</td>\n",
       "      <td>SET261-KR-PP-S</td>\n",
       "      <td>Set</td>\n",
       "      <td>S</td>\n",
       "      <td>1</td>\n",
       "      <td>INR</td>\n",
       "      <td>453</td>\n",
       "      <td>KOLKATA</td>\n",
       "      <td>700029</td>\n",
       "      <td>IN</td>\n",
       "      <td>False</td>\n",
       "    </tr>\n",
       "  </tbody>\n",
       "</table>\n",
       "<p>3 rows × 21 columns</p>\n",
       "</div>"
      ],
      "text/plain": [
       "   index             Order ID  Cust ID Gender  Age Age_Group       Date  \\\n",
       "0      1  171-1029312-3038738  1029312  Women   44     Adult 2022-12-04   \n",
       "1      2  405-2183842-2225946  2183842  Women   29     Adult 2022-12-04   \n",
       "2      3  171-1641533-8921966  1641533  Women   67    Senior 2022-12-04   \n",
       "\n",
       "  Order_Month Order_Year     Status  ...                      SKU Category  \\\n",
       "0    December       2022  Delivered  ...  JNE1233-BLUE-KR-031-XXL    kurta   \n",
       "1    December       2022  Delivered  ...           SET414-KR-NP-L      Set   \n",
       "2    December       2022  Delivered  ...           SET261-KR-PP-S      Set   \n",
       "\n",
       "  Size Qty  currency Amount  ship-city ship-postal-code  ship-country    B2B  \n",
       "0  XXL   1       INR    376     MOHALI           140301            IN  False  \n",
       "1    L   1       INR   1449   GURUGRAM           122002            IN  False  \n",
       "2    S   1       INR    453    KOLKATA           700029            IN  False  \n",
       "\n",
       "[3 rows x 21 columns]"
      ]
     },
     "execution_count": 18,
     "metadata": {},
     "output_type": "execute_result"
    }
   ],
   "source": [
    "transformed_data.head(3)"
   ]
  },
  {
   "cell_type": "code",
   "execution_count": 19,
   "id": "3d51979f",
   "metadata": {},
   "outputs": [
    {
     "name": "stdout",
     "output_type": "stream",
     "text": [
      "[INFO] [CLEAN] Prompt: Drop the following columns from the dataset currency, ship-country, index\n",
      "[DEBUG] [CLEAN] Generated Code:\n",
      " df.drop(['currency', 'ship-country', 'index'], axis=1, inplace=True)\n"
     ]
    }
   ],
   "source": [
    "transformed_data = assistant.clean(transformed_data, prompt=\"Drop the following columns from the dataset currency, ship-country, index\")"
   ]
  },
  {
   "cell_type": "code",
   "execution_count": 20,
   "id": "950d6baa",
   "metadata": {},
   "outputs": [
    {
     "data": {
      "text/html": [
       "<div>\n",
       "<style scoped>\n",
       "    .dataframe tbody tr th:only-of-type {\n",
       "        vertical-align: middle;\n",
       "    }\n",
       "\n",
       "    .dataframe tbody tr th {\n",
       "        vertical-align: top;\n",
       "    }\n",
       "\n",
       "    .dataframe thead th {\n",
       "        text-align: right;\n",
       "    }\n",
       "</style>\n",
       "<table border=\"1\" class=\"dataframe\">\n",
       "  <thead>\n",
       "    <tr style=\"text-align: right;\">\n",
       "      <th></th>\n",
       "      <th>Order ID</th>\n",
       "      <th>Cust ID</th>\n",
       "      <th>Gender</th>\n",
       "      <th>Age</th>\n",
       "      <th>Age_Group</th>\n",
       "      <th>Date</th>\n",
       "      <th>Order_Month</th>\n",
       "      <th>Order_Year</th>\n",
       "      <th>Status</th>\n",
       "      <th>Channel</th>\n",
       "      <th>SKU</th>\n",
       "      <th>Category</th>\n",
       "      <th>Size</th>\n",
       "      <th>Qty</th>\n",
       "      <th>Amount</th>\n",
       "      <th>ship-city</th>\n",
       "      <th>ship-postal-code</th>\n",
       "      <th>B2B</th>\n",
       "    </tr>\n",
       "  </thead>\n",
       "  <tbody>\n",
       "    <tr>\n",
       "      <th>0</th>\n",
       "      <td>171-1029312-3038738</td>\n",
       "      <td>1029312</td>\n",
       "      <td>Women</td>\n",
       "      <td>44</td>\n",
       "      <td>Adult</td>\n",
       "      <td>2022-12-04</td>\n",
       "      <td>December</td>\n",
       "      <td>2022</td>\n",
       "      <td>Delivered</td>\n",
       "      <td>Myntra</td>\n",
       "      <td>JNE1233-BLUE-KR-031-XXL</td>\n",
       "      <td>kurta</td>\n",
       "      <td>XXL</td>\n",
       "      <td>1</td>\n",
       "      <td>376</td>\n",
       "      <td>MOHALI</td>\n",
       "      <td>140301</td>\n",
       "      <td>False</td>\n",
       "    </tr>\n",
       "    <tr>\n",
       "      <th>1</th>\n",
       "      <td>405-2183842-2225946</td>\n",
       "      <td>2183842</td>\n",
       "      <td>Women</td>\n",
       "      <td>29</td>\n",
       "      <td>Adult</td>\n",
       "      <td>2022-12-04</td>\n",
       "      <td>December</td>\n",
       "      <td>2022</td>\n",
       "      <td>Delivered</td>\n",
       "      <td>Ajio</td>\n",
       "      <td>SET414-KR-NP-L</td>\n",
       "      <td>Set</td>\n",
       "      <td>L</td>\n",
       "      <td>1</td>\n",
       "      <td>1449</td>\n",
       "      <td>GURUGRAM</td>\n",
       "      <td>122002</td>\n",
       "      <td>False</td>\n",
       "    </tr>\n",
       "  </tbody>\n",
       "</table>\n",
       "</div>"
      ],
      "text/plain": [
       "              Order ID  Cust ID Gender  Age Age_Group       Date Order_Month  \\\n",
       "0  171-1029312-3038738  1029312  Women   44     Adult 2022-12-04    December   \n",
       "1  405-2183842-2225946  2183842  Women   29     Adult 2022-12-04    December   \n",
       "\n",
       "  Order_Year     Status Channel                       SKU Category Size  Qty  \\\n",
       "0       2022  Delivered   Myntra  JNE1233-BLUE-KR-031-XXL    kurta  XXL    1   \n",
       "1       2022  Delivered     Ajio           SET414-KR-NP-L      Set    L    1   \n",
       "\n",
       "   Amount ship-city  ship-postal-code    B2B  \n",
       "0     376    MOHALI            140301  False  \n",
       "1    1449  GURUGRAM            122002  False  "
      ]
     },
     "execution_count": 20,
     "metadata": {},
     "output_type": "execute_result"
    }
   ],
   "source": [
    "transformed_data.head(2)"
   ]
  },
  {
   "cell_type": "code",
   "execution_count": 21,
   "id": "d1b44fdd",
   "metadata": {},
   "outputs": [
    {
     "name": "stdout",
     "output_type": "stream",
     "text": [
      "📊 BASIC INFO\n",
      "- Shape: (31047, 18)\n",
      "- Columns: ['Order ID', 'Cust ID', 'Gender', 'Age', 'Age_Group', 'Date', 'Order_Month', 'Order_Year', 'Status', 'Channel ']...\n",
      "- Memory Usage: ~3.85 MB\n",
      "\n",
      "🔍 MISSING VALUES (%):\n",
      "Series([], dtype: float64) \n",
      "\n",
      "🧮 UNIQUE VALUES (Top 10 Columns):\n",
      "Order ID            28471\n",
      "Cust ID             28437\n",
      "SKU                  5287\n",
      "ship-postal-code     4958\n",
      "ship-city            2603\n",
      "Amount                769\n",
      "Age                    61\n",
      "Date                   36\n",
      "Order_Month            12\n",
      "Size                   11\n",
      "dtype: int64 \n",
      "\n",
      "📈 NUMERICAL STATS (Sampled if > sample_size):\n",
      "                    count          mean           std       min         25%  \\\n",
      "Cust ID           10000.0  4.947294e+06  2.914059e+06    1387.0  2395822.75   \n",
      "Age               10000.0  3.952740e+01  1.509448e+01      18.0       28.00   \n",
      "Qty               10000.0  1.006000e+00  9.035937e-02       1.0        1.00   \n",
      "Amount            10000.0  6.832977e+02  2.701456e+02     229.0      486.00   \n",
      "ship-postal-code  10000.0  4.584894e+05  1.974378e+05  110001.0   303702.00   \n",
      "\n",
      "                        50%         75%        max  \n",
      "Cust ID           4959240.0  7488979.75  9996130.0  \n",
      "Age                    37.0       47.00       78.0  \n",
      "Qty                     1.0        1.00        4.0  \n",
      "Amount                641.0      799.00     2860.0  \n",
      "ship-postal-code   500020.0   600020.00   855117.0   \n",
      "\n",
      "🗂️ CATEGORICAL PREVIEW:\n",
      "\n",
      "🔹 Column: Order ID\n",
      " - Unique: 28471\n",
      " - Top 5:\n",
      "Order ID\n",
      "403-4984515-8861958    12\n",
      "403-0173977-3041148    11\n",
      "404-3701762-8241125     9\n",
      "402-2997706-3326710     8\n",
      "403-9984530-4477124     7\n",
      "Name: count, dtype: int64\n",
      "\n",
      "🔹 Column: Gender\n",
      " - Unique: 2\n",
      " - Top 5:\n",
      "Gender\n",
      "Women    21553\n",
      "Men       9494\n",
      "Name: count, dtype: int64\n",
      "\n",
      "🔹 Column: Age_Group\n",
      " - Unique: 3\n",
      " - Top 5:\n",
      "Age_Group\n",
      "Adult       22912\n",
      "Senior       5909\n",
      "Teenager     2226\n",
      "Name: count, dtype: int64\n",
      "\n",
      "🔹 Column: Order_Month\n",
      " - Unique: 12\n",
      " - Top 5:\n",
      "Order_Month\n",
      "March       2819\n",
      "February    2750\n",
      "January     2702\n",
      "April       2685\n",
      "May         2617\n",
      "Name: count, dtype: int64\n",
      "\n",
      "🔹 Column: Order_Year\n",
      " - Unique: 1\n",
      " - Top 5:\n",
      "Order_Year\n",
      "2022    31047\n",
      "Name: count, dtype: int64\n",
      "\n",
      "🔹 Column: Status\n",
      " - Unique: 4\n",
      " - Top 5:\n",
      "Status\n",
      "Delivered    28641\n",
      "Returned      1045\n",
      "Cancelled      844\n",
      "Refunded       517\n",
      "Name: count, dtype: int64\n",
      "\n",
      "🔹 Column: Channel \n",
      " - Unique: 7\n",
      " - Top 5:\n",
      "Channel \n",
      "Amazon      11016\n",
      "Myntra       7254\n",
      "Flipkart     6703\n",
      "Ajio         1931\n",
      "Nalli        1484\n",
      "Name: count, dtype: int64\n",
      "\n",
      "🔹 Column: SKU\n",
      " - Unique: 5287\n",
      " - Top 5:\n",
      "SKU\n",
      "JNE3797-KR-L      273\n",
      "JNE3797-KR-M      232\n",
      "JNE3797-KR-S      169\n",
      "JNE3797-KR-XXL    150\n",
      "JNE3797-KR-XL     149\n",
      "Name: count, dtype: int64\n",
      "\n",
      "🔹 Column: Category\n",
      " - Unique: 8\n",
      " - Top 5:\n",
      "Category\n",
      "Set              12391\n",
      "kurta            10446\n",
      "Western Dress     4066\n",
      "Top               2193\n",
      "Saree             1380\n",
      "Name: count, dtype: int64\n",
      "\n",
      "🔹 Column: Size\n",
      " - Unique: 11\n",
      " - Top 5:\n",
      "Size\n",
      "M      5485\n",
      "L      5144\n",
      "XL     4437\n",
      "S      4176\n",
      "XXL    4065\n",
      "Name: count, dtype: int64\n",
      "\n",
      "📊 CORRELATION MATRIX (Top Pairs Only):\n",
      "Qty               Amount              0.172377\n",
      "Amount            ship-postal-code    0.053002\n",
      "ship-postal-code  Qty                 0.010492\n",
      "Cust ID           ship-postal-code    0.005703\n",
      "Qty               Age                 0.004884\n",
      "Age               Amount              0.003522\n",
      "                  ship-postal-code    0.001582\n",
      "                  Cust ID             0.001286\n",
      "Amount            Cust ID             0.000691\n",
      "Cust ID           Qty                 0.000217\n",
      "dtype: float64\n"
     ]
    }
   ],
   "source": [
    "scalable_data_profiler(transformed_data)\n"
   ]
  },
  {
   "cell_type": "markdown",
   "id": "1d43b68d",
   "metadata": {},
   "source": [
    "BY USING transform()"
   ]
  },
  {
   "cell_type": "code",
   "execution_count": 22,
   "id": "3ae8ba37",
   "metadata": {},
   "outputs": [
    {
     "name": "stdout",
     "output_type": "stream",
     "text": [
      "[INFO] [TRANSFORM] Prompt: Encode the 'gender' column using LabelEncoder\n",
      "[DEBUG] [TRANSFORM] Generated Code:\n",
      " import pandas as pd\n",
      "from sklearn.preprocessing import LabelEncoder\n",
      "\n",
      "le = LabelEncoder()\n",
      "df['Gender'] = le.fit_transform(df['Gender'])\n"
     ]
    }
   ],
   "source": [
    "transformed_data = assistant.transform(transformed_data, prompt=\"Encode the 'gender' column using LabelEncoder\")"
   ]
  },
  {
   "cell_type": "code",
   "execution_count": 23,
   "id": "45da26f0",
   "metadata": {},
   "outputs": [
    {
     "data": {
      "text/plain": [
       "array([1, 0])"
      ]
     },
     "execution_count": 23,
     "metadata": {},
     "output_type": "execute_result"
    }
   ],
   "source": [
    "transformed_data.head(2)\n",
    "transformed_data['Gender'].unique()"
   ]
  },
  {
   "cell_type": "markdown",
   "id": "a299afc5",
   "metadata": {},
   "source": [
    "ADVANCE DATA TRANSFORMATION SOLVED"
   ]
  },
  {
   "cell_type": "markdown",
   "id": "fdb61864",
   "metadata": {},
   "source": [
    "1) How can we identify customers who might churn based on inactivity and declining purchase behavior?"
   ]
  },
  {
   "cell_type": "markdown",
   "id": "95501484",
   "metadata": {},
   "source": [
    "RFM-Based Score Threshold\n",
    "Problem Statement\n",
    "Use Recency, Frequency, Monetary (RFM) scores to assign a churn risk.\n",
    "Flag customers as Churn_Risk = True if:\n",
    "\n",
    "Recency score is low (haven’t bought recently), and\n",
    "\n",
    "Frequency score is low (rare buyer), and/or\n",
    "\n",
    "Monetary score is low (not spending much)"
   ]
  },
  {
   "cell_type": "code",
   "execution_count": 24,
   "id": "03970119",
   "metadata": {},
   "outputs": [
    {
     "data": {
      "text/html": [
       "<div>\n",
       "<style scoped>\n",
       "    .dataframe tbody tr th:only-of-type {\n",
       "        vertical-align: middle;\n",
       "    }\n",
       "\n",
       "    .dataframe tbody tr th {\n",
       "        vertical-align: top;\n",
       "    }\n",
       "\n",
       "    .dataframe thead th {\n",
       "        text-align: right;\n",
       "    }\n",
       "</style>\n",
       "<table border=\"1\" class=\"dataframe\">\n",
       "  <thead>\n",
       "    <tr style=\"text-align: right;\">\n",
       "      <th></th>\n",
       "      <th>Order ID</th>\n",
       "      <th>Cust ID</th>\n",
       "      <th>Gender</th>\n",
       "      <th>Age</th>\n",
       "      <th>Age_Group</th>\n",
       "      <th>Date</th>\n",
       "      <th>Order_Month</th>\n",
       "      <th>Order_Year</th>\n",
       "      <th>Status</th>\n",
       "      <th>Channel</th>\n",
       "      <th>SKU</th>\n",
       "      <th>Category</th>\n",
       "      <th>Size</th>\n",
       "      <th>Qty</th>\n",
       "      <th>Amount</th>\n",
       "      <th>ship-city</th>\n",
       "      <th>ship-postal-code</th>\n",
       "      <th>B2B</th>\n",
       "    </tr>\n",
       "  </thead>\n",
       "  <tbody>\n",
       "    <tr>\n",
       "      <th>0</th>\n",
       "      <td>171-1029312-3038738</td>\n",
       "      <td>1029312</td>\n",
       "      <td>1</td>\n",
       "      <td>44</td>\n",
       "      <td>Adult</td>\n",
       "      <td>2022-12-04</td>\n",
       "      <td>December</td>\n",
       "      <td>2022</td>\n",
       "      <td>Delivered</td>\n",
       "      <td>Myntra</td>\n",
       "      <td>JNE1233-BLUE-KR-031-XXL</td>\n",
       "      <td>kurta</td>\n",
       "      <td>XXL</td>\n",
       "      <td>1</td>\n",
       "      <td>376</td>\n",
       "      <td>MOHALI</td>\n",
       "      <td>140301</td>\n",
       "      <td>False</td>\n",
       "    </tr>\n",
       "    <tr>\n",
       "      <th>1</th>\n",
       "      <td>405-2183842-2225946</td>\n",
       "      <td>2183842</td>\n",
       "      <td>1</td>\n",
       "      <td>29</td>\n",
       "      <td>Adult</td>\n",
       "      <td>2022-12-04</td>\n",
       "      <td>December</td>\n",
       "      <td>2022</td>\n",
       "      <td>Delivered</td>\n",
       "      <td>Ajio</td>\n",
       "      <td>SET414-KR-NP-L</td>\n",
       "      <td>Set</td>\n",
       "      <td>L</td>\n",
       "      <td>1</td>\n",
       "      <td>1449</td>\n",
       "      <td>GURUGRAM</td>\n",
       "      <td>122002</td>\n",
       "      <td>False</td>\n",
       "    </tr>\n",
       "  </tbody>\n",
       "</table>\n",
       "</div>"
      ],
      "text/plain": [
       "              Order ID  Cust ID  Gender  Age Age_Group       Date Order_Month  \\\n",
       "0  171-1029312-3038738  1029312       1   44     Adult 2022-12-04    December   \n",
       "1  405-2183842-2225946  2183842       1   29     Adult 2022-12-04    December   \n",
       "\n",
       "  Order_Year     Status Channel                       SKU Category Size  Qty  \\\n",
       "0       2022  Delivered   Myntra  JNE1233-BLUE-KR-031-XXL    kurta  XXL    1   \n",
       "1       2022  Delivered     Ajio           SET414-KR-NP-L      Set    L    1   \n",
       "\n",
       "   Amount ship-city  ship-postal-code    B2B  \n",
       "0     376    MOHALI            140301  False  \n",
       "1    1449  GURUGRAM            122002  False  "
      ]
     },
     "execution_count": 24,
     "metadata": {},
     "output_type": "execute_result"
    }
   ],
   "source": [
    "transformed_data.head(2)"
   ]
  },
  {
   "cell_type": "code",
   "execution_count": 30,
   "id": "b947aeb6",
   "metadata": {},
   "outputs": [
    {
     "name": "stdout",
     "output_type": "stream",
     "text": [
      "[INFO] [TRANSFORM] Prompt: Calculate RFM scores without creating RFM columns for each customer based on columns 'Date', 'Order ID', and 'Amount'. Flag Churn_Risk = True if a customer has low recency, low frequency, and/or low monetary scores (e.g., bottom 25% for each metric).\n",
      "[DEBUG] [TRANSFORM] Generated Code:\n",
      " import pandas as pd\n",
      "import numpy as np\n",
      "from datetime import datetime\n",
      "\n",
      "df['Date'] = pd.to_datetime(df['Date'])\n",
      "df['Recency'] = (datetime.today() - df['Date']).dt.days\n",
      "df['Frequency'] = df.groupby('Cust ID')['Order ID'].transform('count')\n",
      "df['Monetary'] = df.groupby('Cust ID')['Amount'].transform('sum')\n",
      "\n",
      "recency_quantile = df['Recency'].quantile(0.25)\n",
      "frequency_quantile = df['Frequency'].quantile(0.25)\n",
      "monetary_quantile = df['Monetary'].quantile(0.25)\n",
      "\n",
      "df['Churn_Risk'] = (df['Recency'] < recency_quantile) | (df['Frequency'] < frequency_quantile) | (df['Monetary'] < monetary_quantile)\n",
      "\n",
      "df.drop(['Recency', 'Frequency', 'Monetary'], axis=1, inplace=True)\n"
     ]
    }
   ],
   "source": [
    "transformed_data = assistant.transform(transformed_data, prompt=\"Calculate RFM scores without creating RFM columns for each customer based on columns 'Date', 'Order ID', and 'Amount'. Flag Churn_Risk = True if a customer has low recency, low frequency, and/or low monetary scores (e.g., bottom 25% for each metric).\")"
   ]
  },
  {
   "cell_type": "code",
   "execution_count": 31,
   "id": "2095a921",
   "metadata": {},
   "outputs": [
    {
     "data": {
      "text/html": [
       "<div>\n",
       "<style scoped>\n",
       "    .dataframe tbody tr th:only-of-type {\n",
       "        vertical-align: middle;\n",
       "    }\n",
       "\n",
       "    .dataframe tbody tr th {\n",
       "        vertical-align: top;\n",
       "    }\n",
       "\n",
       "    .dataframe thead th {\n",
       "        text-align: right;\n",
       "    }\n",
       "</style>\n",
       "<table border=\"1\" class=\"dataframe\">\n",
       "  <thead>\n",
       "    <tr style=\"text-align: right;\">\n",
       "      <th></th>\n",
       "      <th>Order ID</th>\n",
       "      <th>Cust ID</th>\n",
       "      <th>Gender</th>\n",
       "      <th>Age</th>\n",
       "      <th>Age_Group</th>\n",
       "      <th>Date</th>\n",
       "      <th>Order_Month</th>\n",
       "      <th>Order_Year</th>\n",
       "      <th>Status</th>\n",
       "      <th>Channel</th>\n",
       "      <th>SKU</th>\n",
       "      <th>Category</th>\n",
       "      <th>Size</th>\n",
       "      <th>Qty</th>\n",
       "      <th>Amount</th>\n",
       "      <th>ship-city</th>\n",
       "      <th>ship-postal-code</th>\n",
       "      <th>B2B</th>\n",
       "      <th>Churn_Risk</th>\n",
       "    </tr>\n",
       "  </thead>\n",
       "  <tbody>\n",
       "    <tr>\n",
       "      <th>0</th>\n",
       "      <td>171-1029312-3038738</td>\n",
       "      <td>1029312</td>\n",
       "      <td>1</td>\n",
       "      <td>44</td>\n",
       "      <td>Adult</td>\n",
       "      <td>2022-12-04</td>\n",
       "      <td>December</td>\n",
       "      <td>2022</td>\n",
       "      <td>Delivered</td>\n",
       "      <td>Myntra</td>\n",
       "      <td>JNE1233-BLUE-KR-031-XXL</td>\n",
       "      <td>kurta</td>\n",
       "      <td>XXL</td>\n",
       "      <td>1</td>\n",
       "      <td>376</td>\n",
       "      <td>MOHALI</td>\n",
       "      <td>140301</td>\n",
       "      <td>False</td>\n",
       "      <td>True</td>\n",
       "    </tr>\n",
       "    <tr>\n",
       "      <th>1</th>\n",
       "      <td>405-2183842-2225946</td>\n",
       "      <td>2183842</td>\n",
       "      <td>1</td>\n",
       "      <td>29</td>\n",
       "      <td>Adult</td>\n",
       "      <td>2022-12-04</td>\n",
       "      <td>December</td>\n",
       "      <td>2022</td>\n",
       "      <td>Delivered</td>\n",
       "      <td>Ajio</td>\n",
       "      <td>SET414-KR-NP-L</td>\n",
       "      <td>Set</td>\n",
       "      <td>L</td>\n",
       "      <td>1</td>\n",
       "      <td>1449</td>\n",
       "      <td>GURUGRAM</td>\n",
       "      <td>122002</td>\n",
       "      <td>False</td>\n",
       "      <td>True</td>\n",
       "    </tr>\n",
       "  </tbody>\n",
       "</table>\n",
       "</div>"
      ],
      "text/plain": [
       "              Order ID  Cust ID  Gender  Age Age_Group       Date Order_Month  \\\n",
       "0  171-1029312-3038738  1029312       1   44     Adult 2022-12-04    December   \n",
       "1  405-2183842-2225946  2183842       1   29     Adult 2022-12-04    December   \n",
       "\n",
       "  Order_Year     Status Channel                       SKU Category Size  Qty  \\\n",
       "0       2022  Delivered   Myntra  JNE1233-BLUE-KR-031-XXL    kurta  XXL    1   \n",
       "1       2022  Delivered     Ajio           SET414-KR-NP-L      Set    L    1   \n",
       "\n",
       "   Amount ship-city  ship-postal-code    B2B  Churn_Risk  \n",
       "0     376    MOHALI            140301  False        True  \n",
       "1    1449  GURUGRAM            122002  False        True  "
      ]
     },
     "execution_count": 31,
     "metadata": {},
     "output_type": "execute_result"
    }
   ],
   "source": [
    "transformed_data.head(2)"
   ]
  },
  {
   "cell_type": "code",
   "execution_count": 32,
   "id": "133a82a9",
   "metadata": {},
   "outputs": [
    {
     "data": {
      "text/plain": [
       "array([ True, False])"
      ]
     },
     "execution_count": 32,
     "metadata": {},
     "output_type": "execute_result"
    }
   ],
   "source": [
    "transformed_data['Churn_Risk'].unique()"
   ]
  },
  {
   "cell_type": "markdown",
   "id": "78fc4918",
   "metadata": {},
   "source": [
    "2 How can we identify repeat customers and understand how frequently they place orders?\n",
    "\n"
   ]
  },
  {
   "cell_type": "markdown",
   "id": "65a53cc9",
   "metadata": {},
   "source": [
    "Problem Statement:\n",
    "\n",
    "For each customer (Cust ID) in the dataset:\n",
    "Determine whether they are a repeat customer (i.e., placed more than one order).\n",
    "For repeat customers, calculate the average number of days between their purchases using the Date column."
   ]
  },
  {
   "cell_type": "code",
   "execution_count": 34,
   "id": "1ce5a6f0",
   "metadata": {},
   "outputs": [
    {
     "name": "stdout",
     "output_type": "stream",
     "text": [
      "[INFO] [TRANSFORM] Prompt: Is_Repeat_Customer: mark as Repeat if the customer (Cust ID) has placed more than one order, for single customer Single.\n"
     ]
    },
    {
     "name": "stdout",
     "output_type": "stream",
     "text": [
      "[DEBUG] [TRANSFORM] Generated Code:\n",
      " import pandas as pd\n",
      "import numpy as np\n",
      "\n",
      "df['Is_Repeat_Customer'] = df.groupby('Cust ID')['Cust ID'].transform(lambda x: 'Repeat' if len(x) > 1 else 'Single')\n"
     ]
    }
   ],
   "source": [
    "transformed_data = assistant.transform(transformed_data, prompt=\"Is_Repeat_Customer: mark as Repeat if the customer (Cust ID) has placed more than one order, for single customer Single.\")"
   ]
  },
  {
   "cell_type": "code",
   "execution_count": 38,
   "id": "67bf7910",
   "metadata": {},
   "outputs": [
    {
     "name": "stdout",
     "output_type": "stream",
     "text": [
      "[INFO] [TRANSFORM] Prompt: For each customer, Count the total number of orders. Calculate the time difference between their first and last order using the 'Date' column. Derive average order frequency (e.g., orders per month, per quarter, etc.\n"
     ]
    },
    {
     "name": "stdout",
     "output_type": "stream",
     "text": [
      "[DEBUG] [TRANSFORM] Generated Code:\n",
      " import pandas as pd\n",
      "from datetime import timedelta\n",
      "\n",
      "df['Date'] = pd.to_datetime(df['Date'])\n",
      "\n",
      "customer_orders = df.groupby('Cust ID')['Order ID'].count().reset_index(name='Total_Orders')\n",
      "\n",
      "first_last_orders = df.loc[df.groupby('Cust ID')['Date'].idxmin()].merge(df.loc[df.groupby('Cust ID')['Date'].idxmax()], on='Cust ID', suffixes=('_first', '_last'))\n",
      "\n",
      "first_last_orders['Time_Diff'] = first_last_orders['Date_last'] - first_last_orders['Date_first']\n",
      "\n",
      "avg_order_freq = first_last_orders['Time_Diff'].apply(lambda x: x.days).divide(first_last_orders['Total_Orders']).reset_index(name='Avg_Order_Freq_Days')\n",
      "\n",
      "avg_order_freq_month = avg_order_freq['Avg_Order_Freq_Days'].divide(30)\n",
      "avg_order_freq_quarter = avg_order_freq['Avg_Order_Freq_Days'].divide(90)\n",
      "\n",
      "result = pd.merge(customer_orders, avg_order_freq, on='Cust ID')\n",
      "result['Avg_Order_Freq_Month'] = avg_order_freq_month\n",
      "result['Avg_Order_Freq_Quarter'] = avg_order_freq_quarter\n",
      "[ERROR] Code execution failed: 'Total_Orders'\n",
      "[DEBUG] Failed code was:\n",
      " import pandas as pd\n",
      "from datetime import timedelta\n",
      "\n",
      "df['Date'] = pd.to_datetime(df['Date'])\n",
      "\n",
      "customer_orders = df.groupby('Cust ID')['Order ID'].count().reset_index(name='Total_Orders')\n",
      "\n",
      "first_last_orders = df.loc[df.groupby('Cust ID')['Date'].idxmin()].merge(df.loc[df.groupby('Cust ID')['Date'].idxmax()], on='Cust ID', suffixes=('_first', '_last'))\n",
      "\n",
      "first_last_orders['Time_Diff'] = first_last_orders['Date_last'] - first_last_orders['Date_first']\n",
      "\n",
      "avg_order_freq = first_last_orders['Time_Diff'].apply(lambda x: x.days).divide(first_last_orders['Total_Orders']).reset_index(name='Avg_Order_Freq_Days')\n",
      "\n",
      "avg_order_freq_month = avg_order_freq['Avg_Order_Freq_Days'].divide(30)\n",
      "avg_order_freq_quarter = avg_order_freq['Avg_Order_Freq_Days'].divide(90)\n",
      "\n",
      "result = pd.merge(customer_orders, avg_order_freq, on='Cust ID')\n",
      "result['Avg_Order_Freq_Month'] = avg_order_freq_month\n",
      "result['Avg_Order_Freq_Quarter'] = avg_order_freq_quarter\n"
     ]
    }
   ],
   "source": [
    "transformed_data = assistant.transform(transformed_data, prompt=\"For each customer, Count the total number of orders. Calculate the time difference between their first and last order using the 'Date' column. Derive average order frequency (e.g., orders per month, per quarter, etc.\")"
   ]
  },
  {
   "cell_type": "code",
   "execution_count": null,
   "id": "310b6c9d",
   "metadata": {},
   "outputs": [
    {
     "data": {
      "text/plain": [
       "array([False,  True])"
      ]
     },
     "execution_count": 29,
     "metadata": {},
     "output_type": "execute_result"
    }
   ],
   "source": [
    "transformed_data['Is_Repeat_Customer'].unique()"
   ]
  },
  {
   "cell_type": "code",
   "execution_count": null,
   "id": "b9eb1361",
   "metadata": {},
   "outputs": [
    {
     "name": "stdout",
     "output_type": "stream",
     "text": [
      "[INFO] [TRANSFORM] Prompt: create column 'Avg_Purchase_Interval' . For each customer in 'Is_Repeat_Customer' who has True, calculate the average number of days between their orders using the Date column, set False as NaN.\n",
      "[DEBUG] [TRANSFORM] Generated Code:\n",
      " import pandas as pd\n",
      "import numpy as np\n",
      "\n",
      "df['Date'] = pd.to_datetime(df['Date'])\n",
      "\n",
      "df['Avg_Purchase_Interval'] = np.nan\n",
      "\n",
      "repeat_customers = df[df['Is_Repeat_Customer']]\n",
      "\n",
      "for customer in repeat_customers['Cust ID'].unique():\n",
      "    customer_orders = repeat_customers[repeat_customers['Cust ID'] == customer].sort_values('Date')\n",
      "    purchase_intervals = (customer_orders['Date'] - customer_orders['Date'].shift()).dropna()\n",
      "    avg_interval = purchase_intervals.mean().days\n",
      "    df.loc[(df['Cust ID'] == customer) & (df['Is_Repeat_Customer']), 'Avg_Purchase_Interval'] = avg_interval\n"
     ]
    }
   ],
   "source": [
    "transformed_data = assistant.transform(transformed_data, prompt=\"create column 'Avg_Purchase_Interval' . For each customer in 'Is_Repeat_Customer' who has True, calculate the average number of days between their orders using the Date column, set False as NaN.\")"
   ]
  },
  {
   "cell_type": "markdown",
   "id": "952e5e1f",
   "metadata": {},
   "source": [
    "DATA VISUALIZATION"
   ]
  },
  {
   "cell_type": "markdown",
   "id": "5bfd2c04",
   "metadata": {},
   "source": [
    "How does the number of orders vary across different months?"
   ]
  },
  {
   "cell_type": "markdown",
   "id": "e88678fb",
   "metadata": {},
   "source": [
    "Problem Statement\n",
    "You want to analyze the monthly trend of orders to understand business seasonality, peak sales periods, or dips in activity. This helps in forecasting, campaign planning, and resource allocation.\n",
    "\n",
    "Plot a bar chart showing the total number of orders per Order_Month."
   ]
  },
  {
   "cell_type": "code",
   "execution_count": null,
   "id": "3a984a7d",
   "metadata": {},
   "outputs": [
    {
     "name": "stdout",
     "output_type": "stream",
     "text": [
      "[INFO] [VISUALIZE] Prompt: Create a bar chart showing the number of orders per Order_Month. Use the Order_Month column on the x-axis and the count of Order ID on the y-axis.Sort the months chronologically (not alphabetically), and label the axes and title clearly.\n"
     ]
    },
    {
     "name": "stdout",
     "output_type": "stream",
     "text": [
      "[DEBUG] [VISUALIZE] Code:\n",
      " df['Order_Month'] = df['Date'].dt.to_period('M')\n",
      "fig = go.Figure(data=[go.Bar(x=df.groupby('Order_Month')['Order ID'].count().sort_index().index, y=df.groupby('Order_Month')['Order ID'].count().sort_index().values)])\n",
      "fig.update_layout(xaxis_title='Order Month', yaxis_title='Number of Orders', title='Orders per Month')\n",
      "[ERROR] Failed to render chart: Object of type Period is not JSON serializable\n",
      "[DEBUG] Code was:\n",
      " df['Order_Month'] = df['Date'].dt.to_period('M')\n",
      "fig = go.Figure(data=[go.Bar(x=df.groupby('Order_Month')['Order ID'].count().sort_index().index, y=df.groupby('Order_Month')['Order ID'].count().sort_index().values)])\n",
      "fig.update_layout(xaxis_title='Order Month', yaxis_title='Number of Orders', title='Orders per Month')\n"
     ]
    }
   ],
   "source": [
    "assistant.visualize(transformed_data, prompt=\"Create a bar chart showing the number of orders per Order_Month. Use the Order_Month column on the x-axis and the count of Order ID on the y-axis.Sort the months chronologically (not alphabetically), and label the axes and title clearly.\", name=\"revenue_bar\")"
   ]
  },
  {
   "cell_type": "code",
   "execution_count": null,
   "id": "1ce61d57",
   "metadata": {},
   "outputs": [
    {
     "data": {
      "text/plain": [
       "1"
      ]
     },
     "execution_count": 32,
     "metadata": {},
     "output_type": "execute_result"
    }
   ],
   "source": [
    "len(assistant._charts)\n"
   ]
  },
  {
   "cell_type": "code",
   "execution_count": null,
   "id": "d21982c3",
   "metadata": {},
   "outputs": [
    {
     "name": "stdout",
     "output_type": "stream",
     "text": [
      "Chart Name: revenue_bar\n",
      "Prompt Used: Create a bar chart showing the number of orders per Order_Month. Use the Order_Month column on the x-axis and the count of Order ID on the y-axis.Sort the months chronologically (not alphabetically), and label the axes and title clearly.\n",
      "---\n"
     ]
    }
   ],
   "source": [
    "for chart in assistant._charts:\n",
    "    print(\"Chart Name:\", chart[\"name\"])\n",
    "    print(\"Prompt Used:\", chart[\"prompt\"])\n",
    "    print(\"---\")\n"
   ]
  },
  {
   "cell_type": "code",
   "execution_count": null,
   "id": "e1290c3c",
   "metadata": {},
   "outputs": [],
   "source": [
    "del assistant._charts[0:1:2]  # Deletes the first, second and third saved chart\n"
   ]
  },
  {
   "cell_type": "code",
   "execution_count": null,
   "id": "7ea0d32d",
   "metadata": {},
   "outputs": [],
   "source": [
    "for chart in assistant._charts:\n",
    "    print(\"Chart Name:\", chart[\"name\"])\n",
    "    print(\"Prompt Used:\", chart[\"prompt\"])\n",
    "    print(\"---\")\n"
   ]
  }
 ],
 "metadata": {
  "kernelspec": {
   "display_name": "Python 3",
   "language": "python",
   "name": "python3"
  },
  "language_info": {
   "codemirror_mode": {
    "name": "ipython",
    "version": 3
   },
   "file_extension": ".py",
   "mimetype": "text/x-python",
   "name": "python",
   "nbconvert_exporter": "python",
   "pygments_lexer": "ipython3",
   "version": "3.12.1"
  }
 },
 "nbformat": 4,
 "nbformat_minor": 5
}
