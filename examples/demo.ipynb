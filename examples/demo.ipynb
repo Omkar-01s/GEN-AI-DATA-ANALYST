{
 "cells": [
  {
   "cell_type": "code",
   "execution_count": 1,
   "id": "ec662d1e",
   "metadata": {},
   "outputs": [],
   "source": [
    "import sys\n",
    "import os\n",
    "\n",
    "# Add parent directory (../) to Python's search path\n",
    "sys.path.append(os.path.abspath(\"..\"))"
   ]
  },
  {
   "cell_type": "code",
   "execution_count": 2,
   "metadata": {},
   "outputs": [],
   "source": [
    "import numpy as np\n",
    "import pandas as pd\n"
   ]
  },
  {
   "cell_type": "markdown",
   "id": "a1c0930d",
   "metadata": {},
   "source": [
    "DATA IMPORT"
   ]
  },
  {
   "cell_type": "code",
   "execution_count": 3,
   "id": "67c618fc",
   "metadata": {},
   "outputs": [],
   "source": [
    "raw_data = pd.read_excel('/workspaces/GEN-AI-DATA-ANALYST/data/e_commerce.xlsx')"
   ]
  },
  {
   "cell_type": "code",
   "execution_count": 4,
   "id": "c4e98308",
   "metadata": {},
   "outputs": [
    {
     "data": {
      "text/html": [
       "<div>\n",
       "<style scoped>\n",
       "    .dataframe tbody tr th:only-of-type {\n",
       "        vertical-align: middle;\n",
       "    }\n",
       "\n",
       "    .dataframe tbody tr th {\n",
       "        vertical-align: top;\n",
       "    }\n",
       "\n",
       "    .dataframe thead th {\n",
       "        text-align: right;\n",
       "    }\n",
       "</style>\n",
       "<table border=\"1\" class=\"dataframe\">\n",
       "  <thead>\n",
       "    <tr style=\"text-align: right;\">\n",
       "      <th></th>\n",
       "      <th>index</th>\n",
       "      <th>Order ID</th>\n",
       "      <th>Cust ID</th>\n",
       "      <th>Gender</th>\n",
       "      <th>Age</th>\n",
       "      <th>Date</th>\n",
       "      <th>Status</th>\n",
       "      <th>Channel</th>\n",
       "      <th>SKU</th>\n",
       "      <th>Category</th>\n",
       "      <th>Size</th>\n",
       "      <th>Qty</th>\n",
       "      <th>currency</th>\n",
       "      <th>Amount</th>\n",
       "      <th>ship-city</th>\n",
       "      <th>ship-postal-code</th>\n",
       "      <th>ship-country</th>\n",
       "      <th>B2B</th>\n",
       "    </tr>\n",
       "  </thead>\n",
       "  <tbody>\n",
       "    <tr>\n",
       "      <th>0</th>\n",
       "      <td>1</td>\n",
       "      <td>171-1029312-3038738</td>\n",
       "      <td>1029312</td>\n",
       "      <td>Women</td>\n",
       "      <td>44</td>\n",
       "      <td>2022-12-04</td>\n",
       "      <td>Delivered</td>\n",
       "      <td>Myntra</td>\n",
       "      <td>JNE1233-BLUE-KR-031-XXL</td>\n",
       "      <td>kurta</td>\n",
       "      <td>XXL</td>\n",
       "      <td>1</td>\n",
       "      <td>INR</td>\n",
       "      <td>376</td>\n",
       "      <td>MOHALI</td>\n",
       "      <td>140301</td>\n",
       "      <td>IN</td>\n",
       "      <td>False</td>\n",
       "    </tr>\n",
       "    <tr>\n",
       "      <th>1</th>\n",
       "      <td>2</td>\n",
       "      <td>405-2183842-2225946</td>\n",
       "      <td>2183842</td>\n",
       "      <td>Women</td>\n",
       "      <td>29</td>\n",
       "      <td>2022-12-04</td>\n",
       "      <td>Delivered</td>\n",
       "      <td>Ajio</td>\n",
       "      <td>SET414-KR-NP-L</td>\n",
       "      <td>Set</td>\n",
       "      <td>L</td>\n",
       "      <td>1</td>\n",
       "      <td>INR</td>\n",
       "      <td>1449</td>\n",
       "      <td>GURUGRAM</td>\n",
       "      <td>122002</td>\n",
       "      <td>IN</td>\n",
       "      <td>False</td>\n",
       "    </tr>\n",
       "    <tr>\n",
       "      <th>2</th>\n",
       "      <td>3</td>\n",
       "      <td>171-1641533-8921966</td>\n",
       "      <td>1641533</td>\n",
       "      <td>Women</td>\n",
       "      <td>67</td>\n",
       "      <td>2022-12-04</td>\n",
       "      <td>Delivered</td>\n",
       "      <td>Myntra</td>\n",
       "      <td>SET261-KR-PP-S</td>\n",
       "      <td>Set</td>\n",
       "      <td>S</td>\n",
       "      <td>1</td>\n",
       "      <td>INR</td>\n",
       "      <td>453</td>\n",
       "      <td>KOLKATA</td>\n",
       "      <td>700029</td>\n",
       "      <td>IN</td>\n",
       "      <td>False</td>\n",
       "    </tr>\n",
       "    <tr>\n",
       "      <th>3</th>\n",
       "      <td>4</td>\n",
       "      <td>404-7490807-6300351</td>\n",
       "      <td>7490807</td>\n",
       "      <td>Women</td>\n",
       "      <td>20</td>\n",
       "      <td>2022-12-04</td>\n",
       "      <td>Delivered</td>\n",
       "      <td>Amazon</td>\n",
       "      <td>SET110-KR-PP-M</td>\n",
       "      <td>Set</td>\n",
       "      <td>M</td>\n",
       "      <td>1</td>\n",
       "      <td>INR</td>\n",
       "      <td>729</td>\n",
       "      <td>THANJAVUR</td>\n",
       "      <td>613007</td>\n",
       "      <td>IN</td>\n",
       "      <td>False</td>\n",
       "    </tr>\n",
       "    <tr>\n",
       "      <th>4</th>\n",
       "      <td>5</td>\n",
       "      <td>403-9293516-4577154</td>\n",
       "      <td>9293516</td>\n",
       "      <td>Women</td>\n",
       "      <td>62</td>\n",
       "      <td>2022-12-04</td>\n",
       "      <td>Delivered</td>\n",
       "      <td>Myntra</td>\n",
       "      <td>JNE2294-KR-A-XXL</td>\n",
       "      <td>kurta</td>\n",
       "      <td>XXL</td>\n",
       "      <td>1</td>\n",
       "      <td>INR</td>\n",
       "      <td>544</td>\n",
       "      <td>GURUGRAM</td>\n",
       "      <td>122001</td>\n",
       "      <td>IN</td>\n",
       "      <td>False</td>\n",
       "    </tr>\n",
       "  </tbody>\n",
       "</table>\n",
       "</div>"
      ],
      "text/plain": [
       "   index             Order ID  Cust ID Gender  Age       Date     Status  \\\n",
       "0      1  171-1029312-3038738  1029312  Women   44 2022-12-04  Delivered   \n",
       "1      2  405-2183842-2225946  2183842  Women   29 2022-12-04  Delivered   \n",
       "2      3  171-1641533-8921966  1641533  Women   67 2022-12-04  Delivered   \n",
       "3      4  404-7490807-6300351  7490807  Women   20 2022-12-04  Delivered   \n",
       "4      5  403-9293516-4577154  9293516  Women   62 2022-12-04  Delivered   \n",
       "\n",
       "  Channel                       SKU Category Size Qty currency  Amount  \\\n",
       "0   Myntra  JNE1233-BLUE-KR-031-XXL    kurta  XXL   1      INR     376   \n",
       "1     Ajio           SET414-KR-NP-L      Set    L   1      INR    1449   \n",
       "2   Myntra           SET261-KR-PP-S      Set    S   1      INR     453   \n",
       "3   Amazon           SET110-KR-PP-M      Set    M   1      INR     729   \n",
       "4   Myntra         JNE2294-KR-A-XXL    kurta  XXL   1      INR     544   \n",
       "\n",
       "   ship-city  ship-postal-code ship-country    B2B  \n",
       "0     MOHALI            140301           IN  False  \n",
       "1   GURUGRAM            122002           IN  False  \n",
       "2    KOLKATA            700029           IN  False  \n",
       "3  THANJAVUR            613007           IN  False  \n",
       "4   GURUGRAM            122001           IN  False  "
      ]
     },
     "execution_count": 4,
     "metadata": {},
     "output_type": "execute_result"
    }
   ],
   "source": [
    "raw_data.head()"
   ]
  },
  {
   "cell_type": "code",
   "execution_count": 5,
   "id": "b51dff59",
   "metadata": {},
   "outputs": [],
   "source": [
    "def scalable_data_profiler(df, sample_size=10000, top_n=5):\n",
    "    print(\"📊 BASIC INFO\")\n",
    "    print(f\"- Shape: {df.shape}\")\n",
    "    print(f\"- Columns: {list(df.columns[:10])}...\")  # show only first 10\n",
    "    print(f\"- Memory Usage: ~{df.memory_usage(deep=False).sum() / 1024**2:.2f} MB\\n\")\n",
    "\n",
    "    print(\"🔍 MISSING VALUES (%):\")\n",
    "    missing = df.isnull().mean() * 100\n",
    "    print(missing[missing > 0].sort_values(ascending=False).head(10), \"\\n\")\n",
    "\n",
    "    print(\"🧮 UNIQUE VALUES (Top 10 Columns):\")\n",
    "    unique_counts = df.nunique().sort_values(ascending=False).head(10)\n",
    "    print(unique_counts, \"\\n\")\n",
    "\n",
    "    print(\"📈 NUMERICAL STATS (Sampled if > sample_size):\")\n",
    "    df_sample = df.sample(sample_size) if len(df) > sample_size else df\n",
    "    print(df_sample.describe(include=[np.number]).T, \"\\n\")\n",
    "\n",
    "    print(\"🗂️ CATEGORICAL PREVIEW:\")\n",
    "    cat_cols = df.select_dtypes(include=['object', 'category']).columns\n",
    "    for col in cat_cols[:10]:  # process only first 10 for speed\n",
    "        print(f\"\\n🔹 Column: {col}\")\n",
    "        print(f\" - Unique: {df[col].nunique()}\")\n",
    "        print(f\" - Top {top_n}:\\n{df[col].astype(str).value_counts(dropna=False).head(top_n)}\")\n",
    "\n",
    "    print(\"\\n📊 CORRELATION MATRIX (Top Pairs Only):\")\n",
    "    num_cols = df.select_dtypes(include=np.number)\n",
    "    if num_cols.shape[1] >= 2:\n",
    "        corr = num_cols.corr().abs().unstack().sort_values(ascending=False)\n",
    "        corr = corr[corr < 1.0].drop_duplicates().head(10)\n",
    "        print(corr)\n",
    "    else:\n",
    "        print(\" - Not enough numerical columns for correlation.\")"
   ]
  },
  {
   "cell_type": "code",
   "execution_count": 6,
   "id": "884942aa",
   "metadata": {},
   "outputs": [
    {
     "name": "stdout",
     "output_type": "stream",
     "text": [
      "📊 BASIC INFO\n",
      "- Shape: (31047, 18)\n",
      "- Columns: ['index', 'Order ID', 'Cust ID', 'Gender', 'Age', 'Date', 'Status', 'Channel ', 'SKU', 'Category']...\n",
      "- Memory Usage: ~4.06 MB\n",
      "\n",
      "🔍 MISSING VALUES (%):\n",
      "Series([], dtype: float64) \n",
      "\n",
      "🧮 UNIQUE VALUES (Top 10 Columns):\n",
      "index               31047\n",
      "Order ID            28471\n",
      "Cust ID             28437\n",
      "SKU                  5287\n",
      "ship-postal-code     4958\n",
      "ship-city            2603\n",
      "Amount                769\n",
      "Age                    61\n",
      "Date                   36\n",
      "Size                   11\n",
      "dtype: int64 \n",
      "\n",
      "📈 NUMERICAL STATS (Sampled if > sample_size):\n",
      "                    count          mean           std       min         25%  \\\n",
      "index             10000.0  1.561892e+04  9.001360e+03       4.0     7837.75   \n",
      "Cust ID           10000.0  4.964314e+06  2.899815e+06     895.0  2447515.00   \n",
      "Age               10000.0  3.936940e+01  1.511619e+01      18.0       27.00   \n",
      "Amount            10000.0  6.841969e+02  2.677823e+02     229.0      487.00   \n",
      "ship-postal-code  10000.0  4.591649e+05  1.965731e+05  110002.0   313001.00   \n",
      "\n",
      "                        50%         75%        max  \n",
      "index               15700.0    23360.25    31047.0  \n",
      "Cust ID           4958886.0  7490705.75  9998736.0  \n",
      "Age                    37.0       47.00       78.0  \n",
      "Amount                649.0      792.00     2894.0  \n",
      "ship-postal-code   500027.5   600020.00   855117.0   \n",
      "\n",
      "🗂️ CATEGORICAL PREVIEW:\n",
      "\n",
      "🔹 Column: Order ID\n",
      " - Unique: 28471\n",
      " - Top 5:\n",
      "Order ID\n",
      "403-4984515-8861958    12\n",
      "403-0173977-3041148    11\n",
      "404-3701762-8241125     9\n",
      "402-2997706-3326710     8\n",
      "403-9984530-4477124     7\n",
      "Name: count, dtype: int64\n",
      "\n",
      "🔹 Column: Gender\n",
      " - Unique: 4\n",
      " - Top 5:\n",
      "Gender\n",
      "Women    21479\n",
      "Men       9452\n",
      "W           74\n",
      "M           42\n",
      "Name: count, dtype: int64\n",
      "\n",
      "🔹 Column: Status\n",
      " - Unique: 4\n",
      " - Top 5:\n",
      "Status\n",
      "Delivered    28641\n",
      "Returned      1045\n",
      "Cancelled      844\n",
      "Refunded       517\n",
      "Name: count, dtype: int64\n",
      "\n",
      "🔹 Column: Channel \n",
      " - Unique: 7\n",
      " - Top 5:\n",
      "Channel \n",
      "Amazon      11016\n",
      "Myntra       7254\n",
      "Flipkart     6703\n",
      "Ajio         1931\n",
      "Nalli        1484\n",
      "Name: count, dtype: int64\n",
      "\n",
      "🔹 Column: SKU\n",
      " - Unique: 5287\n",
      " - Top 5:\n",
      "SKU\n",
      "JNE3797-KR-L      273\n",
      "JNE3797-KR-M      232\n",
      "JNE3797-KR-S      169\n",
      "JNE3797-KR-XXL    150\n",
      "JNE3797-KR-XL     149\n",
      "Name: count, dtype: int64\n",
      "\n",
      "🔹 Column: Category\n",
      " - Unique: 8\n",
      " - Top 5:\n",
      "Category\n",
      "Set              12391\n",
      "kurta            10446\n",
      "Western Dress     4066\n",
      "Top               2193\n",
      "Saree             1380\n",
      "Name: count, dtype: int64\n",
      "\n",
      "🔹 Column: Size\n",
      " - Unique: 11\n",
      " - Top 5:\n",
      "Size\n",
      "M      5485\n",
      "L      5144\n",
      "XL     4437\n",
      "S      4176\n",
      "XXL    4065\n",
      "Name: count, dtype: int64\n",
      "\n",
      "🔹 Column: Qty\n",
      " - Unique: 7\n",
      " - Top 5:\n",
      "Qty\n",
      "1      30878\n",
      "2        114\n",
      "3         19\n",
      "Two       16\n",
      "One       13\n",
      "Name: count, dtype: int64\n",
      "\n",
      "🔹 Column: currency\n",
      " - Unique: 1\n",
      " - Top 5:\n",
      "currency\n",
      "INR    31047\n",
      "Name: count, dtype: int64\n",
      "\n",
      "🔹 Column: ship-city\n",
      " - Unique: 2603\n",
      " - Top 5:\n",
      "ship-city\n",
      "BENGALURU    2540\n",
      "HYDERABAD    1785\n",
      "NEW DELHI    1560\n",
      "CHENNAI      1272\n",
      "MUMBAI       1224\n",
      "Name: count, dtype: int64\n",
      "\n",
      "📊 CORRELATION MATRIX (Top Pairs Only):\n",
      "ship-postal-code  Amount              0.053002\n",
      "Amount            index               0.018988\n",
      "ship-postal-code  index               0.007707\n",
      "                  Cust ID             0.005703\n",
      "index             Cust ID             0.004680\n",
      "Amount            Age                 0.003522\n",
      "index             Age                 0.002517\n",
      "Age               ship-postal-code    0.001582\n",
      "                  Cust ID             0.001286\n",
      "Cust ID           Amount              0.000691\n",
      "dtype: float64\n"
     ]
    }
   ],
   "source": [
    "scalable_data_profiler(raw_data)"
   ]
  },
  {
   "cell_type": "code",
   "execution_count": 7,
   "id": "af431ba8",
   "metadata": {},
   "outputs": [
    {
     "name": "stdout",
     "output_type": "stream",
     "text": [
      "\n",
      "Column: index\n",
      " - Number of Unique Categories: 31047\n",
      " - Sample Categories: [ 1  2  3  4  5  6  7  8  9 10]\n",
      "\n",
      "Column: Order ID\n",
      " - Number of Unique Categories: 28471\n",
      " - Sample Categories: ['171-1029312-3038738' '405-2183842-2225946' '171-1641533-8921966'\n",
      " '404-7490807-6300351' '403-9293516-4577154' '407-1298130-0368305'\n",
      " '171-5561216-3398711' '408-2935263-2935550' '404-2648970-9042715'\n",
      " '408-0265357-4939534']\n",
      "\n",
      "Column: Cust ID\n",
      " - Number of Unique Categories: 28437\n",
      " - Sample Categories: [1029312 2183842 1641533 7490807 9293516 1298130 5561216 2935263 2648970\n",
      "  265357]\n",
      "\n",
      "Column: Gender\n",
      " - Number of Unique Categories: 4\n",
      " - Sample Categories: ['Women' 'Men' 'W' 'M']\n",
      "\n",
      "Column: Age\n",
      " - Number of Unique Categories: 61\n",
      " - Sample Categories: [44 29 67 20 62 49 23 70 75 43]\n",
      "\n",
      "Column: Date\n",
      " - Number of Unique Categories: 36\n",
      " - Sample Categories: <DatetimeArray>\n",
      "['2022-12-04 00:00:00', '2022-11-04 00:00:00', '2022-10-04 00:00:00',\n",
      " '2022-09-04 00:00:00', '2022-08-04 00:00:00', '2022-07-04 00:00:00',\n",
      " '2022-06-04 00:00:00', '2022-05-04 00:00:00', '2022-04-04 00:00:00',\n",
      " '2022-03-04 00:00:00']\n",
      "Length: 10, dtype: datetime64[ns]\n",
      "\n",
      "Column: Status\n",
      " - Number of Unique Categories: 4\n",
      " - Sample Categories: ['Delivered' 'Refunded' 'Cancelled' 'Returned']\n",
      "\n",
      "Column: Channel \n",
      " - Number of Unique Categories: 7\n",
      " - Sample Categories: ['Myntra' 'Ajio' 'Amazon' 'Flipkart' 'Meesho' 'Others' 'Nalli']\n",
      "\n",
      "Column: SKU\n",
      " - Number of Unique Categories: 5287\n",
      " - Sample Categories: ['JNE1233-BLUE-KR-031-XXL' 'SET414-KR-NP-L' 'SET261-KR-PP-S'\n",
      " 'SET110-KR-PP-M' 'JNE2294-KR-A-XXL' 'JNE3797-KR-XXL' 'JNE3801-KR-XXL'\n",
      " 'JNE3405-KR-M' 'JNE3474-KR-E-XL' 'JNE3466-KR-L']\n",
      "\n",
      "Column: Category\n",
      " - Number of Unique Categories: 8\n",
      " - Sample Categories: ['kurta' 'Set' 'Western Dress' 'Top' 'Saree' 'Blouse' 'Ethnic Dress'\n",
      " 'Bottom']\n",
      "\n",
      "Column: Size\n",
      " - Number of Unique Categories: 11\n",
      " - Sample Categories: ['XXL' 'L' 'S' 'M' 'XL' 'XS' '3XL' 'Free' '6XL' '4XL']\n",
      "\n",
      "Column: Qty\n",
      " - Number of Unique Categories: 7\n",
      " - Sample Categories: [1 'One' 2 4 3 'Two' 5]\n",
      "\n",
      "Column: currency\n",
      " - Number of Unique Categories: 1\n",
      " - Sample Categories: ['INR']\n",
      "\n",
      "Column: Amount\n",
      " - Number of Unique Categories: 769\n",
      " - Sample Categories: [ 376 1449  453  729  544  735  435  385  771  517]\n",
      "\n",
      "Column: ship-city\n",
      " - Number of Unique Categories: 2603\n",
      " - Sample Categories: ['MOHALI' 'GURUGRAM' 'KOLKATA' 'THANJAVUR' 'SANGLI MIRAJ KUPWAD'\n",
      " 'BENGALURU' 'VIJAYAWADA' 'THIRUVANANTHAPURAM' 'ARAKONAM' 'GUWAHATI']\n",
      "\n",
      "Column: ship-postal-code\n",
      " - Number of Unique Categories: 4958\n",
      " - Sample Categories: [140301 122002 700029 613007 122001 416436 560029 562149 520002 695018]\n",
      "\n",
      "Column: ship-country\n",
      " - Number of Unique Categories: 1\n",
      " - Sample Categories: ['IN']\n",
      "\n",
      "Column: B2B\n",
      " - Number of Unique Categories: 2\n",
      " - Sample Categories: [False  True]\n"
     ]
    }
   ],
   "source": [
    "category_summary = {}\n",
    "\n",
    "for col in raw_data.columns:\n",
    "    unique_vals = raw_data[col].dropna().unique()\n",
    "    num_unique = len(unique_vals)\n",
    "    category_summary[col] = {\n",
    "        \"Num_Unique\": num_unique,\n",
    "        \"Sample_Values\": unique_vals[:10]  # show only first 10 for brevity\n",
    "    }\n",
    "\n",
    "# Display the results\n",
    "for col, info in category_summary.items():\n",
    "    print(f\"\\nColumn: {col}\")\n",
    "    print(f\" - Number of Unique Categories: {info['Num_Unique']}\")\n",
    "    print(f\" - Sample Categories: {info['Sample_Values']}\")"
   ]
  },
  {
   "cell_type": "markdown",
   "id": "3979aab7",
   "metadata": {},
   "source": [
    "2.0 DATA PREPROCESSING"
   ]
  },
  {
   "cell_type": "code",
   "execution_count": 8,
   "id": "1a87e49e",
   "metadata": {},
   "outputs": [],
   "source": [
    "from genai_dataanalyst.assistant import AnalystAssistant\n",
    "assistant = AnalystAssistant()"
   ]
  },
  {
   "cell_type": "markdown",
   "id": "f8917e48",
   "metadata": {},
   "source": [
    "2.1 Solves Categorical Problem"
   ]
  },
  {
   "cell_type": "markdown",
   "id": "f1d052a2",
   "metadata": {},
   "source": [
    "If You standardized the Gender column to ensure it contains only 'Men' or 'Women' by replacing abbreviations: 'W' was changed to 'Women' and 'M' to 'Men'. This makes gender data clean and consistent for analysis."
   ]
  },
  {
   "cell_type": "code",
   "execution_count": 9,
   "id": "8a68f914",
   "metadata": {},
   "outputs": [
    {
     "name": "stdout",
     "output_type": "stream",
     "text": [
      "[INFO] [CLEAN] Prompt: Standardize the 'Gender' column so that it only contains 'Men' or 'Women'. Replace 'W' with 'Women' and 'M' with 'Men'.\n",
      "[DEBUG] [CLEAN] Generated Code:\n",
      " df['Gender'] = df['Gender'].replace({'W': 'Women', 'M': 'Men'})\n"
     ]
    }
   ],
   "source": [
    "new_data = assistant.clean(raw_data, prompt=\"Standardize the 'Gender' column so that it only contains 'Men' or 'Women'. Replace 'W' with 'Women' and 'M' with 'Men'.\")"
   ]
  },
  {
   "cell_type": "code",
   "execution_count": 10,
   "id": "cd8fc8b1",
   "metadata": {},
   "outputs": [
    {
     "data": {
      "text/plain": [
       "array(['Women', 'Men'], dtype=object)"
      ]
     },
     "execution_count": 10,
     "metadata": {},
     "output_type": "execute_result"
    }
   ],
   "source": [
    "new_data['Gender'].unique() # New data"
   ]
  },
  {
   "cell_type": "code",
   "execution_count": 11,
   "id": "58f89387",
   "metadata": {},
   "outputs": [
    {
     "data": {
      "text/plain": [
       "array(['Women', 'Men', 'W', 'M'], dtype=object)"
      ]
     },
     "execution_count": 11,
     "metadata": {},
     "output_type": "execute_result"
    }
   ],
   "source": [
    "raw_data['Gender'].unique()  # Old data"
   ]
  },
  {
   "cell_type": "markdown",
   "id": "2b9753cc",
   "metadata": {},
   "source": [
    "If You cleaned the Qty column by converting text values like 'One' and 'Two' into their numeric forms 1 and 2, so the entire column now contains only numbers. This makes quantity data consistent and ready for calculations"
   ]
  },
  {
   "cell_type": "code",
   "execution_count": 12,
   "id": "60690d22",
   "metadata": {},
   "outputs": [
    {
     "name": "stdout",
     "output_type": "stream",
     "text": [
      "[INFO] [CLEAN] Prompt: Standadize all textual quantity values in the Qty column (e.g., 'One', 'Two') to their numeric equivalents (e.g., 1, 2). Ensure the column is entirely numeric after conversion so datatype should be int \n",
      "[DEBUG] [CLEAN] Generated Code:\n",
      " qty_dict = {'One': 1, 'Two': 2, 'Three': 3, 'Four': 4, 'Five': 5, 'Six': 6, 'Seven': 7, 'Eight': 8, 'Nine': 9, 'Ten': 10}\n",
      "df['Qty'] = df['Qty'].map(qty_dict).fillna(df['Qty']).astype(int)\n"
     ]
    },
    {
     "name": "stderr",
     "output_type": "stream",
     "text": [
      "<string>:2: FutureWarning: Downcasting object dtype arrays on .fillna, .ffill, .bfill is deprecated and will change in a future version. Call result.infer_objects(copy=False) instead. To opt-in to the future behavior, set `pd.set_option('future.no_silent_downcasting', True)`\n"
     ]
    }
   ],
   "source": [
    "new_data = assistant.clean(new_data, prompt=\"Standadize all textual quantity values in the Qty column (e.g., 'One', 'Two') to their numeric equivalents (e.g., 1, 2). Ensure the column is entirely numeric after conversion so datatype should be int \")"
   ]
  },
  {
   "cell_type": "code",
   "execution_count": 13,
   "id": "d073d16f",
   "metadata": {},
   "outputs": [
    {
     "data": {
      "text/plain": [
       "array([1, 2, 4, 3, 5])"
      ]
     },
     "execution_count": 13,
     "metadata": {},
     "output_type": "execute_result"
    }
   ],
   "source": [
    "new_data['Qty'].unique() # New data\n"
   ]
  },
  {
   "cell_type": "code",
   "execution_count": 14,
   "id": "03143102",
   "metadata": {},
   "outputs": [
    {
     "data": {
      "text/plain": [
       "array([1, 'One', 2, 4, 3, 'Two', 5], dtype=object)"
      ]
     },
     "execution_count": 14,
     "metadata": {},
     "output_type": "execute_result"
    }
   ],
   "source": [
    "raw_data['Qty'].unique()  # Old data"
   ]
  },
  {
   "cell_type": "code",
   "execution_count": 15,
   "id": "4e65a487",
   "metadata": {},
   "outputs": [
    {
     "data": {
      "text/plain": [
       "index                        int64\n",
       "Order ID                    object\n",
       "Cust ID                      int64\n",
       "Gender                      object\n",
       "Age                          int64\n",
       "Date                datetime64[ns]\n",
       "Status                      object\n",
       "Channel                     object\n",
       "SKU                         object\n",
       "Category                    object\n",
       "Size                        object\n",
       "Qty                          int64\n",
       "currency                    object\n",
       "Amount                       int64\n",
       "ship-city                   object\n",
       "ship-postal-code             int64\n",
       "ship-country                object\n",
       "B2B                           bool\n",
       "dtype: object"
      ]
     },
     "execution_count": 15,
     "metadata": {},
     "output_type": "execute_result"
    }
   ],
   "source": [
    "new_data.dtypes"
   ]
  },
  {
   "cell_type": "markdown",
   "id": "5508620d",
   "metadata": {},
   "source": [
    "3.0 DATA TRANSFORMATION"
   ]
  },
  {
   "cell_type": "markdown",
   "id": "6e13ab5b",
   "metadata": {},
   "source": [
    "\n",
    "3.1 Playing With Columns."
   ]
  },
  {
   "cell_type": "markdown",
   "id": "a2ebe72b",
   "metadata": {},
   "source": [
    "I can extract the month and year from the Date column to create two new columns: Order_Month and Order_Year. This makes it easier to analyze sales trends over time, like comparing orders across different months or years."
   ]
  },
  {
   "cell_type": "code",
   "execution_count": 16,
   "id": "c32a2cdd",
   "metadata": {},
   "outputs": [
    {
     "name": "stdout",
     "output_type": "stream",
     "text": [
      "[INFO] [CLEAN] Prompt: From the Date column, extract the month and year into two new columns: Order_Month (as full month name) and Order_Year (as 4-digit year).Finally place both the newly created columns after Date column\n",
      "[DEBUG] [CLEAN] Generated Code:\n",
      " df[['Order_Month', 'Order_Year']] = df['Date'].dt.to_period('M').dt.strftime('%B %Y').str.split(' ', expand=True)\n",
      "df = df[['index', 'Order ID', 'Cust ID', 'Gender', 'Age', 'Date', 'Order_Month', 'Order_Year', 'Status', 'Channel ', 'SKU', 'Category', 'Size', 'Qty', 'currency', 'Amount', 'ship-city', 'ship-postal-code', 'ship-country', 'B2B']]\n"
     ]
    }
   ],
   "source": [
    "transformed_data = assistant.clean(new_data, prompt=\"From the Date column, extract the month and year into two new columns: Order_Month (as full month name) and Order_Year (as 4-digit year).Finally place both the newly created columns after Date column\")"
   ]
  },
  {
   "cell_type": "code",
   "execution_count": 17,
   "id": "3019d4fb",
   "metadata": {},
   "outputs": [
    {
     "data": {
      "text/html": [
       "<div>\n",
       "<style scoped>\n",
       "    .dataframe tbody tr th:only-of-type {\n",
       "        vertical-align: middle;\n",
       "    }\n",
       "\n",
       "    .dataframe tbody tr th {\n",
       "        vertical-align: top;\n",
       "    }\n",
       "\n",
       "    .dataframe thead th {\n",
       "        text-align: right;\n",
       "    }\n",
       "</style>\n",
       "<table border=\"1\" class=\"dataframe\">\n",
       "  <thead>\n",
       "    <tr style=\"text-align: right;\">\n",
       "      <th></th>\n",
       "      <th>index</th>\n",
       "      <th>Order ID</th>\n",
       "      <th>Cust ID</th>\n",
       "      <th>Gender</th>\n",
       "      <th>Age</th>\n",
       "      <th>Date</th>\n",
       "      <th>Order_Month</th>\n",
       "      <th>Order_Year</th>\n",
       "      <th>Status</th>\n",
       "      <th>Channel</th>\n",
       "      <th>SKU</th>\n",
       "      <th>Category</th>\n",
       "      <th>Size</th>\n",
       "      <th>Qty</th>\n",
       "      <th>currency</th>\n",
       "      <th>Amount</th>\n",
       "      <th>ship-city</th>\n",
       "      <th>ship-postal-code</th>\n",
       "      <th>ship-country</th>\n",
       "      <th>B2B</th>\n",
       "    </tr>\n",
       "  </thead>\n",
       "  <tbody>\n",
       "    <tr>\n",
       "      <th>0</th>\n",
       "      <td>1</td>\n",
       "      <td>171-1029312-3038738</td>\n",
       "      <td>1029312</td>\n",
       "      <td>Women</td>\n",
       "      <td>44</td>\n",
       "      <td>2022-12-04</td>\n",
       "      <td>December</td>\n",
       "      <td>2022</td>\n",
       "      <td>Delivered</td>\n",
       "      <td>Myntra</td>\n",
       "      <td>JNE1233-BLUE-KR-031-XXL</td>\n",
       "      <td>kurta</td>\n",
       "      <td>XXL</td>\n",
       "      <td>1</td>\n",
       "      <td>INR</td>\n",
       "      <td>376</td>\n",
       "      <td>MOHALI</td>\n",
       "      <td>140301</td>\n",
       "      <td>IN</td>\n",
       "      <td>False</td>\n",
       "    </tr>\n",
       "    <tr>\n",
       "      <th>1</th>\n",
       "      <td>2</td>\n",
       "      <td>405-2183842-2225946</td>\n",
       "      <td>2183842</td>\n",
       "      <td>Women</td>\n",
       "      <td>29</td>\n",
       "      <td>2022-12-04</td>\n",
       "      <td>December</td>\n",
       "      <td>2022</td>\n",
       "      <td>Delivered</td>\n",
       "      <td>Ajio</td>\n",
       "      <td>SET414-KR-NP-L</td>\n",
       "      <td>Set</td>\n",
       "      <td>L</td>\n",
       "      <td>1</td>\n",
       "      <td>INR</td>\n",
       "      <td>1449</td>\n",
       "      <td>GURUGRAM</td>\n",
       "      <td>122002</td>\n",
       "      <td>IN</td>\n",
       "      <td>False</td>\n",
       "    </tr>\n",
       "    <tr>\n",
       "      <th>2</th>\n",
       "      <td>3</td>\n",
       "      <td>171-1641533-8921966</td>\n",
       "      <td>1641533</td>\n",
       "      <td>Women</td>\n",
       "      <td>67</td>\n",
       "      <td>2022-12-04</td>\n",
       "      <td>December</td>\n",
       "      <td>2022</td>\n",
       "      <td>Delivered</td>\n",
       "      <td>Myntra</td>\n",
       "      <td>SET261-KR-PP-S</td>\n",
       "      <td>Set</td>\n",
       "      <td>S</td>\n",
       "      <td>1</td>\n",
       "      <td>INR</td>\n",
       "      <td>453</td>\n",
       "      <td>KOLKATA</td>\n",
       "      <td>700029</td>\n",
       "      <td>IN</td>\n",
       "      <td>False</td>\n",
       "    </tr>\n",
       "  </tbody>\n",
       "</table>\n",
       "</div>"
      ],
      "text/plain": [
       "   index             Order ID  Cust ID Gender  Age       Date Order_Month  \\\n",
       "0      1  171-1029312-3038738  1029312  Women   44 2022-12-04    December   \n",
       "1      2  405-2183842-2225946  2183842  Women   29 2022-12-04    December   \n",
       "2      3  171-1641533-8921966  1641533  Women   67 2022-12-04    December   \n",
       "\n",
       "  Order_Year     Status Channel                       SKU Category Size  Qty  \\\n",
       "0       2022  Delivered   Myntra  JNE1233-BLUE-KR-031-XXL    kurta  XXL    1   \n",
       "1       2022  Delivered     Ajio           SET414-KR-NP-L      Set    L    1   \n",
       "2       2022  Delivered   Myntra           SET261-KR-PP-S      Set    S    1   \n",
       "\n",
       "  currency  Amount ship-city  ship-postal-code ship-country    B2B  \n",
       "0      INR     376    MOHALI            140301           IN  False  \n",
       "1      INR    1449  GURUGRAM            122002           IN  False  \n",
       "2      INR     453   KOLKATA            700029           IN  False  "
      ]
     },
     "execution_count": 17,
     "metadata": {},
     "output_type": "execute_result"
    }
   ],
   "source": [
    "transformed_data.head(3)"
   ]
  },
  {
   "cell_type": "markdown",
   "id": "58fd9520",
   "metadata": {},
   "source": [
    "\n",
    "Suppose i want to create a new column called Age_Group that classifies each person based on their age: anyone under 20 is labeled a Teenager, those between 20 and 49 are labeled Adult, and those 50 or older are labeled Senior. This helps group customers into age based categories for better analysis."
   ]
  },
  {
   "cell_type": "code",
   "execution_count": 18,
   "id": "4f56ab6c",
   "metadata": {},
   "outputs": [
    {
     "name": "stdout",
     "output_type": "stream",
     "text": [
      "[INFO] [CLEAN] Prompt: Create a new column of 'Age' column named 'Age_Group'.Place the 'Age_Group' column besides 'Age' column  based on the Age column: If Age < 20 → Teenager , If Age ≥ 20 and < 50 → Adult , If Age ≥ 50 → Senior\n",
      "[DEBUG] [CLEAN] Generated Code:\n",
      " df['Age_Group'] = np.select([df['Age'] < 20, (df['Age'] >= 20) & (df['Age'] < 50), df['Age'] >= 50], ['Teenager', 'Adult', 'Senior'])\n",
      "cols = df.columns.tolist()\n",
      "cols.insert(cols.index('Age')+1, 'Age_Group')\n",
      "df = df[cols]\n",
      "[ERROR] Code execution failed: Choicelist and default value do not have a common dtype: The DType <class 'numpy.dtypes._PyLongDType'> could not be promoted by <class 'numpy.dtypes.StrDType'>. This means that no common DType exists for the given inputs. For example they cannot be stored in a single array unless the dtype is `object`. The full list of DTypes is: (<class 'numpy.dtypes.StrDType'>, <class 'numpy.dtypes.StrDType'>, <class 'numpy.dtypes.StrDType'>, <class 'numpy.dtypes._PyLongDType'>)\n",
      "[DEBUG] Failed code was:\n",
      " df['Age_Group'] = np.select([df['Age'] < 20, (df['Age'] >= 20) & (df['Age'] < 50), df['Age'] >= 50], ['Teenager', 'Adult', 'Senior'])\n",
      "cols = df.columns.tolist()\n",
      "cols.insert(cols.index('Age')+1, 'Age_Group')\n",
      "df = df[cols]\n"
     ]
    }
   ],
   "source": [
    "transformed_data = assistant.clean(transformed_data, prompt=\"Create a new column of 'Age' column named 'Age_Group'.Place the 'Age_Group' column besides 'Age' column  based on the Age column: If Age < 20 → Teenager , If Age ≥ 20 and < 50 → Adult , If Age ≥ 50 → Senior\")"
   ]
  },
  {
   "cell_type": "code",
   "execution_count": 19,
   "id": "bf1a3089",
   "metadata": {},
   "outputs": [
    {
     "data": {
      "text/html": [
       "<div>\n",
       "<style scoped>\n",
       "    .dataframe tbody tr th:only-of-type {\n",
       "        vertical-align: middle;\n",
       "    }\n",
       "\n",
       "    .dataframe tbody tr th {\n",
       "        vertical-align: top;\n",
       "    }\n",
       "\n",
       "    .dataframe thead th {\n",
       "        text-align: right;\n",
       "    }\n",
       "</style>\n",
       "<table border=\"1\" class=\"dataframe\">\n",
       "  <thead>\n",
       "    <tr style=\"text-align: right;\">\n",
       "      <th></th>\n",
       "      <th>index</th>\n",
       "      <th>Order ID</th>\n",
       "      <th>Cust ID</th>\n",
       "      <th>Gender</th>\n",
       "      <th>Age</th>\n",
       "      <th>Date</th>\n",
       "      <th>Order_Month</th>\n",
       "      <th>Order_Year</th>\n",
       "      <th>Status</th>\n",
       "      <th>Channel</th>\n",
       "      <th>SKU</th>\n",
       "      <th>Category</th>\n",
       "      <th>Size</th>\n",
       "      <th>Qty</th>\n",
       "      <th>currency</th>\n",
       "      <th>Amount</th>\n",
       "      <th>ship-city</th>\n",
       "      <th>ship-postal-code</th>\n",
       "      <th>ship-country</th>\n",
       "      <th>B2B</th>\n",
       "    </tr>\n",
       "  </thead>\n",
       "  <tbody>\n",
       "    <tr>\n",
       "      <th>0</th>\n",
       "      <td>1</td>\n",
       "      <td>171-1029312-3038738</td>\n",
       "      <td>1029312</td>\n",
       "      <td>Women</td>\n",
       "      <td>44</td>\n",
       "      <td>2022-12-04</td>\n",
       "      <td>December</td>\n",
       "      <td>2022</td>\n",
       "      <td>Delivered</td>\n",
       "      <td>Myntra</td>\n",
       "      <td>JNE1233-BLUE-KR-031-XXL</td>\n",
       "      <td>kurta</td>\n",
       "      <td>XXL</td>\n",
       "      <td>1</td>\n",
       "      <td>INR</td>\n",
       "      <td>376</td>\n",
       "      <td>MOHALI</td>\n",
       "      <td>140301</td>\n",
       "      <td>IN</td>\n",
       "      <td>False</td>\n",
       "    </tr>\n",
       "    <tr>\n",
       "      <th>1</th>\n",
       "      <td>2</td>\n",
       "      <td>405-2183842-2225946</td>\n",
       "      <td>2183842</td>\n",
       "      <td>Women</td>\n",
       "      <td>29</td>\n",
       "      <td>2022-12-04</td>\n",
       "      <td>December</td>\n",
       "      <td>2022</td>\n",
       "      <td>Delivered</td>\n",
       "      <td>Ajio</td>\n",
       "      <td>SET414-KR-NP-L</td>\n",
       "      <td>Set</td>\n",
       "      <td>L</td>\n",
       "      <td>1</td>\n",
       "      <td>INR</td>\n",
       "      <td>1449</td>\n",
       "      <td>GURUGRAM</td>\n",
       "      <td>122002</td>\n",
       "      <td>IN</td>\n",
       "      <td>False</td>\n",
       "    </tr>\n",
       "    <tr>\n",
       "      <th>2</th>\n",
       "      <td>3</td>\n",
       "      <td>171-1641533-8921966</td>\n",
       "      <td>1641533</td>\n",
       "      <td>Women</td>\n",
       "      <td>67</td>\n",
       "      <td>2022-12-04</td>\n",
       "      <td>December</td>\n",
       "      <td>2022</td>\n",
       "      <td>Delivered</td>\n",
       "      <td>Myntra</td>\n",
       "      <td>SET261-KR-PP-S</td>\n",
       "      <td>Set</td>\n",
       "      <td>S</td>\n",
       "      <td>1</td>\n",
       "      <td>INR</td>\n",
       "      <td>453</td>\n",
       "      <td>KOLKATA</td>\n",
       "      <td>700029</td>\n",
       "      <td>IN</td>\n",
       "      <td>False</td>\n",
       "    </tr>\n",
       "  </tbody>\n",
       "</table>\n",
       "</div>"
      ],
      "text/plain": [
       "   index             Order ID  Cust ID Gender  Age       Date Order_Month  \\\n",
       "0      1  171-1029312-3038738  1029312  Women   44 2022-12-04    December   \n",
       "1      2  405-2183842-2225946  2183842  Women   29 2022-12-04    December   \n",
       "2      3  171-1641533-8921966  1641533  Women   67 2022-12-04    December   \n",
       "\n",
       "  Order_Year     Status Channel                       SKU Category Size  Qty  \\\n",
       "0       2022  Delivered   Myntra  JNE1233-BLUE-KR-031-XXL    kurta  XXL    1   \n",
       "1       2022  Delivered     Ajio           SET414-KR-NP-L      Set    L    1   \n",
       "2       2022  Delivered   Myntra           SET261-KR-PP-S      Set    S    1   \n",
       "\n",
       "  currency  Amount ship-city  ship-postal-code ship-country    B2B  \n",
       "0      INR     376    MOHALI            140301           IN  False  \n",
       "1      INR    1449  GURUGRAM            122002           IN  False  \n",
       "2      INR     453   KOLKATA            700029           IN  False  "
      ]
     },
     "execution_count": 19,
     "metadata": {},
     "output_type": "execute_result"
    }
   ],
   "source": [
    "transformed_data.head(3)"
   ]
  },
  {
   "cell_type": "code",
   "execution_count": 20,
   "id": "3d51979f",
   "metadata": {},
   "outputs": [
    {
     "name": "stdout",
     "output_type": "stream",
     "text": [
      "[INFO] [CLEAN] Prompt: Drop the following columns from the dataset currency, ship-country, index\n",
      "[DEBUG] [CLEAN] Generated Code:\n",
      " df.drop(['currency', 'ship-country', 'index'], axis=1, inplace=True)\n"
     ]
    }
   ],
   "source": [
    "transformed_data = assistant.clean(transformed_data, prompt=\"Drop the following columns from the dataset currency, ship-country, index\")"
   ]
  },
  {
   "cell_type": "code",
   "execution_count": 21,
   "id": "950d6baa",
   "metadata": {},
   "outputs": [
    {
     "data": {
      "text/html": [
       "<div>\n",
       "<style scoped>\n",
       "    .dataframe tbody tr th:only-of-type {\n",
       "        vertical-align: middle;\n",
       "    }\n",
       "\n",
       "    .dataframe tbody tr th {\n",
       "        vertical-align: top;\n",
       "    }\n",
       "\n",
       "    .dataframe thead th {\n",
       "        text-align: right;\n",
       "    }\n",
       "</style>\n",
       "<table border=\"1\" class=\"dataframe\">\n",
       "  <thead>\n",
       "    <tr style=\"text-align: right;\">\n",
       "      <th></th>\n",
       "      <th>Order ID</th>\n",
       "      <th>Cust ID</th>\n",
       "      <th>Gender</th>\n",
       "      <th>Age</th>\n",
       "      <th>Date</th>\n",
       "      <th>Order_Month</th>\n",
       "      <th>Order_Year</th>\n",
       "      <th>Status</th>\n",
       "      <th>Channel</th>\n",
       "      <th>SKU</th>\n",
       "      <th>Category</th>\n",
       "      <th>Size</th>\n",
       "      <th>Qty</th>\n",
       "      <th>Amount</th>\n",
       "      <th>ship-city</th>\n",
       "      <th>ship-postal-code</th>\n",
       "      <th>B2B</th>\n",
       "    </tr>\n",
       "  </thead>\n",
       "  <tbody>\n",
       "    <tr>\n",
       "      <th>0</th>\n",
       "      <td>171-1029312-3038738</td>\n",
       "      <td>1029312</td>\n",
       "      <td>Women</td>\n",
       "      <td>44</td>\n",
       "      <td>2022-12-04</td>\n",
       "      <td>December</td>\n",
       "      <td>2022</td>\n",
       "      <td>Delivered</td>\n",
       "      <td>Myntra</td>\n",
       "      <td>JNE1233-BLUE-KR-031-XXL</td>\n",
       "      <td>kurta</td>\n",
       "      <td>XXL</td>\n",
       "      <td>1</td>\n",
       "      <td>376</td>\n",
       "      <td>MOHALI</td>\n",
       "      <td>140301</td>\n",
       "      <td>False</td>\n",
       "    </tr>\n",
       "    <tr>\n",
       "      <th>1</th>\n",
       "      <td>405-2183842-2225946</td>\n",
       "      <td>2183842</td>\n",
       "      <td>Women</td>\n",
       "      <td>29</td>\n",
       "      <td>2022-12-04</td>\n",
       "      <td>December</td>\n",
       "      <td>2022</td>\n",
       "      <td>Delivered</td>\n",
       "      <td>Ajio</td>\n",
       "      <td>SET414-KR-NP-L</td>\n",
       "      <td>Set</td>\n",
       "      <td>L</td>\n",
       "      <td>1</td>\n",
       "      <td>1449</td>\n",
       "      <td>GURUGRAM</td>\n",
       "      <td>122002</td>\n",
       "      <td>False</td>\n",
       "    </tr>\n",
       "  </tbody>\n",
       "</table>\n",
       "</div>"
      ],
      "text/plain": [
       "              Order ID  Cust ID Gender  Age       Date Order_Month Order_Year  \\\n",
       "0  171-1029312-3038738  1029312  Women   44 2022-12-04    December       2022   \n",
       "1  405-2183842-2225946  2183842  Women   29 2022-12-04    December       2022   \n",
       "\n",
       "      Status Channel                       SKU Category Size  Qty  Amount  \\\n",
       "0  Delivered   Myntra  JNE1233-BLUE-KR-031-XXL    kurta  XXL    1     376   \n",
       "1  Delivered     Ajio           SET414-KR-NP-L      Set    L    1    1449   \n",
       "\n",
       "  ship-city  ship-postal-code    B2B  \n",
       "0    MOHALI            140301  False  \n",
       "1  GURUGRAM            122002  False  "
      ]
     },
     "execution_count": 21,
     "metadata": {},
     "output_type": "execute_result"
    }
   ],
   "source": [
    "transformed_data.head(2)"
   ]
  },
  {
   "cell_type": "code",
   "execution_count": 22,
   "id": "d1b44fdd",
   "metadata": {},
   "outputs": [
    {
     "name": "stdout",
     "output_type": "stream",
     "text": [
      "\n",
      "Column: Order ID\n",
      " - Number of Unique Categories: 28471\n",
      " - Sample Categories: ['171-1029312-3038738' '405-2183842-2225946' '171-1641533-8921966'\n",
      " '404-7490807-6300351' '403-9293516-4577154' '407-1298130-0368305'\n",
      " '171-5561216-3398711' '408-2935263-2935550' '404-2648970-9042715'\n",
      " '408-0265357-4939534']\n",
      "\n",
      "Column: Cust ID\n",
      " - Number of Unique Categories: 28437\n",
      " - Sample Categories: [1029312 2183842 1641533 7490807 9293516 1298130 5561216 2935263 2648970\n",
      "  265357]\n",
      "\n",
      "Column: Gender\n",
      " - Number of Unique Categories: 2\n",
      " - Sample Categories: ['Women' 'Men']\n",
      "\n",
      "Column: Age\n",
      " - Number of Unique Categories: 61\n",
      " - Sample Categories: [44 29 67 20 62 49 23 70 75 43]\n",
      "\n",
      "Column: Date\n",
      " - Number of Unique Categories: 36\n",
      " - Sample Categories: <DatetimeArray>\n",
      "['2022-12-04 00:00:00', '2022-11-04 00:00:00', '2022-10-04 00:00:00',\n",
      " '2022-09-04 00:00:00', '2022-08-04 00:00:00', '2022-07-04 00:00:00',\n",
      " '2022-06-04 00:00:00', '2022-05-04 00:00:00', '2022-04-04 00:00:00',\n",
      " '2022-03-04 00:00:00']\n",
      "Length: 10, dtype: datetime64[ns]\n",
      "\n",
      "Column: Order_Month\n",
      " - Number of Unique Categories: 12\n",
      " - Sample Categories: ['December' 'November' 'October' 'September' 'August' 'July' 'June' 'May'\n",
      " 'April' 'March']\n",
      "\n",
      "Column: Order_Year\n",
      " - Number of Unique Categories: 1\n",
      " - Sample Categories: ['2022']\n",
      "\n",
      "Column: Status\n",
      " - Number of Unique Categories: 4\n",
      " - Sample Categories: ['Delivered' 'Refunded' 'Cancelled' 'Returned']\n",
      "\n",
      "Column: Channel \n",
      " - Number of Unique Categories: 7\n",
      " - Sample Categories: ['Myntra' 'Ajio' 'Amazon' 'Flipkart' 'Meesho' 'Others' 'Nalli']\n",
      "\n",
      "Column: SKU\n",
      " - Number of Unique Categories: 5287\n",
      " - Sample Categories: ['JNE1233-BLUE-KR-031-XXL' 'SET414-KR-NP-L' 'SET261-KR-PP-S'\n",
      " 'SET110-KR-PP-M' 'JNE2294-KR-A-XXL' 'JNE3797-KR-XXL' 'JNE3801-KR-XXL'\n",
      " 'JNE3405-KR-M' 'JNE3474-KR-E-XL' 'JNE3466-KR-L']\n",
      "\n",
      "Column: Category\n",
      " - Number of Unique Categories: 8\n",
      " - Sample Categories: ['kurta' 'Set' 'Western Dress' 'Top' 'Saree' 'Blouse' 'Ethnic Dress'\n",
      " 'Bottom']\n",
      "\n",
      "Column: Size\n",
      " - Number of Unique Categories: 11\n",
      " - Sample Categories: ['XXL' 'L' 'S' 'M' 'XL' 'XS' '3XL' 'Free' '6XL' '4XL']\n",
      "\n",
      "Column: Qty\n",
      " - Number of Unique Categories: 5\n",
      " - Sample Categories: [1 2 4 3 5]\n",
      "\n",
      "Column: Amount\n",
      " - Number of Unique Categories: 769\n",
      " - Sample Categories: [ 376 1449  453  729  544  735  435  385  771  517]\n",
      "\n",
      "Column: ship-city\n",
      " - Number of Unique Categories: 2603\n",
      " - Sample Categories: ['MOHALI' 'GURUGRAM' 'KOLKATA' 'THANJAVUR' 'SANGLI MIRAJ KUPWAD'\n",
      " 'BENGALURU' 'VIJAYAWADA' 'THIRUVANANTHAPURAM' 'ARAKONAM' 'GUWAHATI']\n",
      "\n",
      "Column: ship-postal-code\n",
      " - Number of Unique Categories: 4958\n",
      " - Sample Categories: [140301 122002 700029 613007 122001 416436 560029 562149 520002 695018]\n",
      "\n",
      "Column: B2B\n",
      " - Number of Unique Categories: 2\n",
      " - Sample Categories: [False  True]\n"
     ]
    }
   ],
   "source": [
    "category_summary_transformed = {}\n",
    "\n",
    "for col in transformed_data.columns:\n",
    "    unique_vals = transformed_data[col].dropna().unique()\n",
    "    num_unique = len(unique_vals)\n",
    "    category_summary_transformed[col] = {\n",
    "        \"Num_Unique\": num_unique,\n",
    "        \"Sample_Values\": unique_vals[:10]  # show only first 10 for brevity\n",
    "    }\n",
    "\n",
    "# Display the results\n",
    "for col, info in category_summary_transformed.items():\n",
    "    print(f\"\\nColumn: {col}\")\n",
    "    print(f\" - Number of Unique Categories: {info['Num_Unique']}\")\n",
    "    print(f\" - Sample Categories: {info['Sample_Values']}\")\n"
   ]
  },
  {
   "cell_type": "code",
   "execution_count": 23,
   "id": "3ae8ba37",
   "metadata": {},
   "outputs": [
    {
     "name": "stdout",
     "output_type": "stream",
     "text": [
      "[INFO] [TRANSFORM] Prompt: Encode the 'gender' column using LabelEncoder\n",
      "[DEBUG] [TRANSFORM] Generated Code:\n",
      " from sklearn.preprocessing import LabelEncoder\n",
      "le = LabelEncoder()\n",
      "df['Gender'] = le.fit_transform(df['Gender'])\n"
     ]
    }
   ],
   "source": [
    "transformed_data = assistant.transform(transformed_data, prompt=\"Encode the 'gender' column using LabelEncoder\")"
   ]
  },
  {
   "cell_type": "code",
   "execution_count": 28,
   "id": "45da26f0",
   "metadata": {},
   "outputs": [
    {
     "data": {
      "text/plain": [
       "array([1, 0])"
      ]
     },
     "execution_count": 28,
     "metadata": {},
     "output_type": "execute_result"
    }
   ],
   "source": [
    "transformed_data.head(2)\n",
    "transformed_data['Gender'].unique()"
   ]
  },
  {
   "cell_type": "markdown",
   "id": "98777ef6",
   "metadata": {},
   "source": [
    "Complex Transformation Problem"
   ]
  },
  {
   "cell_type": "markdown",
   "id": "476e9aaf",
   "metadata": {},
   "source": [
    "You calculated how much each customer spent in total, then used that to create a new column called CLV_Tier that classifies customers as Low, Medium, High, or VIP. This helps identify your most valuable customers for marketing and sales strategies.\n",
    "\n",
    "##### Why Complex?\n",
    "Requires grouping and aggregation by Cust ID.\n",
    "\n",
    "Involves merging back the tiered result into the original dataset.\n",
    "\n",
    "Prepares data for segmented marketing, loyalty programs, and revenue prediction models."
   ]
  },
  {
   "cell_type": "code",
   "execution_count": null,
   "id": "1ce5a6f0",
   "metadata": {},
   "outputs": [],
   "source": []
  }
 ],
 "metadata": {
  "kernelspec": {
   "display_name": "Python 3",
   "language": "python",
   "name": "python3"
  },
  "language_info": {
   "codemirror_mode": {
    "name": "ipython",
    "version": 3
   },
   "file_extension": ".py",
   "mimetype": "text/x-python",
   "name": "python",
   "nbconvert_exporter": "python",
   "pygments_lexer": "ipython3",
   "version": "3.12.1"
  }
 },
 "nbformat": 4,
 "nbformat_minor": 5
}
