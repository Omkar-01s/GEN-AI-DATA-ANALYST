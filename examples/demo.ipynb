{
 "cells": [
  {
   "cell_type": "code",
   "execution_count": 9,
   "id": "ec662d1e",
   "metadata": {},
   "outputs": [],
   "source": [
    "import sys\n",
    "import os\n",
    "\n",
    "# Add parent directory (../) to Python's search path\n",
    "sys.path.append(os.path.abspath(\"..\"))"
   ]
  },
  {
   "cell_type": "code",
   "execution_count": 10,
   "metadata": {},
   "outputs": [],
   "source": [
    "import numpy as np\n",
    "import pandas as pd\n"
   ]
  },
  {
   "cell_type": "markdown",
   "id": "a1c0930d",
   "metadata": {},
   "source": [
    "DATA IMPORT"
   ]
  },
  {
   "cell_type": "code",
   "execution_count": 11,
   "id": "67c618fc",
   "metadata": {},
   "outputs": [],
   "source": [
    "raw_data = pd.read_excel('/workspaces/GEN-AI-DATA-ANALYST/data/e_commerce.xlsx')"
   ]
  },
  {
   "cell_type": "code",
   "execution_count": 12,
   "id": "c4e98308",
   "metadata": {},
   "outputs": [
    {
     "data": {
      "text/html": [
       "<div>\n",
       "<style scoped>\n",
       "    .dataframe tbody tr th:only-of-type {\n",
       "        vertical-align: middle;\n",
       "    }\n",
       "\n",
       "    .dataframe tbody tr th {\n",
       "        vertical-align: top;\n",
       "    }\n",
       "\n",
       "    .dataframe thead th {\n",
       "        text-align: right;\n",
       "    }\n",
       "</style>\n",
       "<table border=\"1\" class=\"dataframe\">\n",
       "  <thead>\n",
       "    <tr style=\"text-align: right;\">\n",
       "      <th></th>\n",
       "      <th>index</th>\n",
       "      <th>Order ID</th>\n",
       "      <th>Cust ID</th>\n",
       "      <th>Gender</th>\n",
       "      <th>Age</th>\n",
       "      <th>Date</th>\n",
       "      <th>Status</th>\n",
       "      <th>Channel</th>\n",
       "      <th>SKU</th>\n",
       "      <th>Category</th>\n",
       "      <th>Size</th>\n",
       "      <th>Qty</th>\n",
       "      <th>currency</th>\n",
       "      <th>Amount</th>\n",
       "      <th>ship-city</th>\n",
       "      <th>ship-postal-code</th>\n",
       "      <th>ship-country</th>\n",
       "      <th>B2B</th>\n",
       "    </tr>\n",
       "  </thead>\n",
       "  <tbody>\n",
       "    <tr>\n",
       "      <th>0</th>\n",
       "      <td>1</td>\n",
       "      <td>171-1029312-3038738</td>\n",
       "      <td>1029312</td>\n",
       "      <td>Women</td>\n",
       "      <td>44</td>\n",
       "      <td>2022-12-04</td>\n",
       "      <td>Delivered</td>\n",
       "      <td>Myntra</td>\n",
       "      <td>JNE1233-BLUE-KR-031-XXL</td>\n",
       "      <td>kurta</td>\n",
       "      <td>XXL</td>\n",
       "      <td>1</td>\n",
       "      <td>INR</td>\n",
       "      <td>376</td>\n",
       "      <td>MOHALI</td>\n",
       "      <td>140301</td>\n",
       "      <td>IN</td>\n",
       "      <td>False</td>\n",
       "    </tr>\n",
       "    <tr>\n",
       "      <th>1</th>\n",
       "      <td>2</td>\n",
       "      <td>405-2183842-2225946</td>\n",
       "      <td>2183842</td>\n",
       "      <td>Women</td>\n",
       "      <td>29</td>\n",
       "      <td>2022-12-04</td>\n",
       "      <td>Delivered</td>\n",
       "      <td>Ajio</td>\n",
       "      <td>SET414-KR-NP-L</td>\n",
       "      <td>Set</td>\n",
       "      <td>L</td>\n",
       "      <td>1</td>\n",
       "      <td>INR</td>\n",
       "      <td>1449</td>\n",
       "      <td>GURUGRAM</td>\n",
       "      <td>122002</td>\n",
       "      <td>IN</td>\n",
       "      <td>False</td>\n",
       "    </tr>\n",
       "    <tr>\n",
       "      <th>2</th>\n",
       "      <td>3</td>\n",
       "      <td>171-1641533-8921966</td>\n",
       "      <td>1641533</td>\n",
       "      <td>Women</td>\n",
       "      <td>67</td>\n",
       "      <td>2022-12-04</td>\n",
       "      <td>Delivered</td>\n",
       "      <td>Myntra</td>\n",
       "      <td>SET261-KR-PP-S</td>\n",
       "      <td>Set</td>\n",
       "      <td>S</td>\n",
       "      <td>1</td>\n",
       "      <td>INR</td>\n",
       "      <td>453</td>\n",
       "      <td>KOLKATA</td>\n",
       "      <td>700029</td>\n",
       "      <td>IN</td>\n",
       "      <td>False</td>\n",
       "    </tr>\n",
       "    <tr>\n",
       "      <th>3</th>\n",
       "      <td>4</td>\n",
       "      <td>404-7490807-6300351</td>\n",
       "      <td>7490807</td>\n",
       "      <td>Women</td>\n",
       "      <td>20</td>\n",
       "      <td>2022-12-04</td>\n",
       "      <td>Delivered</td>\n",
       "      <td>Amazon</td>\n",
       "      <td>SET110-KR-PP-M</td>\n",
       "      <td>Set</td>\n",
       "      <td>M</td>\n",
       "      <td>1</td>\n",
       "      <td>INR</td>\n",
       "      <td>729</td>\n",
       "      <td>THANJAVUR</td>\n",
       "      <td>613007</td>\n",
       "      <td>IN</td>\n",
       "      <td>False</td>\n",
       "    </tr>\n",
       "    <tr>\n",
       "      <th>4</th>\n",
       "      <td>5</td>\n",
       "      <td>403-9293516-4577154</td>\n",
       "      <td>9293516</td>\n",
       "      <td>Women</td>\n",
       "      <td>62</td>\n",
       "      <td>2022-12-04</td>\n",
       "      <td>Delivered</td>\n",
       "      <td>Myntra</td>\n",
       "      <td>JNE2294-KR-A-XXL</td>\n",
       "      <td>kurta</td>\n",
       "      <td>XXL</td>\n",
       "      <td>1</td>\n",
       "      <td>INR</td>\n",
       "      <td>544</td>\n",
       "      <td>GURUGRAM</td>\n",
       "      <td>122001</td>\n",
       "      <td>IN</td>\n",
       "      <td>False</td>\n",
       "    </tr>\n",
       "  </tbody>\n",
       "</table>\n",
       "</div>"
      ],
      "text/plain": [
       "   index             Order ID  Cust ID Gender  Age       Date     Status  \\\n",
       "0      1  171-1029312-3038738  1029312  Women   44 2022-12-04  Delivered   \n",
       "1      2  405-2183842-2225946  2183842  Women   29 2022-12-04  Delivered   \n",
       "2      3  171-1641533-8921966  1641533  Women   67 2022-12-04  Delivered   \n",
       "3      4  404-7490807-6300351  7490807  Women   20 2022-12-04  Delivered   \n",
       "4      5  403-9293516-4577154  9293516  Women   62 2022-12-04  Delivered   \n",
       "\n",
       "  Channel                       SKU Category Size Qty currency  Amount  \\\n",
       "0   Myntra  JNE1233-BLUE-KR-031-XXL    kurta  XXL   1      INR     376   \n",
       "1     Ajio           SET414-KR-NP-L      Set    L   1      INR    1449   \n",
       "2   Myntra           SET261-KR-PP-S      Set    S   1      INR     453   \n",
       "3   Amazon           SET110-KR-PP-M      Set    M   1      INR     729   \n",
       "4   Myntra         JNE2294-KR-A-XXL    kurta  XXL   1      INR     544   \n",
       "\n",
       "   ship-city  ship-postal-code ship-country    B2B  \n",
       "0     MOHALI            140301           IN  False  \n",
       "1   GURUGRAM            122002           IN  False  \n",
       "2    KOLKATA            700029           IN  False  \n",
       "3  THANJAVUR            613007           IN  False  \n",
       "4   GURUGRAM            122001           IN  False  "
      ]
     },
     "execution_count": 12,
     "metadata": {},
     "output_type": "execute_result"
    }
   ],
   "source": [
    "raw_data.head()"
   ]
  },
  {
   "cell_type": "code",
   "execution_count": 13,
   "id": "b51dff59",
   "metadata": {},
   "outputs": [],
   "source": [
    "def scalable_data_profiler(df, sample_size=10000, top_n=5):\n",
    "    print(\"📊 BASIC INFO\")\n",
    "    print(f\"- Shape: {df.shape}\")\n",
    "    print(f\"- Columns: {list(df.columns[:10])}...\")  # show only first 10\n",
    "    print(f\"- Memory Usage: ~{df.memory_usage(deep=False).sum() / 1024**2:.2f} MB\\n\")\n",
    "\n",
    "    print(\"🔍 MISSING VALUES (%):\")\n",
    "    missing = df.isnull().mean() * 100\n",
    "    print(missing[missing > 0].sort_values(ascending=False).head(10), \"\\n\")\n",
    "\n",
    "    print(\"🧮 UNIQUE VALUES (Top 10 Columns):\")\n",
    "    unique_counts = df.nunique().sort_values(ascending=False).head(10)\n",
    "    print(unique_counts, \"\\n\")\n",
    "\n",
    "    print(\"📈 NUMERICAL STATS (Sampled if > sample_size):\")\n",
    "    df_sample = df.sample(sample_size) if len(df) > sample_size else df\n",
    "    print(df_sample.describe(include=[np.number]).T, \"\\n\")\n",
    "\n",
    "    print(\"🗂️ CATEGORICAL PREVIEW:\")\n",
    "    cat_cols = df.select_dtypes(include=['object', 'category']).columns\n",
    "    for col in cat_cols[:10]:  # process only first 10 for speed\n",
    "        print(f\"\\n🔹 Column: {col}\")\n",
    "        print(f\" - Unique: {df[col].nunique()}\")\n",
    "        print(f\" - Top {top_n}:\\n{df[col].astype(str).value_counts(dropna=False).head(top_n)}\")\n",
    "\n",
    "    print(\"\\n📊 CORRELATION MATRIX (Top Pairs Only):\")\n",
    "    num_cols = df.select_dtypes(include=np.number)\n",
    "    if num_cols.shape[1] >= 2:\n",
    "        corr = num_cols.corr().abs().unstack().sort_values(ascending=False)\n",
    "        corr = corr[corr < 1.0].drop_duplicates().head(10)\n",
    "        print(corr)\n",
    "    else:\n",
    "        print(\" - Not enough numerical columns for correlation.\")"
   ]
  },
  {
   "cell_type": "code",
   "execution_count": 14,
   "id": "884942aa",
   "metadata": {},
   "outputs": [
    {
     "name": "stdout",
     "output_type": "stream",
     "text": [
      "📊 BASIC INFO\n",
      "- Shape: (31047, 18)\n",
      "- Columns: ['index', 'Order ID', 'Cust ID', 'Gender', 'Age', 'Date', 'Status', 'Channel ', 'SKU', 'Category']...\n",
      "- Memory Usage: ~4.06 MB\n",
      "\n",
      "🔍 MISSING VALUES (%):\n",
      "Series([], dtype: float64) \n",
      "\n",
      "🧮 UNIQUE VALUES (Top 10 Columns):\n",
      "index               31047\n",
      "Order ID            28471\n",
      "Cust ID             28437\n",
      "SKU                  5287\n",
      "ship-postal-code     4958\n",
      "ship-city            2603\n",
      "Amount                769\n",
      "Age                    61\n",
      "Date                   36\n",
      "Size                   11\n",
      "dtype: int64 \n",
      "\n",
      "📈 NUMERICAL STATS (Sampled if > sample_size):\n",
      "                    count          mean           std       min         25%  \\\n",
      "index             10000.0  1.554422e+04  8.967173e+03       1.0     7764.25   \n",
      "Cust ID           10000.0  4.909274e+06  2.903489e+06    1387.0  2364661.00   \n",
      "Age               10000.0  3.936750e+01  1.508739e+01      18.0       27.00   \n",
      "Amount            10000.0  6.780895e+02  2.647286e+02     229.0      480.00   \n",
      "ship-postal-code  10000.0  4.604641e+05  1.985017e+05  110001.0   313001.75   \n",
      "\n",
      "                        50%         75%        max  \n",
      "index               15563.5    23417.75    31043.0  \n",
      "Cust ID           4873365.5  7431962.00  9998007.0  \n",
      "Age                    37.0       47.00       78.0  \n",
      "Amount                642.0      791.00     2442.0  \n",
      "ship-postal-code   500029.0   600037.00   855117.0   \n",
      "\n",
      "🗂️ CATEGORICAL PREVIEW:\n",
      "\n",
      "🔹 Column: Order ID\n",
      " - Unique: 28471\n",
      " - Top 5:\n",
      "Order ID\n",
      "403-4984515-8861958    12\n",
      "403-0173977-3041148    11\n",
      "404-3701762-8241125     9\n",
      "402-2997706-3326710     8\n",
      "403-9984530-4477124     7\n",
      "Name: count, dtype: int64\n",
      "\n",
      "🔹 Column: Gender\n",
      " - Unique: 4\n",
      " - Top 5:\n",
      "Gender\n",
      "Women    21479\n",
      "Men       9452\n",
      "W           74\n",
      "M           42\n",
      "Name: count, dtype: int64\n",
      "\n",
      "🔹 Column: Status\n",
      " - Unique: 4\n",
      " - Top 5:\n",
      "Status\n",
      "Delivered    28641\n",
      "Returned      1045\n",
      "Cancelled      844\n",
      "Refunded       517\n",
      "Name: count, dtype: int64\n",
      "\n",
      "🔹 Column: Channel \n",
      " - Unique: 7\n",
      " - Top 5:\n",
      "Channel \n",
      "Amazon      11016\n",
      "Myntra       7254\n",
      "Flipkart     6703\n",
      "Ajio         1931\n",
      "Nalli        1484\n",
      "Name: count, dtype: int64\n",
      "\n",
      "🔹 Column: SKU\n",
      " - Unique: 5287\n",
      " - Top 5:\n",
      "SKU\n",
      "JNE3797-KR-L      273\n",
      "JNE3797-KR-M      232\n",
      "JNE3797-KR-S      169\n",
      "JNE3797-KR-XXL    150\n",
      "JNE3797-KR-XL     149\n",
      "Name: count, dtype: int64\n",
      "\n",
      "🔹 Column: Category\n",
      " - Unique: 8\n",
      " - Top 5:\n",
      "Category\n",
      "Set              12391\n",
      "kurta            10446\n",
      "Western Dress     4066\n",
      "Top               2193\n",
      "Saree             1380\n",
      "Name: count, dtype: int64\n",
      "\n",
      "🔹 Column: Size\n",
      " - Unique: 11\n",
      " - Top 5:\n",
      "Size\n",
      "M      5485\n",
      "L      5144\n",
      "XL     4437\n",
      "S      4176\n",
      "XXL    4065\n",
      "Name: count, dtype: int64\n",
      "\n",
      "🔹 Column: Qty\n",
      " - Unique: 7\n",
      " - Top 5:\n",
      "Qty\n",
      "1      30878\n",
      "2        114\n",
      "3         19\n",
      "Two       16\n",
      "One       13\n",
      "Name: count, dtype: int64\n",
      "\n",
      "🔹 Column: currency\n",
      " - Unique: 1\n",
      " - Top 5:\n",
      "currency\n",
      "INR    31047\n",
      "Name: count, dtype: int64\n",
      "\n",
      "🔹 Column: ship-city\n",
      " - Unique: 2603\n",
      " - Top 5:\n",
      "ship-city\n",
      "BENGALURU    2540\n",
      "HYDERABAD    1785\n",
      "NEW DELHI    1560\n",
      "CHENNAI      1272\n",
      "MUMBAI       1224\n",
      "Name: count, dtype: int64\n",
      "\n",
      "📊 CORRELATION MATRIX (Top Pairs Only):\n",
      "ship-postal-code  Amount              0.053002\n",
      "Amount            index               0.018988\n",
      "ship-postal-code  index               0.007707\n",
      "                  Cust ID             0.005703\n",
      "index             Cust ID             0.004680\n",
      "Amount            Age                 0.003522\n",
      "index             Age                 0.002517\n",
      "Age               ship-postal-code    0.001582\n",
      "                  Cust ID             0.001286\n",
      "Cust ID           Amount              0.000691\n",
      "dtype: float64\n"
     ]
    }
   ],
   "source": [
    "scalable_data_profiler(raw_data)"
   ]
  },
  {
   "cell_type": "markdown",
   "id": "3979aab7",
   "metadata": {},
   "source": [
    "2.0 DATA PREPROCESSING"
   ]
  },
  {
   "cell_type": "code",
   "execution_count": 15,
   "id": "1a87e49e",
   "metadata": {},
   "outputs": [],
   "source": [
    "from genai_dataanalyst.assistant import AnalystAssistant\n",
    "assistant = AnalystAssistant()"
   ]
  },
  {
   "cell_type": "markdown",
   "id": "f8917e48",
   "metadata": {},
   "source": [
    "2.1 Solves Categorical Problem"
   ]
  },
  {
   "cell_type": "markdown",
   "id": "f1d052a2",
   "metadata": {},
   "source": [
    "If You standardized the Gender column to ensure it contains only 'Men' or 'Women' by replacing abbreviations: 'W' was changed to 'Women' and 'M' to 'Men'. This makes gender data clean and consistent for analysis."
   ]
  },
  {
   "cell_type": "code",
   "execution_count": 16,
   "id": "8a68f914",
   "metadata": {},
   "outputs": [
    {
     "name": "stdout",
     "output_type": "stream",
     "text": [
      "[INFO] [CLEAN] Prompt: Standardize the 'Gender' column so that it only contains 'Men' or 'Women'. Replace 'W' with 'Women' and 'M' with 'Men'.\n"
     ]
    },
    {
     "name": "stdout",
     "output_type": "stream",
     "text": [
      "[DEBUG] [CLEAN] Generated Code:\n",
      " df['Gender'] = df['Gender'].replace({'W': 'Women', 'M': 'Men'})\n"
     ]
    }
   ],
   "source": [
    "new_data = assistant.clean(raw_data, prompt=\"Standardize the 'Gender' column so that it only contains 'Men' or 'Women'. Replace 'W' with 'Women' and 'M' with 'Men'.\")"
   ]
  },
  {
   "cell_type": "code",
   "execution_count": 17,
   "id": "cd8fc8b1",
   "metadata": {},
   "outputs": [
    {
     "data": {
      "text/plain": [
       "array(['Women', 'Men'], dtype=object)"
      ]
     },
     "execution_count": 17,
     "metadata": {},
     "output_type": "execute_result"
    }
   ],
   "source": [
    "new_data['Gender'].unique() # New data"
   ]
  },
  {
   "cell_type": "code",
   "execution_count": 18,
   "id": "58f89387",
   "metadata": {},
   "outputs": [
    {
     "data": {
      "text/plain": [
       "array(['Women', 'Men', 'W', 'M'], dtype=object)"
      ]
     },
     "execution_count": 18,
     "metadata": {},
     "output_type": "execute_result"
    }
   ],
   "source": [
    "raw_data['Gender'].unique()  # Old data"
   ]
  },
  {
   "cell_type": "markdown",
   "id": "2b9753cc",
   "metadata": {},
   "source": [
    "If You cleaned the Qty column by converting text values like 'One' and 'Two' into their numeric forms 1 and 2, so the entire column now contains only numbers. This makes quantity data consistent and ready for calculations"
   ]
  },
  {
   "cell_type": "code",
   "execution_count": 19,
   "id": "60690d22",
   "metadata": {},
   "outputs": [
    {
     "name": "stdout",
     "output_type": "stream",
     "text": [
      "[INFO] [CLEAN] Prompt: Standadize all textual quantity values in the Qty column (e.g., 'One', 'Two') to their numeric equivalents (e.g., 1, 2). Ensure the column is entirely numeric after conversion so datatype should be int \n"
     ]
    },
    {
     "name": "stdout",
     "output_type": "stream",
     "text": [
      "[DEBUG] [CLEAN] Generated Code:\n",
      " qty_dict = {'One': 1, 'Two': 2, 'Three': 3, 'Four': 4, 'Five': 5, 'Six': 6, 'Seven': 7, 'Eight': 8, 'Nine': 9, 'Ten': 10}\n",
      "df['Qty'] = df['Qty'].map(qty_dict).fillna(df['Qty']).astype(int)\n"
     ]
    },
    {
     "name": "stderr",
     "output_type": "stream",
     "text": [
      "<string>:2: FutureWarning: Downcasting object dtype arrays on .fillna, .ffill, .bfill is deprecated and will change in a future version. Call result.infer_objects(copy=False) instead. To opt-in to the future behavior, set `pd.set_option('future.no_silent_downcasting', True)`\n"
     ]
    }
   ],
   "source": [
    "new_data = assistant.clean(new_data, prompt=\"Standadize all textual quantity values in the Qty column (e.g., 'One', 'Two') to their numeric equivalents (e.g., 1, 2). Ensure the column is entirely numeric after conversion so datatype should be int \")"
   ]
  },
  {
   "cell_type": "code",
   "execution_count": 20,
   "id": "d073d16f",
   "metadata": {},
   "outputs": [
    {
     "data": {
      "text/plain": [
       "array([1, 2, 4, 3, 5])"
      ]
     },
     "execution_count": 20,
     "metadata": {},
     "output_type": "execute_result"
    }
   ],
   "source": [
    "new_data['Qty'].unique() # New data\n"
   ]
  },
  {
   "cell_type": "code",
   "execution_count": 21,
   "id": "03143102",
   "metadata": {},
   "outputs": [
    {
     "data": {
      "text/plain": [
       "array([1, 'One', 2, 4, 3, 'Two', 5], dtype=object)"
      ]
     },
     "execution_count": 21,
     "metadata": {},
     "output_type": "execute_result"
    }
   ],
   "source": [
    "raw_data['Qty'].unique()  # Old data"
   ]
  },
  {
   "cell_type": "code",
   "execution_count": 22,
   "id": "4e65a487",
   "metadata": {},
   "outputs": [
    {
     "data": {
      "text/plain": [
       "index                        int64\n",
       "Order ID                    object\n",
       "Cust ID                      int64\n",
       "Gender                      object\n",
       "Age                          int64\n",
       "Date                datetime64[ns]\n",
       "Status                      object\n",
       "Channel                     object\n",
       "SKU                         object\n",
       "Category                    object\n",
       "Size                        object\n",
       "Qty                          int64\n",
       "currency                    object\n",
       "Amount                       int64\n",
       "ship-city                   object\n",
       "ship-postal-code             int64\n",
       "ship-country                object\n",
       "B2B                           bool\n",
       "dtype: object"
      ]
     },
     "execution_count": 22,
     "metadata": {},
     "output_type": "execute_result"
    }
   ],
   "source": [
    "new_data.dtypes"
   ]
  },
  {
   "cell_type": "markdown",
   "id": "5508620d",
   "metadata": {},
   "source": [
    "3.0 DATA TRANSFORMATION"
   ]
  },
  {
   "cell_type": "markdown",
   "id": "6e13ab5b",
   "metadata": {},
   "source": [
    "\n",
    "3.1 Playing With Columns."
   ]
  },
  {
   "cell_type": "markdown",
   "id": "a2ebe72b",
   "metadata": {},
   "source": [
    "I can extract the month and year from the Date column to create two new columns: Order_Month and Order_Year. This makes it easier to analyze sales trends over time, like comparing orders across different months or years."
   ]
  },
  {
   "cell_type": "code",
   "execution_count": 23,
   "id": "c32a2cdd",
   "metadata": {},
   "outputs": [
    {
     "name": "stdout",
     "output_type": "stream",
     "text": [
      "[INFO] [CLEAN] Prompt: From the Date column, extract the month and year into two new columns: Order_Month (as full month name) and Order_Year (as 4-digit year).Finally place both the newly created columns after Date column\n"
     ]
    },
    {
     "name": "stdout",
     "output_type": "stream",
     "text": [
      "[DEBUG] [CLEAN] Generated Code:\n",
      " df['Order_Month'] = pd.to_datetime(df['Date']).dt.strftime('%B')\n",
      "df['Order_Year'] = pd.to_datetime(df['Date']).dt.year\n",
      "cols = df.columns.tolist()\n",
      "cols.insert(6, cols.pop(cols.index('Order_Month')))\n",
      "cols.insert(6, cols.pop(cols.index('Order_Year')))\n",
      "df = df[cols]\n"
     ]
    }
   ],
   "source": [
    "transformed_data = assistant.clean(new_data, prompt=\"From the Date column, extract the month and year into two new columns: Order_Month (as full month name) and Order_Year (as 4-digit year).Finally place both the newly created columns after Date column\")"
   ]
  },
  {
   "cell_type": "code",
   "execution_count": 24,
   "id": "3019d4fb",
   "metadata": {},
   "outputs": [
    {
     "data": {
      "text/html": [
       "<div>\n",
       "<style scoped>\n",
       "    .dataframe tbody tr th:only-of-type {\n",
       "        vertical-align: middle;\n",
       "    }\n",
       "\n",
       "    .dataframe tbody tr th {\n",
       "        vertical-align: top;\n",
       "    }\n",
       "\n",
       "    .dataframe thead th {\n",
       "        text-align: right;\n",
       "    }\n",
       "</style>\n",
       "<table border=\"1\" class=\"dataframe\">\n",
       "  <thead>\n",
       "    <tr style=\"text-align: right;\">\n",
       "      <th></th>\n",
       "      <th>index</th>\n",
       "      <th>Order ID</th>\n",
       "      <th>Cust ID</th>\n",
       "      <th>Gender</th>\n",
       "      <th>Age</th>\n",
       "      <th>Date</th>\n",
       "      <th>Order_Year</th>\n",
       "      <th>Order_Month</th>\n",
       "      <th>Status</th>\n",
       "      <th>Channel</th>\n",
       "      <th>SKU</th>\n",
       "      <th>Category</th>\n",
       "      <th>Size</th>\n",
       "      <th>Qty</th>\n",
       "      <th>currency</th>\n",
       "      <th>Amount</th>\n",
       "      <th>ship-city</th>\n",
       "      <th>ship-postal-code</th>\n",
       "      <th>ship-country</th>\n",
       "      <th>B2B</th>\n",
       "    </tr>\n",
       "  </thead>\n",
       "  <tbody>\n",
       "    <tr>\n",
       "      <th>0</th>\n",
       "      <td>1</td>\n",
       "      <td>171-1029312-3038738</td>\n",
       "      <td>1029312</td>\n",
       "      <td>Women</td>\n",
       "      <td>44</td>\n",
       "      <td>2022-12-04</td>\n",
       "      <td>2022</td>\n",
       "      <td>December</td>\n",
       "      <td>Delivered</td>\n",
       "      <td>Myntra</td>\n",
       "      <td>JNE1233-BLUE-KR-031-XXL</td>\n",
       "      <td>kurta</td>\n",
       "      <td>XXL</td>\n",
       "      <td>1</td>\n",
       "      <td>INR</td>\n",
       "      <td>376</td>\n",
       "      <td>MOHALI</td>\n",
       "      <td>140301</td>\n",
       "      <td>IN</td>\n",
       "      <td>False</td>\n",
       "    </tr>\n",
       "    <tr>\n",
       "      <th>1</th>\n",
       "      <td>2</td>\n",
       "      <td>405-2183842-2225946</td>\n",
       "      <td>2183842</td>\n",
       "      <td>Women</td>\n",
       "      <td>29</td>\n",
       "      <td>2022-12-04</td>\n",
       "      <td>2022</td>\n",
       "      <td>December</td>\n",
       "      <td>Delivered</td>\n",
       "      <td>Ajio</td>\n",
       "      <td>SET414-KR-NP-L</td>\n",
       "      <td>Set</td>\n",
       "      <td>L</td>\n",
       "      <td>1</td>\n",
       "      <td>INR</td>\n",
       "      <td>1449</td>\n",
       "      <td>GURUGRAM</td>\n",
       "      <td>122002</td>\n",
       "      <td>IN</td>\n",
       "      <td>False</td>\n",
       "    </tr>\n",
       "    <tr>\n",
       "      <th>2</th>\n",
       "      <td>3</td>\n",
       "      <td>171-1641533-8921966</td>\n",
       "      <td>1641533</td>\n",
       "      <td>Women</td>\n",
       "      <td>67</td>\n",
       "      <td>2022-12-04</td>\n",
       "      <td>2022</td>\n",
       "      <td>December</td>\n",
       "      <td>Delivered</td>\n",
       "      <td>Myntra</td>\n",
       "      <td>SET261-KR-PP-S</td>\n",
       "      <td>Set</td>\n",
       "      <td>S</td>\n",
       "      <td>1</td>\n",
       "      <td>INR</td>\n",
       "      <td>453</td>\n",
       "      <td>KOLKATA</td>\n",
       "      <td>700029</td>\n",
       "      <td>IN</td>\n",
       "      <td>False</td>\n",
       "    </tr>\n",
       "  </tbody>\n",
       "</table>\n",
       "</div>"
      ],
      "text/plain": [
       "   index             Order ID  Cust ID Gender  Age       Date  Order_Year  \\\n",
       "0      1  171-1029312-3038738  1029312  Women   44 2022-12-04        2022   \n",
       "1      2  405-2183842-2225946  2183842  Women   29 2022-12-04        2022   \n",
       "2      3  171-1641533-8921966  1641533  Women   67 2022-12-04        2022   \n",
       "\n",
       "  Order_Month     Status Channel                       SKU Category Size  Qty  \\\n",
       "0    December  Delivered   Myntra  JNE1233-BLUE-KR-031-XXL    kurta  XXL    1   \n",
       "1    December  Delivered     Ajio           SET414-KR-NP-L      Set    L    1   \n",
       "2    December  Delivered   Myntra           SET261-KR-PP-S      Set    S    1   \n",
       "\n",
       "  currency  Amount ship-city  ship-postal-code ship-country    B2B  \n",
       "0      INR     376    MOHALI            140301           IN  False  \n",
       "1      INR    1449  GURUGRAM            122002           IN  False  \n",
       "2      INR     453   KOLKATA            700029           IN  False  "
      ]
     },
     "execution_count": 24,
     "metadata": {},
     "output_type": "execute_result"
    }
   ],
   "source": [
    "transformed_data.head(3)"
   ]
  },
  {
   "cell_type": "markdown",
   "id": "58fd9520",
   "metadata": {},
   "source": [
    "\n",
    "Suppose i want to create a new column called Age_Group that classifies each person based on their age: anyone under 20 is labeled a Teenager, those between 20 and 49 are labeled Adult, and those 50 or older are labeled Senior. This helps group customers into age based categories for better analysis."
   ]
  },
  {
   "cell_type": "code",
   "execution_count": 25,
   "id": "4f56ab6c",
   "metadata": {},
   "outputs": [
    {
     "name": "stdout",
     "output_type": "stream",
     "text": [
      "[INFO] [CLEAN] Prompt: Create a new column of 'Age' column named 'Age_Group'.Place the 'Age_Group' column besides 'Age' column  based on the Age column: If Age < 20 → Teenager , If Age ≥ 20 and < 50 → Adult , If Age ≥ 50 → Senior\n",
      "[DEBUG] [CLEAN] Generated Code:\n",
      " df['Age_Group'] = pd.cut(df['Age'], bins=[0, 20, 50, np.inf], labels=['Teenager', 'Adult', 'Senior'])\n"
     ]
    }
   ],
   "source": [
    "transformed_data = assistant.clean(transformed_data, prompt=\"Create a new column of 'Age' column named 'Age_Group'.Place the 'Age_Group' column besides 'Age' column  based on the Age column: If Age < 20 → Teenager , If Age ≥ 20 and < 50 → Adult , If Age ≥ 50 → Senior\")"
   ]
  },
  {
   "cell_type": "code",
   "execution_count": 26,
   "id": "bf1a3089",
   "metadata": {},
   "outputs": [
    {
     "data": {
      "text/html": [
       "<div>\n",
       "<style scoped>\n",
       "    .dataframe tbody tr th:only-of-type {\n",
       "        vertical-align: middle;\n",
       "    }\n",
       "\n",
       "    .dataframe tbody tr th {\n",
       "        vertical-align: top;\n",
       "    }\n",
       "\n",
       "    .dataframe thead th {\n",
       "        text-align: right;\n",
       "    }\n",
       "</style>\n",
       "<table border=\"1\" class=\"dataframe\">\n",
       "  <thead>\n",
       "    <tr style=\"text-align: right;\">\n",
       "      <th></th>\n",
       "      <th>index</th>\n",
       "      <th>Order ID</th>\n",
       "      <th>Cust ID</th>\n",
       "      <th>Gender</th>\n",
       "      <th>Age</th>\n",
       "      <th>Date</th>\n",
       "      <th>Order_Year</th>\n",
       "      <th>Order_Month</th>\n",
       "      <th>Status</th>\n",
       "      <th>Channel</th>\n",
       "      <th>...</th>\n",
       "      <th>Category</th>\n",
       "      <th>Size</th>\n",
       "      <th>Qty</th>\n",
       "      <th>currency</th>\n",
       "      <th>Amount</th>\n",
       "      <th>ship-city</th>\n",
       "      <th>ship-postal-code</th>\n",
       "      <th>ship-country</th>\n",
       "      <th>B2B</th>\n",
       "      <th>Age_Group</th>\n",
       "    </tr>\n",
       "  </thead>\n",
       "  <tbody>\n",
       "    <tr>\n",
       "      <th>0</th>\n",
       "      <td>1</td>\n",
       "      <td>171-1029312-3038738</td>\n",
       "      <td>1029312</td>\n",
       "      <td>Women</td>\n",
       "      <td>44</td>\n",
       "      <td>2022-12-04</td>\n",
       "      <td>2022</td>\n",
       "      <td>December</td>\n",
       "      <td>Delivered</td>\n",
       "      <td>Myntra</td>\n",
       "      <td>...</td>\n",
       "      <td>kurta</td>\n",
       "      <td>XXL</td>\n",
       "      <td>1</td>\n",
       "      <td>INR</td>\n",
       "      <td>376</td>\n",
       "      <td>MOHALI</td>\n",
       "      <td>140301</td>\n",
       "      <td>IN</td>\n",
       "      <td>False</td>\n",
       "      <td>Adult</td>\n",
       "    </tr>\n",
       "    <tr>\n",
       "      <th>1</th>\n",
       "      <td>2</td>\n",
       "      <td>405-2183842-2225946</td>\n",
       "      <td>2183842</td>\n",
       "      <td>Women</td>\n",
       "      <td>29</td>\n",
       "      <td>2022-12-04</td>\n",
       "      <td>2022</td>\n",
       "      <td>December</td>\n",
       "      <td>Delivered</td>\n",
       "      <td>Ajio</td>\n",
       "      <td>...</td>\n",
       "      <td>Set</td>\n",
       "      <td>L</td>\n",
       "      <td>1</td>\n",
       "      <td>INR</td>\n",
       "      <td>1449</td>\n",
       "      <td>GURUGRAM</td>\n",
       "      <td>122002</td>\n",
       "      <td>IN</td>\n",
       "      <td>False</td>\n",
       "      <td>Adult</td>\n",
       "    </tr>\n",
       "    <tr>\n",
       "      <th>2</th>\n",
       "      <td>3</td>\n",
       "      <td>171-1641533-8921966</td>\n",
       "      <td>1641533</td>\n",
       "      <td>Women</td>\n",
       "      <td>67</td>\n",
       "      <td>2022-12-04</td>\n",
       "      <td>2022</td>\n",
       "      <td>December</td>\n",
       "      <td>Delivered</td>\n",
       "      <td>Myntra</td>\n",
       "      <td>...</td>\n",
       "      <td>Set</td>\n",
       "      <td>S</td>\n",
       "      <td>1</td>\n",
       "      <td>INR</td>\n",
       "      <td>453</td>\n",
       "      <td>KOLKATA</td>\n",
       "      <td>700029</td>\n",
       "      <td>IN</td>\n",
       "      <td>False</td>\n",
       "      <td>Senior</td>\n",
       "    </tr>\n",
       "  </tbody>\n",
       "</table>\n",
       "<p>3 rows × 21 columns</p>\n",
       "</div>"
      ],
      "text/plain": [
       "   index             Order ID  Cust ID Gender  Age       Date  Order_Year  \\\n",
       "0      1  171-1029312-3038738  1029312  Women   44 2022-12-04        2022   \n",
       "1      2  405-2183842-2225946  2183842  Women   29 2022-12-04        2022   \n",
       "2      3  171-1641533-8921966  1641533  Women   67 2022-12-04        2022   \n",
       "\n",
       "  Order_Month     Status Channel   ... Category Size Qty  currency Amount  \\\n",
       "0    December  Delivered   Myntra  ...    kurta  XXL   1       INR    376   \n",
       "1    December  Delivered     Ajio  ...      Set    L   1       INR   1449   \n",
       "2    December  Delivered   Myntra  ...      Set    S   1       INR    453   \n",
       "\n",
       "   ship-city ship-postal-code  ship-country    B2B  Age_Group  \n",
       "0     MOHALI           140301            IN  False      Adult  \n",
       "1   GURUGRAM           122002            IN  False      Adult  \n",
       "2    KOLKATA           700029            IN  False     Senior  \n",
       "\n",
       "[3 rows x 21 columns]"
      ]
     },
     "execution_count": 26,
     "metadata": {},
     "output_type": "execute_result"
    }
   ],
   "source": [
    "transformed_data.head(3)"
   ]
  },
  {
   "cell_type": "code",
   "execution_count": 27,
   "id": "3d51979f",
   "metadata": {},
   "outputs": [
    {
     "name": "stdout",
     "output_type": "stream",
     "text": [
      "[INFO] [CLEAN] Prompt: Drop the following columns from the dataset currency, ship-country, index\n",
      "[DEBUG] [CLEAN] Generated Code:\n",
      " df.drop(['currency', 'ship-country', 'index'], axis=1, inplace=True)\n"
     ]
    }
   ],
   "source": [
    "transformed_data = assistant.clean(transformed_data, prompt=\"Drop the following columns from the dataset currency, ship-country, index\")"
   ]
  },
  {
   "cell_type": "code",
   "execution_count": 28,
   "id": "950d6baa",
   "metadata": {},
   "outputs": [
    {
     "data": {
      "text/html": [
       "<div>\n",
       "<style scoped>\n",
       "    .dataframe tbody tr th:only-of-type {\n",
       "        vertical-align: middle;\n",
       "    }\n",
       "\n",
       "    .dataframe tbody tr th {\n",
       "        vertical-align: top;\n",
       "    }\n",
       "\n",
       "    .dataframe thead th {\n",
       "        text-align: right;\n",
       "    }\n",
       "</style>\n",
       "<table border=\"1\" class=\"dataframe\">\n",
       "  <thead>\n",
       "    <tr style=\"text-align: right;\">\n",
       "      <th></th>\n",
       "      <th>Order ID</th>\n",
       "      <th>Cust ID</th>\n",
       "      <th>Gender</th>\n",
       "      <th>Age</th>\n",
       "      <th>Date</th>\n",
       "      <th>Order_Year</th>\n",
       "      <th>Order_Month</th>\n",
       "      <th>Status</th>\n",
       "      <th>Channel</th>\n",
       "      <th>SKU</th>\n",
       "      <th>Category</th>\n",
       "      <th>Size</th>\n",
       "      <th>Qty</th>\n",
       "      <th>Amount</th>\n",
       "      <th>ship-city</th>\n",
       "      <th>ship-postal-code</th>\n",
       "      <th>B2B</th>\n",
       "      <th>Age_Group</th>\n",
       "    </tr>\n",
       "  </thead>\n",
       "  <tbody>\n",
       "    <tr>\n",
       "      <th>0</th>\n",
       "      <td>171-1029312-3038738</td>\n",
       "      <td>1029312</td>\n",
       "      <td>Women</td>\n",
       "      <td>44</td>\n",
       "      <td>2022-12-04</td>\n",
       "      <td>2022</td>\n",
       "      <td>December</td>\n",
       "      <td>Delivered</td>\n",
       "      <td>Myntra</td>\n",
       "      <td>JNE1233-BLUE-KR-031-XXL</td>\n",
       "      <td>kurta</td>\n",
       "      <td>XXL</td>\n",
       "      <td>1</td>\n",
       "      <td>376</td>\n",
       "      <td>MOHALI</td>\n",
       "      <td>140301</td>\n",
       "      <td>False</td>\n",
       "      <td>Adult</td>\n",
       "    </tr>\n",
       "    <tr>\n",
       "      <th>1</th>\n",
       "      <td>405-2183842-2225946</td>\n",
       "      <td>2183842</td>\n",
       "      <td>Women</td>\n",
       "      <td>29</td>\n",
       "      <td>2022-12-04</td>\n",
       "      <td>2022</td>\n",
       "      <td>December</td>\n",
       "      <td>Delivered</td>\n",
       "      <td>Ajio</td>\n",
       "      <td>SET414-KR-NP-L</td>\n",
       "      <td>Set</td>\n",
       "      <td>L</td>\n",
       "      <td>1</td>\n",
       "      <td>1449</td>\n",
       "      <td>GURUGRAM</td>\n",
       "      <td>122002</td>\n",
       "      <td>False</td>\n",
       "      <td>Adult</td>\n",
       "    </tr>\n",
       "  </tbody>\n",
       "</table>\n",
       "</div>"
      ],
      "text/plain": [
       "              Order ID  Cust ID Gender  Age       Date  Order_Year  \\\n",
       "0  171-1029312-3038738  1029312  Women   44 2022-12-04        2022   \n",
       "1  405-2183842-2225946  2183842  Women   29 2022-12-04        2022   \n",
       "\n",
       "  Order_Month     Status Channel                       SKU Category Size  Qty  \\\n",
       "0    December  Delivered   Myntra  JNE1233-BLUE-KR-031-XXL    kurta  XXL    1   \n",
       "1    December  Delivered     Ajio           SET414-KR-NP-L      Set    L    1   \n",
       "\n",
       "   Amount ship-city  ship-postal-code    B2B Age_Group  \n",
       "0     376    MOHALI            140301  False     Adult  \n",
       "1    1449  GURUGRAM            122002  False     Adult  "
      ]
     },
     "execution_count": 28,
     "metadata": {},
     "output_type": "execute_result"
    }
   ],
   "source": [
    "transformed_data.head(2)"
   ]
  },
  {
   "cell_type": "code",
   "execution_count": 29,
   "id": "d1b44fdd",
   "metadata": {},
   "outputs": [
    {
     "name": "stdout",
     "output_type": "stream",
     "text": [
      "📊 BASIC INFO\n",
      "- Shape: (31047, 18)\n",
      "- Columns: ['Order ID', 'Cust ID', 'Gender', 'Age', 'Date', 'Order_Year', 'Order_Month', 'Status', 'Channel ', 'SKU']...\n",
      "- Memory Usage: ~3.73 MB\n",
      "\n",
      "🔍 MISSING VALUES (%):\n",
      "Series([], dtype: float64) \n",
      "\n",
      "🧮 UNIQUE VALUES (Top 10 Columns):\n",
      "Order ID            28471\n",
      "Cust ID             28437\n",
      "SKU                  5287\n",
      "ship-postal-code     4958\n",
      "ship-city            2603\n",
      "Amount                769\n",
      "Age                    61\n",
      "Date                   36\n",
      "Order_Month            12\n",
      "Size                   11\n",
      "dtype: int64 \n",
      "\n",
      "📈 NUMERICAL STATS (Sampled if > sample_size):\n",
      "                    count          mean           std       min         25%  \\\n",
      "Cust ID           10000.0  4.937902e+06  2.921340e+06    3290.0  2384306.00   \n",
      "Age               10000.0  3.929980e+01  1.494150e+01      18.0       27.00   \n",
      "Order_Year        10000.0  2.022000e+03  0.000000e+00    2022.0     2022.00   \n",
      "Qty               10000.0  1.007400e+00  1.026952e-01       1.0        1.00   \n",
      "Amount            10000.0  6.826131e+02  2.678387e+02     229.0      487.00   \n",
      "ship-postal-code  10000.0  4.579609e+05  1.968541e+05  110001.0   307019.75   \n",
      "\n",
      "                        50%         75%        max  \n",
      "Cust ID           4906593.5  7500924.00  9994039.0  \n",
      "Age                    37.0       47.00       78.0  \n",
      "Order_Year           2022.0     2022.00     2022.0  \n",
      "Qty                     1.0        1.00        4.0  \n",
      "Amount                645.0      794.00     2860.0  \n",
      "ship-postal-code   500028.0   600015.25   855108.0   \n",
      "\n",
      "🗂️ CATEGORICAL PREVIEW:\n",
      "\n",
      "🔹 Column: Order ID\n",
      " - Unique: 28471\n",
      " - Top 5:\n",
      "Order ID\n",
      "403-4984515-8861958    12\n",
      "403-0173977-3041148    11\n",
      "404-3701762-8241125     9\n",
      "402-2997706-3326710     8\n",
      "403-9984530-4477124     7\n",
      "Name: count, dtype: int64\n",
      "\n",
      "🔹 Column: Gender\n",
      " - Unique: 2\n",
      " - Top 5:\n",
      "Gender\n",
      "Women    21553\n",
      "Men       9494\n",
      "Name: count, dtype: int64\n",
      "\n",
      "🔹 Column: Order_Month\n",
      " - Unique: 12\n",
      " - Top 5:\n",
      "Order_Month\n",
      "March       2819\n",
      "February    2750\n",
      "January     2702\n",
      "April       2685\n",
      "May         2617\n",
      "Name: count, dtype: int64\n",
      "\n",
      "🔹 Column: Status\n",
      " - Unique: 4\n",
      " - Top 5:\n",
      "Status\n",
      "Delivered    28641\n",
      "Returned      1045\n",
      "Cancelled      844\n",
      "Refunded       517\n",
      "Name: count, dtype: int64\n",
      "\n",
      "🔹 Column: Channel \n",
      " - Unique: 7\n",
      " - Top 5:\n",
      "Channel \n",
      "Amazon      11016\n",
      "Myntra       7254\n",
      "Flipkart     6703\n",
      "Ajio         1931\n",
      "Nalli        1484\n",
      "Name: count, dtype: int64\n",
      "\n",
      "🔹 Column: SKU\n",
      " - Unique: 5287\n",
      " - Top 5:\n",
      "SKU\n",
      "JNE3797-KR-L      273\n",
      "JNE3797-KR-M      232\n",
      "JNE3797-KR-S      169\n",
      "JNE3797-KR-XXL    150\n",
      "JNE3797-KR-XL     149\n",
      "Name: count, dtype: int64\n",
      "\n",
      "🔹 Column: Category\n",
      " - Unique: 8\n",
      " - Top 5:\n",
      "Category\n",
      "Set              12391\n",
      "kurta            10446\n",
      "Western Dress     4066\n",
      "Top               2193\n",
      "Saree             1380\n",
      "Name: count, dtype: int64\n",
      "\n",
      "🔹 Column: Size\n",
      " - Unique: 11\n",
      " - Top 5:\n",
      "Size\n",
      "M      5485\n",
      "L      5144\n",
      "XL     4437\n",
      "S      4176\n",
      "XXL    4065\n",
      "Name: count, dtype: int64\n",
      "\n",
      "🔹 Column: ship-city\n",
      " - Unique: 2603\n",
      " - Top 5:\n",
      "ship-city\n",
      "BENGALURU    2540\n",
      "HYDERABAD    1785\n",
      "NEW DELHI    1560\n",
      "CHENNAI      1272\n",
      "MUMBAI       1224\n",
      "Name: count, dtype: int64\n",
      "\n",
      "🔹 Column: Age_Group\n",
      " - Unique: 3\n",
      " - Top 5:\n",
      "Age_Group\n",
      "Adult       22912\n",
      "Senior       5909\n",
      "Teenager     2226\n",
      "Name: count, dtype: int64\n",
      "\n",
      "📊 CORRELATION MATRIX (Top Pairs Only):\n",
      "Qty               Amount              0.172377\n",
      "Amount            ship-postal-code    0.053002\n",
      "ship-postal-code  Qty                 0.010492\n",
      "Cust ID           ship-postal-code    0.005703\n",
      "Qty               Age                 0.004884\n",
      "Age               Amount              0.003522\n",
      "                  ship-postal-code    0.001582\n",
      "                  Cust ID             0.001286\n",
      "Amount            Cust ID             0.000691\n",
      "Cust ID           Qty                 0.000217\n",
      "dtype: float64\n"
     ]
    }
   ],
   "source": [
    "scalable_data_profiler(transformed_data)\n"
   ]
  },
  {
   "cell_type": "markdown",
   "id": "1d43b68d",
   "metadata": {},
   "source": [
    "BY USING transform()"
   ]
  },
  {
   "cell_type": "code",
   "execution_count": 30,
   "id": "3ae8ba37",
   "metadata": {},
   "outputs": [
    {
     "name": "stdout",
     "output_type": "stream",
     "text": [
      "[INFO] [TRANSFORM] Prompt: Encode the 'gender' column using LabelEncoder\n"
     ]
    },
    {
     "name": "stdout",
     "output_type": "stream",
     "text": [
      "[DEBUG] [TRANSFORM] Generated Code:\n",
      " from sklearn.preprocessing import LabelEncoder\n",
      "le = LabelEncoder()\n",
      "df['Gender'] = le.fit_transform(df['Gender'])\n"
     ]
    }
   ],
   "source": [
    "transformed_data = assistant.transform(transformed_data, prompt=\"Encode the 'gender' column using LabelEncoder\")"
   ]
  },
  {
   "cell_type": "code",
   "execution_count": 31,
   "id": "45da26f0",
   "metadata": {},
   "outputs": [
    {
     "data": {
      "text/plain": [
       "array([1, 0])"
      ]
     },
     "execution_count": 31,
     "metadata": {},
     "output_type": "execute_result"
    }
   ],
   "source": [
    "transformed_data.head(2)\n",
    "transformed_data['Gender'].unique()"
   ]
  },
  {
   "cell_type": "markdown",
   "id": "a299afc5",
   "metadata": {},
   "source": [
    "ADVANCE DATA TRANSFORMATION SOLVED"
   ]
  },
  {
   "cell_type": "markdown",
   "id": "fdb61864",
   "metadata": {},
   "source": [
    "1) How can we identify customers who might churn based on inactivity and declining purchase behavior?"
   ]
  },
  {
   "cell_type": "markdown",
   "id": "95501484",
   "metadata": {},
   "source": [
    "To anticipate churn, identify customers who:\n",
    "\n",
    "Placed their last order more than 90 days ago, AND\n",
    "\n",
    "Have a decreasing order frequency compared to their historical pattern.\n",
    "\n",
    "Flag these customers with a new column called Churn_Risk = True"
   ]
  },
  {
   "cell_type": "code",
   "execution_count": 32,
   "id": "b947aeb6",
   "metadata": {},
   "outputs": [
    {
     "name": "stdout",
     "output_type": "stream",
     "text": [
      "[INFO] [TRANSFORM] Prompt: Create a new column 'Churn_Risk'.For each 'Cust ID' , check the number of days since their last order using the Date column. If their last order was more than 90 days ago, and their monthly order frequency is declining (e.g., more orders earlier in the year than recent months), set Churn_Risk = True.\n",
      "[DEBUG] [TRANSFORM] Generated Code:\n",
      " df['Date'] = pd.to_datetime(df['Date'])\n",
      "df['Month'] = df['Date'].dt.month\n",
      "df['Year'] = df['Date'].dt.year\n",
      "df['Order_Count'] = df.groupby(['Cust ID', 'Year', 'Month']).cumcount() + 1\n",
      "df['Last_Order_Date'] = df.groupby('Cust ID')['Date'].transform('max')\n",
      "df['Days_Since_Last_Order'] = (pd.to_datetime('today') - df['Last_Order_Date']).dt.days\n",
      "df['Monthly_Order_Frequency'] = df.groupby(['Cust ID', 'Year', 'Month'])['Order ID'].transform('count')\n",
      "df['Churn_Risk'] = (df['Days_Since_Last_Order'] > 90) & (df.groupby('Cust ID')['Monthly_Order_Frequency'].transform(lambda x: x.rolling(window=3).mean().shift().fillna(x.mean()) > x))\n"
     ]
    }
   ],
   "source": [
    "transformed_data = assistant.transform(transformed_data, prompt=\"Create a new column 'Churn_Risk'.For each 'Cust ID' , check the number of days since their last order using the Date column. If their last order was more than 90 days ago, and their monthly order frequency is declining (e.g., more orders earlier in the year than recent months), set Churn_Risk = True.\")"
   ]
  },
  {
   "cell_type": "code",
   "execution_count": 33,
   "id": "2095a921",
   "metadata": {},
   "outputs": [
    {
     "data": {
      "text/html": [
       "<div>\n",
       "<style scoped>\n",
       "    .dataframe tbody tr th:only-of-type {\n",
       "        vertical-align: middle;\n",
       "    }\n",
       "\n",
       "    .dataframe tbody tr th {\n",
       "        vertical-align: top;\n",
       "    }\n",
       "\n",
       "    .dataframe thead th {\n",
       "        text-align: right;\n",
       "    }\n",
       "</style>\n",
       "<table border=\"1\" class=\"dataframe\">\n",
       "  <thead>\n",
       "    <tr style=\"text-align: right;\">\n",
       "      <th></th>\n",
       "      <th>Order ID</th>\n",
       "      <th>Cust ID</th>\n",
       "      <th>Gender</th>\n",
       "      <th>Age</th>\n",
       "      <th>Date</th>\n",
       "      <th>Order_Year</th>\n",
       "      <th>Order_Month</th>\n",
       "      <th>Status</th>\n",
       "      <th>Channel</th>\n",
       "      <th>SKU</th>\n",
       "      <th>...</th>\n",
       "      <th>ship-postal-code</th>\n",
       "      <th>B2B</th>\n",
       "      <th>Age_Group</th>\n",
       "      <th>Month</th>\n",
       "      <th>Year</th>\n",
       "      <th>Order_Count</th>\n",
       "      <th>Last_Order_Date</th>\n",
       "      <th>Days_Since_Last_Order</th>\n",
       "      <th>Monthly_Order_Frequency</th>\n",
       "      <th>Churn_Risk</th>\n",
       "    </tr>\n",
       "  </thead>\n",
       "  <tbody>\n",
       "    <tr>\n",
       "      <th>0</th>\n",
       "      <td>171-1029312-3038738</td>\n",
       "      <td>1029312</td>\n",
       "      <td>1</td>\n",
       "      <td>44</td>\n",
       "      <td>2022-12-04</td>\n",
       "      <td>2022</td>\n",
       "      <td>December</td>\n",
       "      <td>Delivered</td>\n",
       "      <td>Myntra</td>\n",
       "      <td>JNE1233-BLUE-KR-031-XXL</td>\n",
       "      <td>...</td>\n",
       "      <td>140301</td>\n",
       "      <td>False</td>\n",
       "      <td>Adult</td>\n",
       "      <td>12</td>\n",
       "      <td>2022</td>\n",
       "      <td>1</td>\n",
       "      <td>2022-12-04</td>\n",
       "      <td>935</td>\n",
       "      <td>1</td>\n",
       "      <td>False</td>\n",
       "    </tr>\n",
       "    <tr>\n",
       "      <th>1</th>\n",
       "      <td>405-2183842-2225946</td>\n",
       "      <td>2183842</td>\n",
       "      <td>1</td>\n",
       "      <td>29</td>\n",
       "      <td>2022-12-04</td>\n",
       "      <td>2022</td>\n",
       "      <td>December</td>\n",
       "      <td>Delivered</td>\n",
       "      <td>Ajio</td>\n",
       "      <td>SET414-KR-NP-L</td>\n",
       "      <td>...</td>\n",
       "      <td>122002</td>\n",
       "      <td>False</td>\n",
       "      <td>Adult</td>\n",
       "      <td>12</td>\n",
       "      <td>2022</td>\n",
       "      <td>1</td>\n",
       "      <td>2022-12-04</td>\n",
       "      <td>935</td>\n",
       "      <td>1</td>\n",
       "      <td>False</td>\n",
       "    </tr>\n",
       "  </tbody>\n",
       "</table>\n",
       "<p>2 rows × 25 columns</p>\n",
       "</div>"
      ],
      "text/plain": [
       "              Order ID  Cust ID  Gender  Age       Date  Order_Year  \\\n",
       "0  171-1029312-3038738  1029312       1   44 2022-12-04        2022   \n",
       "1  405-2183842-2225946  2183842       1   29 2022-12-04        2022   \n",
       "\n",
       "  Order_Month     Status Channel                       SKU  ...  \\\n",
       "0    December  Delivered   Myntra  JNE1233-BLUE-KR-031-XXL  ...   \n",
       "1    December  Delivered     Ajio           SET414-KR-NP-L  ...   \n",
       "\n",
       "  ship-postal-code    B2B  Age_Group  Month  Year  Order_Count  \\\n",
       "0           140301  False      Adult     12  2022            1   \n",
       "1           122002  False      Adult     12  2022            1   \n",
       "\n",
       "   Last_Order_Date Days_Since_Last_Order  Monthly_Order_Frequency  Churn_Risk  \n",
       "0       2022-12-04                   935                        1       False  \n",
       "1       2022-12-04                   935                        1       False  \n",
       "\n",
       "[2 rows x 25 columns]"
      ]
     },
     "execution_count": 33,
     "metadata": {},
     "output_type": "execute_result"
    }
   ],
   "source": [
    "transformed_data.head(2)"
   ]
  },
  {
   "cell_type": "markdown",
   "id": "78fc4918",
   "metadata": {},
   "source": [
    "2 How can we identify repeat customers and understand how frequently they place orders?\n",
    "\n"
   ]
  },
  {
   "cell_type": "markdown",
   "id": "65a53cc9",
   "metadata": {},
   "source": [
    "Problem Statement:\n",
    "\n",
    "For each customer (Cust ID) in the dataset:\n",
    "Determine whether they are a repeat customer (i.e., placed more than one order).\n",
    "For repeat customers, calculate the average number of days between their purchases using the Date column."
   ]
  },
  {
   "cell_type": "code",
   "execution_count": 34,
   "id": "1ce5a6f0",
   "metadata": {},
   "outputs": [
    {
     "name": "stdout",
     "output_type": "stream",
     "text": [
      "[INFO] [TRANSFORM] Prompt: Create a new column _Repeat_Customer by checking if each Cust ID appears more than once in the dataset. Then, create another column called Avg_Purchase_Interval that contains the average number of days between purchases for each customer using the Date column. For customers with only one order, set Avg_Purchase_Interval to NaN.\n"
     ]
    },
    {
     "name": "stdout",
     "output_type": "stream",
     "text": [
      "[DEBUG] [TRANSFORM] Generated Code:\n",
      " df['_Repeat_Customer'] = df.groupby('Cust ID')['Cust ID'].transform('count') > 1\n",
      "df['Avg_Purchase_Interval'] = df.groupby('Cust ID')['Date'].transform(lambda x: x.diff().mean() if len(x) > 1 else np.nan)\n",
      "[ERROR] Code execution failed: name 'np' is not defined\n",
      "[DEBUG] Failed code was:\n",
      " df['_Repeat_Customer'] = df.groupby('Cust ID')['Cust ID'].transform('count') > 1\n",
      "df['Avg_Purchase_Interval'] = df.groupby('Cust ID')['Date'].transform(lambda x: x.diff().mean() if len(x) > 1 else np.nan)\n"
     ]
    }
   ],
   "source": [
    "transformed_data = assistant.transform(transformed_data, prompt=\"Create a new column _Repeat_Customer by checking if each Cust ID appears more than once in the dataset. Then, create another column called Avg_Purchase_Interval that contains the average number of days between purchases for each customer using the Date column. For customers with only one order, set Avg_Purchase_Interval to NaN.\")"
   ]
  },
  {
   "cell_type": "code",
   "execution_count": 35,
   "id": "d674b779",
   "metadata": {},
   "outputs": [
    {
     "name": "stdout",
     "output_type": "stream",
     "text": [
      "📊 BASIC INFO\n",
      "- Shape: (31047, 25)\n",
      "- Columns: ['Order ID', 'Cust ID', 'Gender', 'Age', 'Date', 'Order_Year', 'Order_Month', 'Status', 'Channel ', 'SKU']...\n",
      "- Memory Usage: ~4.94 MB\n",
      "\n",
      "🔍 MISSING VALUES (%):\n",
      "Series([], dtype: float64) \n",
      "\n",
      "🧮 UNIQUE VALUES (Top 10 Columns):\n",
      "Order ID                 28471\n",
      "Cust ID                  28437\n",
      "SKU                       5287\n",
      "ship-postal-code          4958\n",
      "ship-city                 2603\n",
      "Amount                     769\n",
      "Age                         61\n",
      "Date                        36\n",
      "Last_Order_Date             36\n",
      "Days_Since_Last_Order       36\n",
      "dtype: int64 \n",
      "\n",
      "📈 NUMERICAL STATS (Sampled if > sample_size):\n",
      "                           count          mean           std       min  \\\n",
      "Cust ID                  10000.0  4.946073e+06  2.895061e+06     895.0   \n",
      "Gender                   10000.0  6.898000e-01  4.625985e-01       0.0   \n",
      "Age                      10000.0  3.964220e+01  1.511247e+01      18.0   \n",
      "Order_Year               10000.0  2.022000e+03  0.000000e+00    2022.0   \n",
      "Qty                      10000.0  1.005000e+00  8.703883e-02       1.0   \n",
      "Amount                   10000.0  6.808317e+02  2.686547e+02     229.0   \n",
      "ship-postal-code         10000.0  4.603183e+05  1.981916e+05  110001.0   \n",
      "Month                    10000.0  6.307300e+00  3.424272e+00       1.0   \n",
      "Year                     10000.0  2.022000e+03  0.000000e+00    2022.0   \n",
      "Order_Count              10000.0  1.107500e+00  4.312335e-01       1.0   \n",
      "Days_Since_Last_Order    10000.0  1.107310e+03  1.041662e+02     933.0   \n",
      "Monthly_Order_Frequency  10000.0  1.216400e+00  6.711305e-01       1.0   \n",
      "\n",
      "                                25%        50%         75%        max  \n",
      "Cust ID                  2428091.50  4970438.5  7449638.25  9999233.0  \n",
      "Gender                         0.00        1.0        1.00        1.0  \n",
      "Age                           28.00       38.0       47.00       78.0  \n",
      "Order_Year                  2022.00     2022.0     2022.00     2022.0  \n",
      "Qty                            1.00        1.0        1.00        5.0  \n",
      "Amount                       481.00      639.0      798.00     3036.0  \n",
      "ship-postal-code          313295.75   500019.5   600042.00   855116.0  \n",
      "Month                          3.00        6.0        9.00       12.0  \n",
      "Year                        2022.00     2022.0     2022.00     2022.0  \n",
      "Order_Count                    1.00        1.0        1.00       12.0  \n",
      "Days_Since_Last_Order       1024.00     1116.0     1208.00     1269.0  \n",
      "Monthly_Order_Frequency        1.00        1.0        1.00       12.0   \n",
      "\n",
      "🗂️ CATEGORICAL PREVIEW:\n",
      "\n",
      "🔹 Column: Order ID\n",
      " - Unique: 28471\n",
      " - Top 5:\n",
      "Order ID\n",
      "403-4984515-8861958    12\n",
      "403-0173977-3041148    11\n",
      "404-3701762-8241125     9\n",
      "402-2997706-3326710     8\n",
      "403-9984530-4477124     7\n",
      "Name: count, dtype: int64\n",
      "\n",
      "🔹 Column: Order_Month\n",
      " - Unique: 12\n",
      " - Top 5:\n",
      "Order_Month\n",
      "March       2819\n",
      "February    2750\n",
      "January     2702\n",
      "April       2685\n",
      "May         2617\n",
      "Name: count, dtype: int64\n",
      "\n",
      "🔹 Column: Status\n",
      " - Unique: 4\n",
      " - Top 5:\n",
      "Status\n",
      "Delivered    28641\n",
      "Returned      1045\n",
      "Cancelled      844\n",
      "Refunded       517\n",
      "Name: count, dtype: int64\n",
      "\n",
      "🔹 Column: Channel \n",
      " - Unique: 7\n",
      " - Top 5:\n",
      "Channel \n",
      "Amazon      11016\n",
      "Myntra       7254\n",
      "Flipkart     6703\n",
      "Ajio         1931\n",
      "Nalli        1484\n",
      "Name: count, dtype: int64\n",
      "\n",
      "🔹 Column: SKU\n",
      " - Unique: 5287\n",
      " - Top 5:\n",
      "SKU\n",
      "JNE3797-KR-L      273\n",
      "JNE3797-KR-M      232\n",
      "JNE3797-KR-S      169\n",
      "JNE3797-KR-XXL    150\n",
      "JNE3797-KR-XL     149\n",
      "Name: count, dtype: int64\n",
      "\n",
      "🔹 Column: Category\n",
      " - Unique: 8\n",
      " - Top 5:\n",
      "Category\n",
      "Set              12391\n",
      "kurta            10446\n",
      "Western Dress     4066\n",
      "Top               2193\n",
      "Saree             1380\n",
      "Name: count, dtype: int64\n",
      "\n",
      "🔹 Column: Size\n",
      " - Unique: 11\n",
      " - Top 5:\n",
      "Size\n",
      "M      5485\n",
      "L      5144\n",
      "XL     4437\n",
      "S      4176\n",
      "XXL    4065\n",
      "Name: count, dtype: int64\n",
      "\n",
      "🔹 Column: ship-city\n",
      " - Unique: 2603\n",
      " - Top 5:\n",
      "ship-city\n",
      "BENGALURU    2540\n",
      "HYDERABAD    1785\n",
      "NEW DELHI    1560\n",
      "CHENNAI      1272\n",
      "MUMBAI       1224\n",
      "Name: count, dtype: int64\n",
      "\n",
      "🔹 Column: Age_Group\n",
      " - Unique: 3\n",
      " - Top 5:\n",
      "Age_Group\n",
      "Adult       22912\n",
      "Senior       5909\n",
      "Teenager     2226\n",
      "Name: count, dtype: int64\n",
      "\n",
      "📊 CORRELATION MATRIX (Top Pairs Only):\n",
      "Days_Since_Last_Order  Month                      0.998652\n",
      "Order_Count            Monthly_Order_Frequency    0.769340\n",
      "Gender                 Amount                     0.296202\n",
      "Amount                 Qty                        0.172377\n",
      "                       Monthly_Order_Frequency    0.055573\n",
      "ship-postal-code       Amount                     0.053002\n",
      "Order_Count            Amount                     0.045713\n",
      "Gender                 Monthly_Order_Frequency    0.030057\n",
      "Order_Count            Gender                     0.027908\n",
      "Cust ID                Monthly_Order_Frequency    0.014032\n",
      "dtype: float64\n"
     ]
    }
   ],
   "source": [
    "scalable_data_profiler(transformed_data)"
   ]
  },
  {
   "cell_type": "markdown",
   "id": "952e5e1f",
   "metadata": {},
   "source": [
    "DATA VISUALIZATION"
   ]
  },
  {
   "cell_type": "markdown",
   "id": "5bfd2c04",
   "metadata": {},
   "source": [
    "How does the number of orders vary across different months?"
   ]
  },
  {
   "cell_type": "markdown",
   "id": "e88678fb",
   "metadata": {},
   "source": [
    "Problem Statement\n",
    "You want to analyze the monthly trend of orders to understand business seasonality, peak sales periods, or dips in activity. This helps in forecasting, campaign planning, and resource allocation.\n",
    "\n",
    "Plot a bar chart showing the total number of orders per Order_Month."
   ]
  },
  {
   "cell_type": "code",
   "execution_count": 49,
   "id": "3a984a7d",
   "metadata": {},
   "outputs": [
    {
     "name": "stdout",
     "output_type": "stream",
     "text": [
      "[INFO] [VISUALIZE] Prompt: Create a bar chart showing the number of orders per Order_Month. Use the Order_Month column on the x-axis and the count of Order ID on the y-axis.Sort the months chronologically (not alphabetically), and label the axes and title clearly.\n",
      "[DEBUG] [VISUALIZE] Code:\n",
      " fig = go.Figure(data=[go.Bar(x=df['Order_Month'].unique(), y=df['Order_Month'].value_counts().sort_index())])\n",
      "fig.update_layout(title='Number of Orders per Month', xaxis_title='Month', yaxis_title='Count of Orders', xaxis=dict(type='category', categoryorder='array', categoryarray=list(range(1, 13))))\n"
     ]
    },
    {
     "data": {
      "application/vnd.plotly.v1+json": {
       "config": {
        "plotlyServerURL": "https://plot.ly"
       },
       "data": [
        {
         "type": "bar",
         "x": [
          "December",
          "November",
          "October",
          "September",
          "August",
          "July",
          "June",
          "May",
          "April",
          "March",
          "February",
          "January"
         ],
         "y": {
          "bdata": "fQo5ClAJvgqOChMKJQoDCzkKTwl4CboJ",
          "dtype": "i2"
         }
        }
       ],
       "layout": {
        "template": {
         "data": {
          "bar": [
           {
            "error_x": {
             "color": "#2a3f5f"
            },
            "error_y": {
             "color": "#2a3f5f"
            },
            "marker": {
             "line": {
              "color": "#E5ECF6",
              "width": 0.5
             },
             "pattern": {
              "fillmode": "overlay",
              "size": 10,
              "solidity": 0.2
             }
            },
            "type": "bar"
           }
          ],
          "barpolar": [
           {
            "marker": {
             "line": {
              "color": "#E5ECF6",
              "width": 0.5
             },
             "pattern": {
              "fillmode": "overlay",
              "size": 10,
              "solidity": 0.2
             }
            },
            "type": "barpolar"
           }
          ],
          "carpet": [
           {
            "aaxis": {
             "endlinecolor": "#2a3f5f",
             "gridcolor": "white",
             "linecolor": "white",
             "minorgridcolor": "white",
             "startlinecolor": "#2a3f5f"
            },
            "baxis": {
             "endlinecolor": "#2a3f5f",
             "gridcolor": "white",
             "linecolor": "white",
             "minorgridcolor": "white",
             "startlinecolor": "#2a3f5f"
            },
            "type": "carpet"
           }
          ],
          "choropleth": [
           {
            "colorbar": {
             "outlinewidth": 0,
             "ticks": ""
            },
            "type": "choropleth"
           }
          ],
          "contour": [
           {
            "colorbar": {
             "outlinewidth": 0,
             "ticks": ""
            },
            "colorscale": [
             [
              0,
              "#0d0887"
             ],
             [
              0.1111111111111111,
              "#46039f"
             ],
             [
              0.2222222222222222,
              "#7201a8"
             ],
             [
              0.3333333333333333,
              "#9c179e"
             ],
             [
              0.4444444444444444,
              "#bd3786"
             ],
             [
              0.5555555555555556,
              "#d8576b"
             ],
             [
              0.6666666666666666,
              "#ed7953"
             ],
             [
              0.7777777777777778,
              "#fb9f3a"
             ],
             [
              0.8888888888888888,
              "#fdca26"
             ],
             [
              1,
              "#f0f921"
             ]
            ],
            "type": "contour"
           }
          ],
          "contourcarpet": [
           {
            "colorbar": {
             "outlinewidth": 0,
             "ticks": ""
            },
            "type": "contourcarpet"
           }
          ],
          "heatmap": [
           {
            "colorbar": {
             "outlinewidth": 0,
             "ticks": ""
            },
            "colorscale": [
             [
              0,
              "#0d0887"
             ],
             [
              0.1111111111111111,
              "#46039f"
             ],
             [
              0.2222222222222222,
              "#7201a8"
             ],
             [
              0.3333333333333333,
              "#9c179e"
             ],
             [
              0.4444444444444444,
              "#bd3786"
             ],
             [
              0.5555555555555556,
              "#d8576b"
             ],
             [
              0.6666666666666666,
              "#ed7953"
             ],
             [
              0.7777777777777778,
              "#fb9f3a"
             ],
             [
              0.8888888888888888,
              "#fdca26"
             ],
             [
              1,
              "#f0f921"
             ]
            ],
            "type": "heatmap"
           }
          ],
          "histogram": [
           {
            "marker": {
             "pattern": {
              "fillmode": "overlay",
              "size": 10,
              "solidity": 0.2
             }
            },
            "type": "histogram"
           }
          ],
          "histogram2d": [
           {
            "colorbar": {
             "outlinewidth": 0,
             "ticks": ""
            },
            "colorscale": [
             [
              0,
              "#0d0887"
             ],
             [
              0.1111111111111111,
              "#46039f"
             ],
             [
              0.2222222222222222,
              "#7201a8"
             ],
             [
              0.3333333333333333,
              "#9c179e"
             ],
             [
              0.4444444444444444,
              "#bd3786"
             ],
             [
              0.5555555555555556,
              "#d8576b"
             ],
             [
              0.6666666666666666,
              "#ed7953"
             ],
             [
              0.7777777777777778,
              "#fb9f3a"
             ],
             [
              0.8888888888888888,
              "#fdca26"
             ],
             [
              1,
              "#f0f921"
             ]
            ],
            "type": "histogram2d"
           }
          ],
          "histogram2dcontour": [
           {
            "colorbar": {
             "outlinewidth": 0,
             "ticks": ""
            },
            "colorscale": [
             [
              0,
              "#0d0887"
             ],
             [
              0.1111111111111111,
              "#46039f"
             ],
             [
              0.2222222222222222,
              "#7201a8"
             ],
             [
              0.3333333333333333,
              "#9c179e"
             ],
             [
              0.4444444444444444,
              "#bd3786"
             ],
             [
              0.5555555555555556,
              "#d8576b"
             ],
             [
              0.6666666666666666,
              "#ed7953"
             ],
             [
              0.7777777777777778,
              "#fb9f3a"
             ],
             [
              0.8888888888888888,
              "#fdca26"
             ],
             [
              1,
              "#f0f921"
             ]
            ],
            "type": "histogram2dcontour"
           }
          ],
          "mesh3d": [
           {
            "colorbar": {
             "outlinewidth": 0,
             "ticks": ""
            },
            "type": "mesh3d"
           }
          ],
          "parcoords": [
           {
            "line": {
             "colorbar": {
              "outlinewidth": 0,
              "ticks": ""
             }
            },
            "type": "parcoords"
           }
          ],
          "pie": [
           {
            "automargin": true,
            "type": "pie"
           }
          ],
          "scatter": [
           {
            "fillpattern": {
             "fillmode": "overlay",
             "size": 10,
             "solidity": 0.2
            },
            "type": "scatter"
           }
          ],
          "scatter3d": [
           {
            "line": {
             "colorbar": {
              "outlinewidth": 0,
              "ticks": ""
             }
            },
            "marker": {
             "colorbar": {
              "outlinewidth": 0,
              "ticks": ""
             }
            },
            "type": "scatter3d"
           }
          ],
          "scattercarpet": [
           {
            "marker": {
             "colorbar": {
              "outlinewidth": 0,
              "ticks": ""
             }
            },
            "type": "scattercarpet"
           }
          ],
          "scattergeo": [
           {
            "marker": {
             "colorbar": {
              "outlinewidth": 0,
              "ticks": ""
             }
            },
            "type": "scattergeo"
           }
          ],
          "scattergl": [
           {
            "marker": {
             "colorbar": {
              "outlinewidth": 0,
              "ticks": ""
             }
            },
            "type": "scattergl"
           }
          ],
          "scattermap": [
           {
            "marker": {
             "colorbar": {
              "outlinewidth": 0,
              "ticks": ""
             }
            },
            "type": "scattermap"
           }
          ],
          "scattermapbox": [
           {
            "marker": {
             "colorbar": {
              "outlinewidth": 0,
              "ticks": ""
             }
            },
            "type": "scattermapbox"
           }
          ],
          "scatterpolar": [
           {
            "marker": {
             "colorbar": {
              "outlinewidth": 0,
              "ticks": ""
             }
            },
            "type": "scatterpolar"
           }
          ],
          "scatterpolargl": [
           {
            "marker": {
             "colorbar": {
              "outlinewidth": 0,
              "ticks": ""
             }
            },
            "type": "scatterpolargl"
           }
          ],
          "scatterternary": [
           {
            "marker": {
             "colorbar": {
              "outlinewidth": 0,
              "ticks": ""
             }
            },
            "type": "scatterternary"
           }
          ],
          "surface": [
           {
            "colorbar": {
             "outlinewidth": 0,
             "ticks": ""
            },
            "colorscale": [
             [
              0,
              "#0d0887"
             ],
             [
              0.1111111111111111,
              "#46039f"
             ],
             [
              0.2222222222222222,
              "#7201a8"
             ],
             [
              0.3333333333333333,
              "#9c179e"
             ],
             [
              0.4444444444444444,
              "#bd3786"
             ],
             [
              0.5555555555555556,
              "#d8576b"
             ],
             [
              0.6666666666666666,
              "#ed7953"
             ],
             [
              0.7777777777777778,
              "#fb9f3a"
             ],
             [
              0.8888888888888888,
              "#fdca26"
             ],
             [
              1,
              "#f0f921"
             ]
            ],
            "type": "surface"
           }
          ],
          "table": [
           {
            "cells": {
             "fill": {
              "color": "#EBF0F8"
             },
             "line": {
              "color": "white"
             }
            },
            "header": {
             "fill": {
              "color": "#C8D4E3"
             },
             "line": {
              "color": "white"
             }
            },
            "type": "table"
           }
          ]
         },
         "layout": {
          "annotationdefaults": {
           "arrowcolor": "#2a3f5f",
           "arrowhead": 0,
           "arrowwidth": 1
          },
          "autotypenumbers": "strict",
          "coloraxis": {
           "colorbar": {
            "outlinewidth": 0,
            "ticks": ""
           }
          },
          "colorscale": {
           "diverging": [
            [
             0,
             "#8e0152"
            ],
            [
             0.1,
             "#c51b7d"
            ],
            [
             0.2,
             "#de77ae"
            ],
            [
             0.3,
             "#f1b6da"
            ],
            [
             0.4,
             "#fde0ef"
            ],
            [
             0.5,
             "#f7f7f7"
            ],
            [
             0.6,
             "#e6f5d0"
            ],
            [
             0.7,
             "#b8e186"
            ],
            [
             0.8,
             "#7fbc41"
            ],
            [
             0.9,
             "#4d9221"
            ],
            [
             1,
             "#276419"
            ]
           ],
           "sequential": [
            [
             0,
             "#0d0887"
            ],
            [
             0.1111111111111111,
             "#46039f"
            ],
            [
             0.2222222222222222,
             "#7201a8"
            ],
            [
             0.3333333333333333,
             "#9c179e"
            ],
            [
             0.4444444444444444,
             "#bd3786"
            ],
            [
             0.5555555555555556,
             "#d8576b"
            ],
            [
             0.6666666666666666,
             "#ed7953"
            ],
            [
             0.7777777777777778,
             "#fb9f3a"
            ],
            [
             0.8888888888888888,
             "#fdca26"
            ],
            [
             1,
             "#f0f921"
            ]
           ],
           "sequentialminus": [
            [
             0,
             "#0d0887"
            ],
            [
             0.1111111111111111,
             "#46039f"
            ],
            [
             0.2222222222222222,
             "#7201a8"
            ],
            [
             0.3333333333333333,
             "#9c179e"
            ],
            [
             0.4444444444444444,
             "#bd3786"
            ],
            [
             0.5555555555555556,
             "#d8576b"
            ],
            [
             0.6666666666666666,
             "#ed7953"
            ],
            [
             0.7777777777777778,
             "#fb9f3a"
            ],
            [
             0.8888888888888888,
             "#fdca26"
            ],
            [
             1,
             "#f0f921"
            ]
           ]
          },
          "colorway": [
           "#636efa",
           "#EF553B",
           "#00cc96",
           "#ab63fa",
           "#FFA15A",
           "#19d3f3",
           "#FF6692",
           "#B6E880",
           "#FF97FF",
           "#FECB52"
          ],
          "font": {
           "color": "#2a3f5f"
          },
          "geo": {
           "bgcolor": "white",
           "lakecolor": "white",
           "landcolor": "#E5ECF6",
           "showlakes": true,
           "showland": true,
           "subunitcolor": "white"
          },
          "hoverlabel": {
           "align": "left"
          },
          "hovermode": "closest",
          "mapbox": {
           "style": "light"
          },
          "paper_bgcolor": "white",
          "plot_bgcolor": "#E5ECF6",
          "polar": {
           "angularaxis": {
            "gridcolor": "white",
            "linecolor": "white",
            "ticks": ""
           },
           "bgcolor": "#E5ECF6",
           "radialaxis": {
            "gridcolor": "white",
            "linecolor": "white",
            "ticks": ""
           }
          },
          "scene": {
           "xaxis": {
            "backgroundcolor": "#E5ECF6",
            "gridcolor": "white",
            "gridwidth": 2,
            "linecolor": "white",
            "showbackground": true,
            "ticks": "",
            "zerolinecolor": "white"
           },
           "yaxis": {
            "backgroundcolor": "#E5ECF6",
            "gridcolor": "white",
            "gridwidth": 2,
            "linecolor": "white",
            "showbackground": true,
            "ticks": "",
            "zerolinecolor": "white"
           },
           "zaxis": {
            "backgroundcolor": "#E5ECF6",
            "gridcolor": "white",
            "gridwidth": 2,
            "linecolor": "white",
            "showbackground": true,
            "ticks": "",
            "zerolinecolor": "white"
           }
          },
          "shapedefaults": {
           "line": {
            "color": "#2a3f5f"
           }
          },
          "ternary": {
           "aaxis": {
            "gridcolor": "white",
            "linecolor": "white",
            "ticks": ""
           },
           "baxis": {
            "gridcolor": "white",
            "linecolor": "white",
            "ticks": ""
           },
           "bgcolor": "#E5ECF6",
           "caxis": {
            "gridcolor": "white",
            "linecolor": "white",
            "ticks": ""
           }
          },
          "title": {
           "x": 0.05
          },
          "xaxis": {
           "automargin": true,
           "gridcolor": "white",
           "linecolor": "white",
           "ticks": "",
           "title": {
            "standoff": 15
           },
           "zerolinecolor": "white",
           "zerolinewidth": 2
          },
          "yaxis": {
           "automargin": true,
           "gridcolor": "white",
           "linecolor": "white",
           "ticks": "",
           "title": {
            "standoff": 15
           },
           "zerolinecolor": "white",
           "zerolinewidth": 2
          }
         }
        },
        "title": {
         "text": "Number of Orders per Month"
        },
        "xaxis": {
         "categoryarray": [
          1,
          2,
          3,
          4,
          5,
          6,
          7,
          8,
          9,
          10,
          11,
          12
         ],
         "categoryorder": "array",
         "title": {
          "text": "Month"
         },
         "type": "category"
        },
        "yaxis": {
         "title": {
          "text": "Count of Orders"
         }
        }
       }
      }
     },
     "metadata": {},
     "output_type": "display_data"
    }
   ],
   "source": [
    "assistant.visualize(transformed_data, prompt=\"Create a bar chart showing the number of orders per Order_Month. Use the Order_Month column on the x-axis and the count of Order ID on the y-axis.Sort the months chronologically (not alphabetically), and label the axes and title clearly.\", name=\"revenue_bar\")"
   ]
  },
  {
   "cell_type": "code",
   "execution_count": 50,
   "id": "1ce61d57",
   "metadata": {},
   "outputs": [
    {
     "data": {
      "text/plain": [
       "1"
      ]
     },
     "execution_count": 50,
     "metadata": {},
     "output_type": "execute_result"
    }
   ],
   "source": [
    "len(assistant._charts)\n"
   ]
  },
  {
   "cell_type": "code",
   "execution_count": 51,
   "id": "d21982c3",
   "metadata": {},
   "outputs": [
    {
     "name": "stdout",
     "output_type": "stream",
     "text": [
      "Chart Name: revenue_bar\n",
      "Prompt Used: Create a bar chart showing the number of orders per Order_Month. Use the Order_Month column on the x-axis and the count of Order ID on the y-axis.Sort the months chronologically (not alphabetically), and label the axes and title clearly.\n",
      "---\n"
     ]
    }
   ],
   "source": [
    "for chart in assistant._charts:\n",
    "    print(\"Chart Name:\", chart[\"name\"])\n",
    "    print(\"Prompt Used:\", chart[\"prompt\"])\n",
    "    print(\"---\")\n"
   ]
  },
  {
   "cell_type": "code",
   "execution_count": null,
   "id": "e1290c3c",
   "metadata": {},
   "outputs": [],
   "source": [
    "del assistant._charts[0:1:2]  # Deletes the first, second and third saved chart\n"
   ]
  },
  {
   "cell_type": "code",
   "execution_count": 48,
   "id": "7ea0d32d",
   "metadata": {},
   "outputs": [],
   "source": [
    "for chart in assistant._charts:\n",
    "    print(\"Chart Name:\", chart[\"name\"])\n",
    "    print(\"Prompt Used:\", chart[\"prompt\"])\n",
    "    print(\"---\")\n"
   ]
  }
 ],
 "metadata": {
  "kernelspec": {
   "display_name": "Python 3",
   "language": "python",
   "name": "python3"
  },
  "language_info": {
   "codemirror_mode": {
    "name": "ipython",
    "version": 3
   },
   "file_extension": ".py",
   "mimetype": "text/x-python",
   "name": "python",
   "nbconvert_exporter": "python",
   "pygments_lexer": "ipython3",
   "version": "3.12.1"
  }
 },
 "nbformat": 4,
 "nbformat_minor": 5
}
