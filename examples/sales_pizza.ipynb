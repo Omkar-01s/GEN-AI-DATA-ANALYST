{
 "cells": [
  {
   "cell_type": "markdown",
   "id": "d035a9e4",
   "metadata": {},
   "source": [
    "## 🍕 Pizza Sales– Data Analysis With GENERATIVE AI"
   ]
  },
  {
   "cell_type": "markdown",
   "id": "0235645e",
   "metadata": {},
   "source": [
    "### 📌 Project Overview\n",
    "This project aims to analyze key performance indicators (KPIs) for a pizza business using sales transaction data. The primary goal is to gain insights into sales performance and customer behavior using Python based analysis.\n"
   ]
  },
  {
   "cell_type": "markdown",
   "id": "9993608f",
   "metadata": {},
   "source": [
    "### 🤖How Generative AI will help\n",
    "\n",
    "With the power of my **personal LLM-based Gen AI Library** to derive deeper, faster, and more contextual business insights from pizza sales data.\n",
    "\n",
    "Our primary aim is not only to calculate KPIs but also to demonstrate how **Gen AI** can dramatically improve business intelligence workflows.\n",
    "\n",
    "\n",
    "### 🧬 Why This Matters\n",
    "\n",
    "By integrating traditional data science with Gen AI capabilities, we gain:\n",
    "\n",
    "- **Speed** – Faster turnaround on data questions\n",
    "- **Depth** – Discover insights that might be missed manually\n",
    "- **Adaptability** – With time the llm model learns about the insights."
   ]
  },
  {
   "cell_type": "markdown",
   "id": "7d8e5ab9",
   "metadata": {},
   "source": [
    "❓ Problems We Aim to Solve\n",
    "\n",
    "We'll answer the following critical business questions:\n",
    "\n",
    "> ✅ **Performance KPIs**\n",
    "- What is the **total revenue** from pizza sales?\n",
    "- What is the **average order value (AOV)**?\n",
    "- How many **pizzas were sold** overall?\n",
    "- How many **orders were placed**?\n",
    "- What is the **average number of pizzas per order**?\n",
    "\n",
    "> 🔍 **Business Insights**\n",
    "- Which pizzas are the **best-selling**?\n",
    "- On which days do we have **peak sales**?\n",
    "- Are certain pizza sizes or types more **profitable**?\n",
    "- Can we identify **seasonal trends** or **order patterns**?"
   ]
  },
  {
   "cell_type": "markdown",
   "id": "26dbba8c",
   "metadata": {},
   "source": [
    "Tech Stack\n",
    "- Custom GEN AI Library\n",
    "- Python \n",
    "- Pandas\n",
    "- Matplotlib & Seaborn 📊\n",
    "- Jupyter Notebook 📓\n",
    "- Plotly, Matplotlib, Seaborn (for interactive visuals) 📈"
   ]
  },
  {
   "cell_type": "markdown",
   "id": "a22af964",
   "metadata": {},
   "source": [
    "LIBRARIES"
   ]
  },
  {
   "cell_type": "code",
   "execution_count": 1,
   "id": "ce7ab216",
   "metadata": {},
   "outputs": [],
   "source": [
    "import sys\n",
    "import os\n",
    "sys.path.append(os.path.abspath(\"..\"))"
   ]
  },
  {
   "cell_type": "code",
   "execution_count": 2,
   "id": "6aeaed92",
   "metadata": {},
   "outputs": [],
   "source": [
    "import numpy as np\n",
    "import pandas as pd\n",
    "import seaborn as sns\n",
    "import matplotlib.pyplot as plt\n",
    "from datetime import datetime\n",
    "\n",
    "#CUSTOM GEN AI LIBRARY\n",
    "from genai_dataanalyst.assistant import AnalystAssistant\n",
    "assistant = AnalystAssistant()\n"
   ]
  },
  {
   "cell_type": "markdown",
   "id": "afeadd6a",
   "metadata": {},
   "source": [
    "DATA SET"
   ]
  },
  {
   "cell_type": "markdown",
   "id": "fbd0a601",
   "metadata": {},
   "source": [
    ">ABOUT THE DATA SET\n",
    "\n",
    "The dataset provides a comprehensive snapshot of pizza sales transactions over time, including details such as order IDs, pizza types, quantities sold, prices, order timestamps, and categorical attributes like pizza size and category. It consists of nearly 49,000 rows, covering a broad range of customer orders, making it well-suited for KPI analysis and business intelligence tasks.  and AI augmented insight generation.\n"
   ]
  },
  {
   "cell_type": "code",
   "execution_count": 3,
   "id": "55e8244c",
   "metadata": {},
   "outputs": [],
   "source": [
    "raw_data = pd.read_excel(\"/workspaces/GEN-AI-DATA-ANALYST/data/sales.xlsx\")"
   ]
  },
  {
   "cell_type": "code",
   "execution_count": 4,
   "id": "3c1d4e23",
   "metadata": {},
   "outputs": [],
   "source": [
    "def data_overview(df, sample_size=10000, top_n=5):\n",
    "    print(\"📊 BASIC INFO\")\n",
    "    print(f\"- Shape: {df.shape}\")\n",
    "    print(f\"- Columns: {list(df.columns[:10])}...\")  # show only first 10\n",
    "    print(f\"- Memory Usage: ~{df.memory_usage(deep=False).sum() / 1024**2:.2f} MB\\n\")\n",
    "\n",
    "    print(\"MISSING VALUES (%):\")\n",
    "    missing = df.isnull().mean() * 100\n",
    "    print(missing[missing > 0].sort_values(ascending=False).head(10), \"\\n\")\n",
    "\n",
    "    print(\"UNIQUE VALUES (Top 10 Columns):\")\n",
    "    unique_counts = df.nunique().sort_values(ascending=False).head(10)\n",
    "    print(unique_counts, \"\\n\")\n",
    "\n",
    "    print(\"NUMERICAL STATS (Sampled if > sample_size):\")\n",
    "    df_sample = df.sample(sample_size) if len(df) > sample_size else df\n",
    "    print(df_sample.describe(include=[np.number]).T, \"\\n\")\n",
    "\n",
    "    print(\"CATEGORICAL PREVIEW:\")\n",
    "    cat_cols = df.select_dtypes(include=['object', 'category']).columns\n",
    "    for col in cat_cols[:20]:  # process only first 10 for speed\n",
    "        print(f\"\\n🔹 Column: {col}\")\n",
    "        print(f\" - Unique: {df[col].nunique()}\")\n",
    "        print(f\" - Top {top_n}:\\n{df[col].astype(str).value_counts(dropna=False).head(top_n)}\")\n",
    "\n",
    "    print(\"\\nCORRELATION MATRIX (Top Pairs Only):\")\n",
    "    num_cols = df.select_dtypes(include=np.number)\n",
    "    if num_cols.shape[1] >= 2:\n",
    "        corr = num_cols.corr().abs().unstack().sort_values(ascending=False)\n",
    "        corr = corr[corr < 1.0].drop_duplicates().head(10)\n",
    "        print(corr)\n",
    "    else:\n",
    "        print(\" - Not enough numerical columns for correlation.\")"
   ]
  },
  {
   "cell_type": "code",
   "execution_count": 5,
   "id": "bd0a64ef",
   "metadata": {},
   "outputs": [
    {
     "name": "stdout",
     "output_type": "stream",
     "text": [
      "📊 BASIC INFO\n",
      "- Shape: (48620, 12)\n",
      "- Columns: ['pizza_id', 'order_id', 'pizza_name_id', 'quantity', 'order_date', 'order_time', 'unit_price', 'total_price', 'pizza_size', 'pizza_category']...\n",
      "- Memory Usage: ~4.45 MB\n",
      "\n",
      "MISSING VALUES (%):\n",
      "Series([], dtype: float64) \n",
      "\n",
      "UNIQUE VALUES (Top 10 Columns):\n",
      "pizza_id             48620\n",
      "order_id             21350\n",
      "order_time           16382\n",
      "order_date             358\n",
      "pizza_name_id           91\n",
      "total_price             56\n",
      "pizza_ingredients       32\n",
      "pizza_name              32\n",
      "unit_price              25\n",
      "pizza_size               5\n",
      "dtype: int64 \n",
      "\n",
      "NUMERICAL STATS (Sampled if > sample_size):\n",
      "               count         mean           std   min       25%      50%  \\\n",
      "pizza_id     10000.0  24029.28560  14046.711521  2.00  11779.00  23922.5   \n",
      "order_id     10000.0  10577.81510   6185.443700  2.00   5178.25  10518.0   \n",
      "quantity     10000.0      1.02110      0.149857  1.00      1.00      1.0   \n",
      "unit_price   10000.0     16.45588      3.611700  9.75     12.50     16.5   \n",
      "total_price  10000.0     16.80810      4.495207  9.75     12.75     16.5   \n",
      "\n",
      "                  75%       max  \n",
      "pizza_id     36286.00  48618.00  \n",
      "order_id     16020.00  21348.00  \n",
      "quantity         1.00      4.00  \n",
      "unit_price      20.25     35.95  \n",
      "total_price     20.50     61.50   \n",
      "\n",
      "CATEGORICAL PREVIEW:\n",
      "\n",
      "🔹 Column: pizza_name_id\n",
      " - Unique: 91\n",
      " - Top 5:\n",
      "pizza_name_id\n",
      "big_meat_s       1811\n",
      "thai_ckn_l       1365\n",
      "five_cheese_l    1359\n",
      "four_cheese_l    1273\n",
      "classic_dlx_m    1159\n",
      "Name: count, dtype: int64\n",
      "\n",
      "🔹 Column: order_time\n",
      " - Unique: 16382\n",
      " - Top 5:\n",
      "order_time\n",
      "12:32:00    26\n",
      "11:59:10    24\n",
      "12:26:04    23\n",
      "12:52:36    23\n",
      "12:53:29    23\n",
      "Name: count, dtype: int64\n",
      "\n",
      "🔹 Column: pizza_size\n",
      " - Unique: 5\n",
      " - Top 5:\n",
      "pizza_size\n",
      "L      18526\n",
      "M      15385\n",
      "S      14137\n",
      "XL       544\n",
      "XXL       28\n",
      "Name: count, dtype: int64\n",
      "\n",
      "🔹 Column: pizza_category\n",
      " - Unique: 4\n",
      " - Top 5:\n",
      "pizza_category\n",
      "Classic    14579\n",
      "Supreme    11777\n",
      "Veggie     11449\n",
      "Chicken    10815\n",
      "Name: count, dtype: int64\n",
      "\n",
      "🔹 Column: pizza_ingredients\n",
      " - Unique: 32\n",
      " - Top 5:\n",
      "pizza_ingredients\n",
      "Pepperoni, Mushrooms, Red Onions, Red Peppers, Bacon                                   2416\n",
      "Barbecued Chicken, Red Peppers, Green Peppers, Tomatoes, Red Onions, Barbecue Sauce    2372\n",
      "Sliced Ham, Pineapple, Mozzarella Cheese                                               2370\n",
      "Mozzarella Cheese, Pepperoni                                                           2369\n",
      "Chicken, Pineapple, Tomatoes, Red Peppers, Thai Sweet Chilli Sauce                     2315\n",
      "Name: count, dtype: int64\n",
      "\n",
      "🔹 Column: pizza_name\n",
      " - Unique: 32\n",
      " - Top 5:\n",
      "pizza_name\n",
      "The Classic Deluxe Pizza      2416\n",
      "The Barbecue Chicken Pizza    2372\n",
      "The Hawaiian Pizza            2370\n",
      "The Pepperoni Pizza           2369\n",
      "The Thai Chicken Pizza        2315\n",
      "Name: count, dtype: int64\n",
      "\n",
      "CORRELATION MATRIX (Top Pairs Only):\n",
      "order_id     pizza_id       0.999990\n",
      "total_price  unit_price     0.836087\n",
      "             quantity       0.541926\n",
      "unit_price   quantity       0.007142\n",
      "pizza_id     quantity       0.003639\n",
      "quantity     order_id       0.003621\n",
      "order_id     unit_price     0.003323\n",
      "unit_price   pizza_id       0.003286\n",
      "total_price  order_id       0.000889\n",
      "pizza_id     total_price    0.000847\n",
      "dtype: float64\n"
     ]
    }
   ],
   "source": [
    "data_overview(raw_data)"
   ]
  },
  {
   "cell_type": "markdown",
   "id": "f62273b4",
   "metadata": {},
   "source": [
    "SECTION 1: Data Preparation"
   ]
  },
  {
   "cell_type": "code",
   "execution_count": 6,
   "id": "c32c9327",
   "metadata": {},
   "outputs": [
    {
     "data": {
      "text/html": [
       "<div>\n",
       "<style scoped>\n",
       "    .dataframe tbody tr th:only-of-type {\n",
       "        vertical-align: middle;\n",
       "    }\n",
       "\n",
       "    .dataframe tbody tr th {\n",
       "        vertical-align: top;\n",
       "    }\n",
       "\n",
       "    .dataframe thead th {\n",
       "        text-align: right;\n",
       "    }\n",
       "</style>\n",
       "<table border=\"1\" class=\"dataframe\">\n",
       "  <thead>\n",
       "    <tr style=\"text-align: right;\">\n",
       "      <th></th>\n",
       "      <th>pizza_id</th>\n",
       "      <th>order_id</th>\n",
       "      <th>pizza_name_id</th>\n",
       "      <th>quantity</th>\n",
       "      <th>order_date</th>\n",
       "      <th>order_time</th>\n",
       "      <th>unit_price</th>\n",
       "      <th>total_price</th>\n",
       "      <th>pizza_size</th>\n",
       "      <th>pizza_category</th>\n",
       "      <th>pizza_ingredients</th>\n",
       "      <th>pizza_name</th>\n",
       "    </tr>\n",
       "  </thead>\n",
       "  <tbody>\n",
       "    <tr>\n",
       "      <th>0</th>\n",
       "      <td>1</td>\n",
       "      <td>1</td>\n",
       "      <td>hawaiian_m</td>\n",
       "      <td>1</td>\n",
       "      <td>2015-01-01</td>\n",
       "      <td>11:38:36</td>\n",
       "      <td>13.25</td>\n",
       "      <td>13.25</td>\n",
       "      <td>M</td>\n",
       "      <td>Classic</td>\n",
       "      <td>Sliced Ham, Pineapple, Mozzarella Cheese</td>\n",
       "      <td>The Hawaiian Pizza</td>\n",
       "    </tr>\n",
       "    <tr>\n",
       "      <th>1</th>\n",
       "      <td>2</td>\n",
       "      <td>2</td>\n",
       "      <td>classic_dlx_m</td>\n",
       "      <td>1</td>\n",
       "      <td>2015-01-01</td>\n",
       "      <td>11:57:40</td>\n",
       "      <td>16.00</td>\n",
       "      <td>16.00</td>\n",
       "      <td>M</td>\n",
       "      <td>Classic</td>\n",
       "      <td>Pepperoni, Mushrooms, Red Onions, Red Peppers,...</td>\n",
       "      <td>The Classic Deluxe Pizza</td>\n",
       "    </tr>\n",
       "    <tr>\n",
       "      <th>2</th>\n",
       "      <td>3</td>\n",
       "      <td>2</td>\n",
       "      <td>five_cheese_l</td>\n",
       "      <td>1</td>\n",
       "      <td>2015-01-01</td>\n",
       "      <td>11:57:40</td>\n",
       "      <td>18.50</td>\n",
       "      <td>18.50</td>\n",
       "      <td>L</td>\n",
       "      <td>Veggie</td>\n",
       "      <td>Mozzarella Cheese, Provolone Cheese, Smoked Go...</td>\n",
       "      <td>The Five Cheese Pizza</td>\n",
       "    </tr>\n",
       "    <tr>\n",
       "      <th>3</th>\n",
       "      <td>4</td>\n",
       "      <td>2</td>\n",
       "      <td>ital_supr_l</td>\n",
       "      <td>1</td>\n",
       "      <td>2015-01-01</td>\n",
       "      <td>11:57:40</td>\n",
       "      <td>20.75</td>\n",
       "      <td>20.75</td>\n",
       "      <td>L</td>\n",
       "      <td>Supreme</td>\n",
       "      <td>Calabrese Salami, Capocollo, Tomatoes, Red Oni...</td>\n",
       "      <td>The Italian Supreme Pizza</td>\n",
       "    </tr>\n",
       "    <tr>\n",
       "      <th>4</th>\n",
       "      <td>5</td>\n",
       "      <td>2</td>\n",
       "      <td>mexicana_m</td>\n",
       "      <td>1</td>\n",
       "      <td>2015-01-01</td>\n",
       "      <td>11:57:40</td>\n",
       "      <td>16.00</td>\n",
       "      <td>16.00</td>\n",
       "      <td>M</td>\n",
       "      <td>Veggie</td>\n",
       "      <td>Tomatoes, Red Peppers, Jalapeno Peppers, Red O...</td>\n",
       "      <td>The Mexicana Pizza</td>\n",
       "    </tr>\n",
       "  </tbody>\n",
       "</table>\n",
       "</div>"
      ],
      "text/plain": [
       "   pizza_id  order_id  pizza_name_id  quantity order_date order_time  \\\n",
       "0         1         1     hawaiian_m         1 2015-01-01   11:38:36   \n",
       "1         2         2  classic_dlx_m         1 2015-01-01   11:57:40   \n",
       "2         3         2  five_cheese_l         1 2015-01-01   11:57:40   \n",
       "3         4         2    ital_supr_l         1 2015-01-01   11:57:40   \n",
       "4         5         2     mexicana_m         1 2015-01-01   11:57:40   \n",
       "\n",
       "   unit_price  total_price pizza_size pizza_category  \\\n",
       "0       13.25        13.25          M        Classic   \n",
       "1       16.00        16.00          M        Classic   \n",
       "2       18.50        18.50          L         Veggie   \n",
       "3       20.75        20.75          L        Supreme   \n",
       "4       16.00        16.00          M         Veggie   \n",
       "\n",
       "                                   pizza_ingredients  \\\n",
       "0           Sliced Ham, Pineapple, Mozzarella Cheese   \n",
       "1  Pepperoni, Mushrooms, Red Onions, Red Peppers,...   \n",
       "2  Mozzarella Cheese, Provolone Cheese, Smoked Go...   \n",
       "3  Calabrese Salami, Capocollo, Tomatoes, Red Oni...   \n",
       "4  Tomatoes, Red Peppers, Jalapeno Peppers, Red O...   \n",
       "\n",
       "                  pizza_name  \n",
       "0         The Hawaiian Pizza  \n",
       "1   The Classic Deluxe Pizza  \n",
       "2      The Five Cheese Pizza  \n",
       "3  The Italian Supreme Pizza  \n",
       "4         The Mexicana Pizza  "
      ]
     },
     "execution_count": 6,
     "metadata": {},
     "output_type": "execute_result"
    }
   ],
   "source": [
    "raw_data.head(5)"
   ]
  },
  {
   "cell_type": "markdown",
   "id": "cedeb75b",
   "metadata": {},
   "source": [
    "DATA CLEANING (PYTHON + GEN AI)"
   ]
  },
  {
   "cell_type": "code",
   "execution_count": 7,
   "id": "bf4a1667",
   "metadata": {},
   "outputs": [
    {
     "data": {
      "text/plain": [
       "pizza_id                      int64\n",
       "order_id                      int64\n",
       "pizza_name_id                object\n",
       "quantity                      int64\n",
       "order_date           datetime64[ns]\n",
       "order_time                   object\n",
       "unit_price                  float64\n",
       "total_price                 float64\n",
       "pizza_size                   object\n",
       "pizza_category               object\n",
       "pizza_ingredients            object\n",
       "pizza_name                   object\n",
       "dtype: object"
      ]
     },
     "execution_count": 7,
     "metadata": {},
     "output_type": "execute_result"
    }
   ],
   "source": [
    "raw_data.dtypes"
   ]
  },
  {
   "cell_type": "code",
   "execution_count": 8,
   "id": "b297ed64",
   "metadata": {},
   "outputs": [
    {
     "name": "stdout",
     "output_type": "stream",
     "text": [
      "[INFO] [TRANSFORM] Prompt: update column 'order_time' which is in format hr:min:sec  to datatype date time\n",
      "[DEBUG] [TRANSFORM] Generated Code:\n",
      " import pandas as pd\n",
      "from datetime import datetime\n",
      "\n",
      "df['order_time'] = df['order_time'].apply(lambda x: datetime.strptime(x, '%H:%M:%S').time())\n",
      "[ERROR] Code execution failed: name 'datetime' is not defined\n",
      "[DEBUG] Failed code was:\n",
      " import pandas as pd\n",
      "from datetime import datetime\n",
      "\n",
      "df['order_time'] = df['order_time'].apply(lambda x: datetime.strptime(x, '%H:%M:%S').time())\n"
     ]
    }
   ],
   "source": [
    "data_clean = assistant.transform(raw_data, prompt=\"update column 'order_time' which is in format hr:min:sec  to datatype date time\")"
   ]
  },
  {
   "cell_type": "code",
   "execution_count": null,
   "id": "9fa09e9f",
   "metadata": {},
   "outputs": [],
   "source": []
  }
 ],
 "metadata": {
  "kernelspec": {
   "display_name": "Python 3",
   "language": "python",
   "name": "python3"
  },
  "language_info": {
   "codemirror_mode": {
    "name": "ipython",
    "version": 3
   },
   "file_extension": ".py",
   "mimetype": "text/x-python",
   "name": "python",
   "nbconvert_exporter": "python",
   "pygments_lexer": "ipython3",
   "version": "3.12.1"
  }
 },
 "nbformat": 4,
 "nbformat_minor": 5
}
